{
 "cells": [
  {
   "cell_type": "code",
   "execution_count": 1,
   "metadata": {
    "collapsed": true
   },
   "outputs": [],
   "source": [
    "%matplotlib inline\n",
    "%precision 16\n",
    "import numpy\n",
    "import matplotlib.pyplot as plt"
   ]
  },
  {
   "cell_type": "markdown",
   "metadata": {
    "nbgrader": {
     "grade": false,
     "grade_id": "header_1",
     "locked": true,
     "solution": false
    }
   },
   "source": [
    "Before you turn this problem in, make sure everything runs as expected. First, restart the kernel (in the menubar, select Kernel $\\rightarrow$ Restart) and then run all cells (in the menubar, select Cell $\\rightarrow$ Run All).\n",
    "\n",
    "Make sure you fill in any place that says YOUR CODE HERE or \"YOUR ANSWER HERE\", as well as your name and collaborators below:"
   ]
  },
  {
   "cell_type": "markdown",
   "metadata": {
    "nbgrader": {
     "grade": false,
     "grade_id": "header_2",
     "locked": true,
     "solution": false
    }
   },
   "source": [
    "# Midterm - Fall Semester 2016\n",
    "\n",
    "Guidelines:\n",
    "1. Use resources available to you from class and online.\n",
    "1. That being said this is an individual effort, do not work with others and cite what you do use.\n",
    "1. Copying is prohibited, write your own code and solutions.\n",
    "1. Do not use piazza for the duration of the exam, it will be frozen!  \n",
    "1. If you have a question please email the instructor and the TAs for maximal response possibilities.  We will answer questions that pertain only to clarification.  In particular this means we will not debug your code.\n",
    "1. Late turn in of the midterm will result in a 10% reduction every **HOUR** that it is late.  If you feel that there is a special circumstance that warrants consideration tells us **BEFORE** the Tuesday (and more so before the exam starts).\n",
    "\n",
    "Good luck!"
   ]
  },
  {
   "cell_type": "markdown",
   "metadata": {
    "nbgrader": {
     "grade": false,
     "grade_id": "Q-1",
     "locked": true,
     "solution": false
    }
   },
   "source": [
    "## Question 1"
   ]
  },
  {
   "cell_type": "markdown",
   "metadata": {
    "nbgrader": {
     "grade": false,
     "grade_id": "Q-1a",
     "locked": true,
     "solution": false
    }
   },
   "source": [
    "**(a)** (10 points)  Using the second order, centered difference approximation to the first derivative find the $\\Delta x$ that gives the smallest absolute error graphically for the function\n",
    "$$\n",
    "    f(x) = x \\sin(x) + 3 \\cos(x) - x\n",
    "$$  \n",
    "at $x = 2$.  Repeat this for the first order forward difference.  You do not have to be precise but be within an order of magnitude."
   ]
  },
  {
   "cell_type": "code",
   "execution_count": 2,
   "metadata": {
    "collapsed": false
   },
   "outputs": [
    {
     "name": "stdout",
     "output_type": "stream",
     "text": [
      "minimum error for 2nd order is: 4.35118607811e-12\n"
     ]
    },
    {
     "data": {
      "text/plain": [
       "[<matplotlib.lines.Line2D at 0x7f3f22fa9750>]"
      ]
     },
     "execution_count": 2,
     "metadata": {},
     "output_type": "execute_result"
    },
    {
     "data": {
      "image/png": "[encoded data removed]",
      "text/plain": [
       "<matplotlib.figure.Figure at 0x7f3f237f8f10>"
      ]
     },
     "metadata": {},
     "output_type": "display_data"
    }
   ],
   "source": [
    "### INSERT CODE HERE\n",
    "f = lambda x: x*numpy.sin(x) + 3*numpy.cos(x) - x\n",
    "f_prime = lambda x: numpy.sin(x) + x*numpy.cos(x) - 3*numpy.sin(x) - 1\n",
    "\n",
    "delta_x = []\n",
    "error = []\n",
    "\n",
    "for n in xrange(1,20):\n",
    "    N = 2**n + 1\n",
    "    x_hat = numpy.linspace(1.99, 2.01, N)\n",
    "    delta_x.append(x_hat[1] - x_hat[0])\n",
    "    # Compute derivative\n",
    "    f_prime_hat = numpy.empty(x_hat.shape)\n",
    "    # Second order, centered difference approximation\n",
    "    f_prime_hat[1:-1] = (f(x_hat[2:]) - f(x_hat[:-2])) / (2 * delta_x[-1])\n",
    "    # Use first-order differences for points at edge of domain\n",
    "    f_prime_hat[0] = (f(x_hat[1]) - f(x_hat[0])) / delta_x[-1]  \n",
    "    f_prime_hat[-1] = (f(x_hat[-1]) - f(x_hat[-2])) / delta_x[-1]\n",
    "    error.append(numpy.abs(f_prime(x_hat[n]) - f_prime_hat[n]))\n",
    "\n",
    "delta_x = numpy.array(delta_x)\n",
    "error = numpy.array(error)\n",
    "\n",
    "minimum = min(error)\n",
    "print 'minimum error for 2nd order is:',minimum\n",
    "\n",
    "plt.loglog(delta_x, error, 'bo')"
   ]
  },
  {
   "cell_type": "code",
   "execution_count": 3,
   "metadata": {
    "collapsed": false
   },
   "outputs": [
    {
     "name": "stdout",
     "output_type": "stream",
     "text": [
      "minimum error for 2nd order is: 1.62942819237e-08\n"
     ]
    },
    {
     "data": {
      "text/plain": [
       "[<matplotlib.lines.Line2D at 0x7f3f2274c3d0>]"
      ]
     },
     "execution_count": 3,
     "metadata": {},
     "output_type": "execute_result"
    },
    {
     "data": {
      "image/png": "[encoded data removed]",
      "text/plain": [
       "<matplotlib.figure.Figure at 0x7f3f106d2bd0>"
      ]
     },
     "metadata": {},
     "output_type": "display_data"
    }
   ],
   "source": [
    "### INSERT CODE HERE\n",
    "f = lambda x: x*numpy.sin(x) + 3*numpy.cos(x) - x\n",
    "f_prime = lambda x: numpy.sin(x) + x*numpy.cos(x) - 3*numpy.sin(x) - 1\n",
    "\n",
    "delta_x = []\n",
    "error = []\n",
    "\n",
    "for n in xrange(1,25):\n",
    "    N = 2**n + 1\n",
    "    x_hat = numpy.linspace(1.99, 2.01, N)\n",
    "    delta_x.append(x_hat[1] - x_hat[0])\n",
    "    # Compute derivative\n",
    "    f_prime_hat = numpy.empty(x_hat.shape)\n",
    "    # Second order, centered difference approximation\n",
    "    f_prime_hat[:-1] = (f(x_hat[1:]) - f(x_hat[:-1])) / (delta_x[-1])\n",
    "    # Use first-order differences for points at edge of domain\n",
    "    f_prime_hat[-1] = (f(x_hat[-1]) - f(x_hat[-2])) / delta_x[-1]\n",
    "    error.append(numpy.abs(f_prime(x_hat[n]) - f_prime_hat[n]))\n",
    "\n",
    "delta_x = numpy.array(delta_x)\n",
    "error = numpy.array(error)\n",
    "\n",
    "minimum = min(error)\n",
    "print 'minimum error for 2nd order is:',minimum\n",
    "\n",
    "plt.loglog(delta_x, error, 'bo')"
   ]
  },
  {
   "cell_type": "markdown",
   "metadata": {
    "nbgrader": {
     "grade": false,
     "grade_id": "Q-1b",
     "locked": true,
     "solution": false
    }
   },
   "source": [
    "**(b)** (3 points) Why is there an optimal $\\Delta x$?  Why might it be different for each approach?  What method would you choose?"
   ]
  },
  {
   "cell_type": "markdown",
   "metadata": {
    "nbgrader": {
     "grade": true,
     "grade_id": "A-1b",
     "locked": false,
     "points": 3,
     "solution": true
    }
   },
   "source": []
  },
  {
   "cell_type": "markdown",
   "metadata": {
    "nbgrader": {
     "grade": false,
     "grade_id": "Q-2",
     "locked": true,
     "solution": false
    }
   },
   "source": [
    "# Question 2"
   ]
  },
  {
   "cell_type": "markdown",
   "metadata": {
    "nbgrader": {
     "grade": false,
     "grade_id": "Q-2a",
     "locked": true,
     "solution": false
    }
   },
   "source": [
    "**(a)** (5 points) Analytically compute the interpolating polynomial given by the following data\n",
    "\n",
    "$\\begin{array}{l|l|l|l|l}\n",
    "x_j  & 0 & 1 & 2 & 3\\\\\n",
    "\\hline\n",
    "f_j & 0 & 0 & 6 & 24\n",
    "\\end{array}$"
   ]
  },
  {
   "cell_type": "markdown",
   "metadata": {
    "nbgrader": {
     "grade": true,
     "grade_id": "A-2a",
     "locked": false,
     "points": 5,
     "solution": true
    }
   },
   "source": [
    "### Solution\n",
    "Consider $P_3(x) = p_0 + p_1 x + p_2 x^2 + p_3 x^3$ with the four data points $(x_i, y_i), ~~ i = 0,1,2,3$.  We have four equations and four datas:\n",
    "\n",
    "$$P_3(0) = p_0 + p_1 * 0 + p_2 * 0^2 + p_3 * 0^3 = 0$$\n",
    "\n",
    "$$P_3(1) = p_0 + p_1 * 1 + p_2 * 1^2 + p_3 * 1^3 = 0$$\n",
    "\n",
    "$$P_3(2) = p_0 + p_1 * 2 + p_2 * 2^2 + p_3 * 2^3 = 6$$\n",
    "\n",
    "$$P_3(3) = p_0 + p_1 * 3 + p_2 * 3^2 + p_3 * 3^3 = 24$$\n",
    "\n",
    "After calculation, get $p_0 = 0$ $p_1 = -1$ $p_2 = 0$ $p_3 = 1$\n",
    "\n",
    "Therefore, the interpolating polynomial is $P_3(x) = -x + x^3$"
   ]
  },
  {
   "cell_type": "markdown",
   "metadata": {
    "nbgrader": {
     "grade": false,
     "grade_id": "Q-2b",
     "locked": true,
     "solution": false
    }
   },
   "source": [
    "**(b)** (3 points) Show that the interpolating polynomial you found is indeed an interpolant of the data."
   ]
  },
  {
   "cell_type": "markdown",
   "metadata": {
    "nbgrader": {
     "grade": true,
     "grade_id": "A-2b",
     "locked": false,
     "points": 3,
     "solution": true
    }
   },
   "source": [
    "### Solution\n",
    "Put the data into the interpolating polynomial, get:\n",
    "\n",
    "$P_3(0) = 0 + 0 = 0$\n",
    "\n",
    "$P_3(1) = -1 + 1 = 0$\n",
    "\n",
    "$P_3(2) = -2 + 8 = 6$\n",
    "\n",
    "$P_3(3) = -3 + 27 = 24$\n",
    "\n",
    "Therefore, the interpolating polynomial I found is indeed an interpolant of the data."
   ]
  },
  {
   "cell_type": "markdown",
   "metadata": {
    "nbgrader": {
     "grade": false,
     "grade_id": "Q-2c",
     "locked": true,
     "solution": false
    }
   },
   "source": [
    "**(c)** (2 points) Determine the first and second derivative of $p$ and use the result to describe the shape of the function that data may have come from.  "
   ]
  },
  {
   "cell_type": "markdown",
   "metadata": {
    "nbgrader": {
     "grade": true,
     "grade_id": "A-2c",
     "locked": false,
     "points": 2,
     "solution": true
    }
   },
   "source": [
    "### Solution\n",
    "\n",
    "Since we get $p(x) = -x + x^3$\n",
    "\n",
    "we can derive, \n",
    "\n",
    "$p'(x) = -1 + 3x^2$\n",
    "\n",
    "$p''(x) = 6x$\n",
    "\n",
    "we can find that when $x = \\frac {\\sqrt{3}}{3}, p' =0$ , when $x = 0, p'' =0$\n",
    "\n",
    "Therefore, when $x = \\frac {\\sqrt{3}}{3}$ and $x =- \\frac {\\sqrt{3}}{3}$, there exists extrema."
   ]
  },
  {
   "cell_type": "markdown",
   "metadata": {
    "nbgrader": {
     "grade": false,
     "grade_id": "Q-3d",
     "locked": true,
     "solution": false
    }
   },
   "source": [
    "**(d)** (3 points) Plot the interpolating polynomial with the data points included to verify all that you have found.  Make sure to properly label your plot.  Also mark the maxima and minima you found."
   ]
  },
  {
   "cell_type": "code",
   "execution_count": 4,
   "metadata": {
    "collapsed": false,
    "nbgrader": {
     "grade": true,
     "grade_id": "A-2d",
     "locked": false,
     "points": 3,
     "solution": true
    }
   },
   "outputs": [
    {
     "data": {
      "text/plain": [
       "[<matplotlib.lines.Line2D at 0x7f3f10589110>]"
      ]
     },
     "execution_count": 4,
     "metadata": {},
     "output_type": "execute_result"
    },
    {
     "data": {
      "image/png": "[encoded data removed]",
      "text/plain": [
       "<matplotlib.figure.Figure at 0x7f3f22fa94d0>"
      ]
     },
     "metadata": {},
     "output_type": "display_data"
    }
   ],
   "source": [
    "### INSERT CODE HERE\n",
    "f = lambda x: -x + x**3\n",
    "x_data = [0,1,2,3]\n",
    "y_data = [0,0,6,24]\n",
    "x = numpy.linspace(-1, 3.0, 100)\n",
    "x_minima = numpy.sqrt(3)/3\n",
    "x_maxima = -numpy.sqrt(3)/3\n",
    "\n",
    "plt.plot(x_data, y_data, 'ro')\n",
    "plt.plot(x, f(x))\n",
    "plt.plot(x_minima, f(x_minima),'ko')\n",
    "plt.plot(x_maxima, f(x_maxima),'ko')"
   ]
  },
  {
   "cell_type": "markdown",
   "metadata": {
    "nbgrader": {
     "grade": false,
     "grade_id": "Q-3",
     "locked": true,
     "solution": false
    }
   },
   "source": [
    "## Question 3\n",
    "\n",
    "Suppose we have a system of non-linear equations we want to solve.  Define\n",
    "$$\n",
    "    \\vec{x} = [x_0, x_1, \\ldots, x_n]\n",
    "$$ \n",
    "and \n",
    "$$\n",
    "    \\vec{f}(\\vec{x}) = [f_0(\\vec{x}), f_1(\\vec{x}), \\ldots, f_n(\\vec{x})] = \\vec{0}.\n",
    "$$ \n",
    "We can derive a multi-dimensional version of Newton's method by considering the multi-dimensional Taylor series around the point $\\vec{x}$ of each function $f_i$,\n",
    "$$\n",
    "    f_i(\\vec{x} + \\vec{\\delta}) = f_i(\\vec{x}) + \\sum^n_{j = 1} \\frac{\\partial f_i}{\\partial x_j} \\delta_j + \\mathcal{O}(\\Delta x^2).\n",
    "$$\n",
    "where\n",
    "$$\n",
    "    \\vec{\\delta} = [\\delta_0, \\delta_1, \\ldots, \\delta_n]\n",
    "$$\n",
    "and\n",
    "$$\n",
    "    \\Delta x = \\max_{i=0, n} \\delta_i.\n",
    "$$\n",
    "\n",
    "As we did before for Newton's method we drop the higher order terms and set $\\vec{f}(\\vec{x} + \\vec{\\delta}) = 0$ we can rewrite the above equation as\n",
    "$$\n",
    "    \\mathbf{J}(\\vec{x}) \\vec{\\delta} = -\\vec{f}(\\vec{x})\n",
    "$$\n",
    "where $\\mathbf{J}$ is the Jacobian matrix defined by\n",
    "$$\n",
    "    J_{ij} = \\frac{\\partial f_i}{\\partial x_j}.\n",
    "$$\n",
    "This is now a linear system that needs to be solved for the vector $\\vec{\\delta}$ which can then be used in the update formula\n",
    "$$\n",
    "    \\vec{x}_{i+1} = \\vec{x}_i + \\vec{\\delta}.\n",
    "$$\n",
    "\n",
    "For the rest of the question please consider the system (note that $\\log$ is the natural log)\n",
    "$$\\begin{aligned}\n",
    "    \\sin x + y^2 + \\log z - 7 = 0& \\\\\n",
    "    3 x + 2^y - z^3 + 1 = 0& \\\\\n",
    "    x + y + z - 5.0= 0&\n",
    "\\end{aligned}$$"
   ]
  },
  {
   "cell_type": "markdown",
   "metadata": {
    "nbgrader": {
     "grade": false,
     "grade_id": "Q-3a",
     "locked": true,
     "solution": false
    }
   },
   "source": [
    "**(a)** (3 points) Analytically find the Jacobian of the system of equations."
   ]
  },
  {
   "cell_type": "markdown",
   "metadata": {
    "nbgrader": {
     "grade": true,
     "grade_id": "A-3a",
     "locked": false,
     "points": 3,
     "solution": true
    }
   },
   "source": [
    "### Solution\n",
    "since,\n",
    "$$\n",
    "    J_{ij} = \\frac{\\partial f_i}{\\partial x_j}.\n",
    "$$\n",
    "\n",
    "If we lets:\n",
    "\n",
    "\n",
    "$$\\begin{aligned}\n",
    "    \\ f_1(x,y,z) = sin x + y^2 + \\log z - 7 = 0& \\\\\n",
    "      f_2(x,y,z) = 3 x + 2^y - z^3 + 1 = 0& \\\\\n",
    "      f_3(x,y,z) = x + y + z - 5.0= 0&\n",
    "\\end{aligned}$$\n",
    "\n",
    "\n",
    "we can get:\n",
    "\n",
    "$$\n",
    "J = \n",
    "\\begin{bmatrix} \n",
    "    \\frac{\\partial f_1}{\\partial x} & \\frac{\\partial f_1}{\\partial y} & \\frac{\\partial f_1}{\\partial z} \\\\\n",
    "    \\frac{\\partial f_2}{\\partial x} & \\frac{\\partial f_2}{\\partial y} & \\frac{\\partial f_2}{\\partial z} \\\\\n",
    "    \\frac{\\partial f_3}{\\partial x} & \\frac{\\partial f_3}{\\partial y} & \\frac{\\partial f_3}{\\partial z}\n",
    "\\end{bmatrix}\n",
    "$$\n",
    "\n",
    "Through calculation, we can get:\n",
    "$$\n",
    "J = \n",
    "\\begin{bmatrix} \n",
    "    cos(x) & 2y & \\frac{1}{z} \\\\\n",
    "    3 & 2^yln(2) & - 3z^2 \\\\\n",
    "    1 & 1 & 1\n",
    "\\end{bmatrix}\n",
    "$$"
   ]
  },
  {
   "cell_type": "markdown",
   "metadata": {
    "nbgrader": {
     "grade": false,
     "grade_id": "Q-3b",
     "locked": true,
     "solution": false
    }
   },
   "source": [
    "**(b)** (3 points) Write a function that computes the Jacobian matrix given a vector $\\vec{x} = [x, y ,z]$."
   ]
  },
  {
   "cell_type": "code",
   "execution_count": 5,
   "metadata": {
    "collapsed": true,
    "nbgrader": {
     "grade": false,
     "grade_id": "A-3b",
     "locked": false,
     "solution": true
    }
   },
   "outputs": [],
   "source": [
    "def jacobian(x):\n",
    "    ### INSERT CODE HERE\n",
    "    J = numpy.zeros((3,3))\n",
    "    J[0,0] = numpy.cos(x[0])\n",
    "    J[0,1] = 2. * x[1]\n",
    "    J[0,2] = 1. / x[2]\n",
    "    J[1,0] = 3.\n",
    "    J[1,1] = 2**x[1] * numpy.log(2)\n",
    "    J[1,2] = -3. * x[2]**2\n",
    "    J[2,0] = 1\n",
    "    J[2,1] = 1\n",
    "    J[2,2] = 1\n",
    "    return J"
   ]
  },
  {
   "cell_type": "code",
   "execution_count": 6,
   "metadata": {
    "collapsed": false,
    "nbgrader": {
     "grade": true,
     "grade_id": "T-3b",
     "locked": true,
     "points": 3,
     "solution": false
    }
   },
   "outputs": [
    {
     "name": "stdout",
     "output_type": "stream",
     "text": [
      "Success!\n"
     ]
    }
   ],
   "source": [
    "x = (1.0, 1.0, 1.0)\n",
    "answer = jacobian(x)\n",
    "true = numpy.array([[ 0.5403023058681398, 2.0, 1.0],\n",
    "                    [ 3.0, 1.3862943611198906, -3.0],\n",
    "                    [1.0, 1.0, 1.0]])\n",
    "numpy.testing.assert_allclose(jacobian((1.0, 1.0, 1.0)), true)\n",
    "print \"Success!\""
   ]
  },
  {
   "cell_type": "markdown",
   "metadata": {
    "nbgrader": {
     "grade": false,
     "grade_id": "Q-3c",
     "locked": true,
     "solution": false
    }
   },
   "source": [
    "**(c)** (10 points) Using the function from (b) write a new function that finds the root given an initial guess $\\vec{x}_0$ using Newton's method for the system.  Use the `numpy.linalg.solve` command to solve the linear system at each step.  As a stopping criteria check that the distance of $\\vec{f}(\\vec{x})$ from $\\vec{0}$ is below the given tolerance."
   ]
  },
  {
   "cell_type": "code",
   "execution_count": 7,
   "metadata": {
    "collapsed": false,
    "nbgrader": {
     "grade": false,
     "grade_id": "A-3c",
     "locked": false,
     "solution": true
    }
   },
   "outputs": [],
   "source": [
    "def newton(x, tolerance=1e-10):\n",
    "    ### INSERT CODE HERE\n",
    "    f1 = lambda x,y,z: numpy.sin(x) + y**2 + numpy.log(z) - 7.0\n",
    "    f2 = lambda x,y,z: 3.*x + 2**y - z**3 + 1.0\n",
    "    f3 = lambda x,y,z: x + y + z - 5.0\n",
    "    f = numpy.zeros((3,1))\n",
    "    x = numpy.array(x)\n",
    "    for i in xrange(100):\n",
    "        f[0] = f1(x[0],x[1],x[2])\n",
    "        f[1] = f2(x[0],x[1],x[2])\n",
    "        f[2] = f3(x[0],x[1],x[2])\n",
    "        J = numpy.linalg.solve(jacobian(x),-f)\n",
    "        x[0] = J[0] + x[0]\n",
    "        x[1] = J[1] + x[1]\n",
    "        x[2] = J[2] + x[2]\n",
    "        if (abs(f[0])<tolerance):\n",
    "            break\n",
    "    return x"
   ]
  },
  {
   "cell_type": "code",
   "execution_count": 8,
   "metadata": {
    "collapsed": false,
    "nbgrader": {
     "grade": true,
     "grade_id": "T-3c",
     "locked": true,
     "points": 10,
     "solution": false
    }
   },
   "outputs": [
    {
     "name": "stdout",
     "output_type": "stream",
     "text": [
      "Success!\n"
     ]
    }
   ],
   "source": [
    "numpy.testing.assert_allclose(newton(x), numpy.array([ 0.5990537566405669, 2.3959314023778169, 2.005014840981616 ]))\n",
    "print \"Success!\""
   ]
  },
  {
   "cell_type": "markdown",
   "metadata": {
    "nbgrader": {
     "grade": false,
     "grade_id": "Q-4",
     "locked": true,
     "solution": false
    }
   },
   "source": [
    "## Question 4\n",
    "\n",
    "Consider the Lennard-Jones potential between two molecules\n",
    "$$\n",
    "    V(r) = 4 \\epsilon \\left [ \\left(\\frac{\\sigma}{r} \\right)^{12} - \\left( \\frac{\\sigma}{r} \\right)^6 \\right ]\n",
    "$$\n",
    "where $\\epsilon$ and $\\sigma$ are constants, and $r$ is the distance between the molecules."
   ]
  },
  {
   "cell_type": "markdown",
   "metadata": {
    "nbgrader": {
     "grade": false,
     "grade_id": "Q-4a",
     "locked": true,
     "solution": false
    }
   },
   "source": [
    "**(a)** (10 points) Analytically find the minimum $\\sigma / r$ that minimizes the potential.  Plot the potential and the minimum you found as a check."
   ]
  },
  {
   "cell_type": "markdown",
   "metadata": {
    "nbgrader": {
     "grade": true,
     "grade_id": "A-4a",
     "locked": false,
     "points": 10,
     "solution": true
    }
   },
   "source": [
    "### Solution\n",
    "Lets $\\left( \\frac{\\sigma}{r} \\right)^6 = k$, we can simplify the function to:\n",
    "$$V(r) = 4 \\epsilon \\left ( k^2 - k \\right )$$\n",
    "When $k = \\frac{1}{2} $, we can get the minimum of potential, $V(r) = 4 \\epsilon(\\frac{1}{4}-\\frac{1}{2}) = -\\epsilon$\n",
    "\n",
    "Therefore, when $\\sigma / r = \\sqrt[6]{\\frac{1}{2}} \\approx 0.89$ , it will minimizes the potential."
   ]
  },
  {
   "cell_type": "code",
   "execution_count": 9,
   "metadata": {
    "collapsed": false
   },
   "outputs": [
    {
     "data": {
      "text/plain": [
       "[<matplotlib.lines.Line2D at 0x7f3f1073da90>]"
      ]
     },
     "execution_count": 9,
     "metadata": {},
     "output_type": "execute_result"
    },
    {
     "data": {
      "image/png": "[encoded data removed]",
      "text/plain": [
       "<matplotlib.figure.Figure at 0x7f3f1077a490>"
      ]
     },
     "metadata": {},
     "output_type": "display_data"
    }
   ],
   "source": [
    "f = lambda x: 4*(x**12 - x**6)\n",
    "\n",
    "x = numpy.linspace(0.1, 1.1, 100)\n",
    "plt.plot(x,f(x))"
   ]
  },
  {
   "cell_type": "markdown",
   "metadata": {
    "nbgrader": {
     "grade": false,
     "grade_id": "Q-4b",
     "locked": true,
     "solution": false
    }
   },
   "source": [
    "**(b)** (10 points) Using Golden section search compute the minimum of the potential numerically down to a bracket size of $10^{-6}$.  Plot the convergence to the true solution you found (the location) above at each step of the algorithm.  Also plot the potential and the minimum you found.  You can choose any value of $\\epsilon$ you want."
   ]
  },
  {
   "cell_type": "code",
   "execution_count": 22,
   "metadata": {
    "collapsed": false,
    "nbgrader": {
     "grade": true,
     "grade_id": "A-4b",
     "locked": false,
     "points": 10,
     "solution": true
    }
   },
   "outputs": [
    {
     "name": "stdout",
     "output_type": "stream",
     "text": [
      "Success!\n",
      "  x = 0.890898801085\n",
      "  f(x) = -1.0\n",
      "  number of steps = 29\n"
     ]
    },
    {
     "data": {
      "image/png": "[encoded data removed]",
      "text/plain": [
       "<matplotlib.figure.Figure at 0x7f3f101dc310>"
      ]
     },
     "metadata": {},
     "output_type": "display_data"
    }
   ],
   "source": [
    "### INSERT CODE HERE\n",
    "phi = (numpy.sqrt(5.0) - 1.0) / 2.0\n",
    "\n",
    "TOLERANCE = 1e-6\n",
    "MAX_STEPS = 100\n",
    "\n",
    "a = 0.1\n",
    "b = 1.1\n",
    "c = b - phi * (b - a)\n",
    "d = a + phi * (b - a)\n",
    "\n",
    "t = numpy.linspace(0.1, 1.1, 200)\n",
    "fig = plt.figure()\n",
    "axes = fig.add_subplot(1, 1, 1)\n",
    "axes.plot(t, f(t))\n",
    "\n",
    "for n in xrange(1, MAX_STEPS + 1):\n",
    "    axes.plot(a, f(a),'ko')\n",
    "    axes.plot(b, f(b),'ko')\n",
    "    fc = f(c)\n",
    "    fd = f(d)\n",
    "    \n",
    "    if fc < fd:\n",
    "        b = d\n",
    "        d = c\n",
    "        c = b - phi * (b - a)\n",
    "    else:\n",
    "        a = c\n",
    "        c = d\n",
    "        d = a + phi * (b - a)\n",
    "        \n",
    "    if numpy.abs(b - a) < TOLERANCE:\n",
    "        success = True\n",
    "        break\n",
    "\n",
    "if success:\n",
    "    print \"Success!\"\n",
    "    print \"  x = %s\" % str((b + a) / 2.0)\n",
    "    print \"  f(x) = %s\" % f((b + a) / 2.0)\n",
    "    print \"  number of steps = %s\" % n\n",
    "else:\n",
    "    print \"Reached maximum number of steps!\""
   ]
  },
  {
   "cell_type": "markdown",
   "metadata": {
    "nbgrader": {
     "grade": false,
     "grade_id": "Q-5",
     "locked": true,
     "solution": false
    }
   },
   "source": [
    "## Question 5\n",
    "\n",
    "The equation for an ellipse is $x^2/a^2 + y^2/b^2=1$.  The general equation for arc-length and therfore the circumference of an ellipse can be computed using\n",
    "$$\n",
    "    S = 2 \\int^a_{-a} \\sqrt{1 + (\\text{d}y/\\text{d}x)^2} dx.\n",
    "$$"
   ]
  },
  {
   "cell_type": "markdown",
   "metadata": {
    "nbgrader": {
     "grade": false,
     "grade_id": "Q-5a",
     "locked": true,
     "solution": false
    }
   },
   "source": [
    "**(a)** (3 points) We can approximate the circumference by following a paper by Srinivasa Ramanujan in 1914 [1] where\n",
    "$$\n",
    "    S \\approx \\pi (a + b) \\left ( 1 + \\frac{3 h}{10 + \\sqrt{4 - 3 h}} \\right )\n",
    "$$\n",
    "\n",
    "which is $h^5$ order accurate where \n",
    "$$\n",
    "    h = \\frac{(a-b)^2}{(a + b)^2}.\n",
    "$$\n",
    "Implement a function that computes the approximation using Ramanujan's result.\n",
    "\n",
    "1. Ramanujan, Srinivasa, (1914). \"Modular Equations and Approximations to $\\pi$\". \n",
    "   Quart. J. Pure App. Math. 45: 350-372."
   ]
  },
  {
   "cell_type": "code",
   "execution_count": 11,
   "metadata": {
    "collapsed": true,
    "nbgrader": {
     "grade": false,
     "grade_id": "A-5a",
     "locked": false,
     "solution": true
    }
   },
   "outputs": [],
   "source": [
    "def S_ramanujan(a, b):\n",
    "    ### INSERT CODE HERE\n",
    "    h = (a-b)**2 / (a+b)**2\n",
    "    S = numpy.pi * (a + b) * (1 + (3*h/(10+numpy.sqrt(4-3*h))))\n",
    "    return S"
   ]
  },
  {
   "cell_type": "code",
   "execution_count": 12,
   "metadata": {
    "collapsed": false,
    "nbgrader": {
     "grade": true,
     "grade_id": "T-5a",
     "locked": true,
     "points": 3,
     "solution": false
    }
   },
   "outputs": [
    {
     "name": "stdout",
     "output_type": "stream",
     "text": [
      "Computed = 13.1058075041\n",
      "True = 13.1058075041\n",
      "Error = 1.7763568394e-15\n",
      "Success!\n"
     ]
    }
   ],
   "source": [
    "x = numpy.random.random((2)) * 2.0 + 1.0\n",
    "x.sort()\n",
    "import scipy.special\n",
    "S_exact = lambda a, b: 4.0 * a * scipy.special.ellipe(1.0 - b**2 / a**2)\n",
    "computed = S_ramanujan(x[1], x[0])\n",
    "true = S_exact(x[1], x[0])\n",
    "print \"Computed = %s\" % computed\n",
    "print \"True = %s\" % true\n",
    "print \"Error = %s\" % (numpy.abs(computed - true))\n",
    "numpy.testing.assert_allclose(computed, true)\n",
    "print \"Success!\""
   ]
  },
  {
   "cell_type": "markdown",
   "metadata": {
    "nbgrader": {
     "grade": false,
     "grade_id": "Q-5b",
     "locked": true,
     "solution": false
    }
   },
   "source": [
    "**(b)** (10 points) Another way to compute the circumference is to use a series due to Ivory and Bessel (you can find the original papers online which may be worth a look).  One way to write this series is\n",
    "\n",
    "$$S = \\pi (a + b) \\sum^{\\infty}_{n=0} \\left(\\begin{aligned} 0.5 \\\\ n~~ \\end{aligned} \\right)^2 h^n ~~~~~ \\text{with} ~~~~~~ h = \\frac{(a - b)^2}{(a+b)^2}$$\n",
    "\n",
    "where $\\left(\\begin{aligned} 0.5 \\\\ n~~ \\end{aligned} \\right)$ is the binomial coefficient which can be computed via a `scipy` function.  Write a function to compute this series to a point where the difference between the partial sums is less than $\\epsilon_{\\text{machine}}$."
   ]
  },
  {
   "cell_type": "code",
   "execution_count": 13,
   "metadata": {
    "collapsed": true,
    "nbgrader": {
     "grade": false,
     "grade_id": "A-5b",
     "locked": false,
     "solution": true
    }
   },
   "outputs": [],
   "source": [
    "def S_ivory(a, b):\n",
    "    ### INSERT CODE HERE\n",
    "    #import scipy.special\n",
    "    h = (a-b)**2 / (a+b)**2\n",
    "    TOLERANCE = numpy.finfo(float).eps\n",
    "    MAX_STEPS = 100\n",
    "    Sum = 0.0\n",
    "    for n in xrange(0,MAX_STEPS):\n",
    "        Sum += scipy.special.binom(0.5,n) * scipy.special.binom(0.5,n) * h**n\n",
    "        if(abs(numpy.pi*(a+b) * scipy.special.binom(0.5,n) * scipy.special.binom(0.5,n) * h**n) < TOLERANCE):\n",
    "            break\n",
    "    S = numpy.pi*(a+b)*Sum\n",
    "    \n",
    "    return S"
   ]
  },
  {
   "cell_type": "code",
   "execution_count": 14,
   "metadata": {
    "collapsed": false,
    "nbgrader": {
     "grade": true,
     "grade_id": "T-5b",
     "locked": true,
     "points": 10,
     "solution": false
    },
    "scrolled": true
   },
   "outputs": [
    {
     "name": "stdout",
     "output_type": "stream",
     "text": [
      "Computed = 10.6177906687\n",
      "True = 10.6177906687\n",
      "Error = 1.7763568394e-15\n",
      "Success!\n"
     ]
    }
   ],
   "source": [
    "x = numpy.random.random((2)) * 2.0 + 1.0\n",
    "x.sort()\n",
    "import scipy.special\n",
    "S_exact = lambda a, b: 4.0 * a * scipy.special.ellipe(1.0 - b**2 / a**2)\n",
    "computed = S_ivory(x[1], x[0])\n",
    "true = S_exact(x[1], x[0])\n",
    "print \"Computed = %s\" % computed\n",
    "print \"True = %s\" % true\n",
    "print \"Error = %s\" % (numpy.abs(computed - true))\n",
    "numpy.testing.assert_allclose(computed, true)\n",
    "print \"Success!\""
   ]
  },
  {
   "cell_type": "markdown",
   "metadata": {
    "nbgrader": {
     "grade": false,
     "grade_id": "Q-5c",
     "locked": true,
     "solution": false
    }
   },
   "source": [
    "**(c)** (5 points) Derive an expression for the integrand using implicit differentiation."
   ]
  },
  {
   "cell_type": "markdown",
   "metadata": {
    "nbgrader": {
     "grade": true,
     "grade_id": "A-5c",
     "locked": false,
     "points": 5,
     "solution": true
    }
   },
   "source": [
    "### Solution\n",
    "For the original equation: $x^2/a^2 + y^2/b^2=1$\n",
    "\n",
    "Differentiate both side, we can get:\n",
    "$$\\frac{d(\\frac{x^2}{a^2})}{dx} + \\frac{d(\\frac{y^2}{b^2})}{dx}= 0$$\n",
    "\n",
    "$$ \\frac{2x}{a^2} + \\frac{(\\frac{y^2}{b^2})}{dy} \\frac{dy}{dx}= 0 $$\n",
    "\n",
    "$$ \\frac{2x}{a^2} + (\\frac{2y}{b^2}) \\frac{dy}{dx}= 0 $$\n",
    "\n",
    "$$ \\frac{dy}{dx} = \\frac{-xb^2}{ya^2} $$\n",
    "\n",
    "$$ dy = \\frac{-xb^2}{ya^2}dx $$\n",
    "\n",
    "Because $x^2/a^2 + y^2/b^2=1$, we can get: $y = \\pm \\sqrt{1-x^2/a^2 } \\cdot b $\n",
    "\n",
    "Therefore, \n",
    "$$ dy = \\pm \\frac{x \\cdot b}{\\sqrt{a^2-x^2 } \\cdot a}dx $$\n",
    "\n",
    "Since,\n",
    "$$ S = 2 \\int^a_{-a} \\sqrt{1 + (\\text{d}y/\\text{d}x)^2} dx. $$\n",
    "\n",
    "we can get:"
   ]
  },
  {
   "cell_type": "markdown",
   "metadata": {
    "nbgrader": {
     "grade": false,
     "grade_id": "Q-5d",
     "locked": true,
     "solution": false
    }
   },
   "source": [
    "**(d)** (10 points) Write a function that computes the integral to a given tolerance.  Note that this may converge very slowly so use a high enough order quadrature rule so that the computation takes less than a minute to do (this will result in an error otherwise).  Suggested largest $N$ is $1000$.  If the integration does not succeed raise a `ValueError`.  Use the `S_exact` function used in the tests above to evaluate the tolerance."
   ]
  },
  {
   "cell_type": "code",
   "execution_count": 15,
   "metadata": {
    "collapsed": false,
    "nbgrader": {
     "grade": false,
     "grade_id": "A-5d",
     "locked": false,
     "solution": true
    }
   },
   "outputs": [],
   "source": [
    "#def S_direct(a, b, tolerance):\n",
    "#    ### INSERT CODE HERE\n",
    "#    f = lambda x: numpy.sqrt((a**4 - a*a*(x**2) + b*b*(x**2))/(a**4 - a*a*(x**2))) \n",
    "#    #x = numpy.linspace(-a, a, 100)\n",
    "#    num_partitions = 100\n",
    "#    x_hat = numpy.linspace(-a+0.001, a-0.001, num_partitions + 1)\n",
    "#    delta_x = x_hat[1] - x_hat[0]\n",
    "#    Qf = numpy.zeros(x_hat.shape)\n",
    "#    Qf[0] = delta_x * (1.0 / 6.0 * (f(x_hat[0]) + f(x_hat[1])) + 2.0 / 3.0 * f(x_hat[0] + delta_x / 2.0))\n",
    "#    print Qf[0]\n",
    "#    for i in xrange(1, num_partitions):\n",
    "#        Qf[i] = Qf[i - 1] + delta_x * (1.0 / 6.0 * (f(x_hat[i]) + f(x_hat[i+1])) + 2.0 / 3.0 * f(x_hat[i] + delta_x / 2.0))\n",
    "#    S = 2. * Qf[num_partitions-1]\n",
    "#    #print Qf\n",
    "#    return S"
   ]
  },
  {
   "cell_type": "code",
   "execution_count": 16,
   "metadata": {
    "collapsed": true
   },
   "outputs": [],
   "source": [
    "def S_direct(a, b, tolerance):\n",
    "    f = lambda x: numpy.sqrt(((a**4)*(1.-x**2) + (a**2)*(b**2)*(x**2))/((a**2)*(1.-x**2)))\n",
    "    num_partitions = 1000\n",
    "    x_hat = numpy.linspace(-1, 1, num_partitions + 1)\n",
    "    delta_x = x_hat[1] - x_hat[0]\n",
    "    \n",
    "    xi_map = lambda a,b,xi : (b - a) / 2.0 * xi + (a + b) / 2.0\n",
    "    xi_0 = -numpy.sqrt(1.0 / 3.0)\n",
    "    xi_1 =  numpy.sqrt(1.0 / 3.0)\n",
    "    Qf = numpy.zeros(x_hat.shape)\n",
    "    Qf[0] = (f(xi_map(x_hat[0], x_hat[1], xi_0)) + f(xi_map(x_hat[0], x_hat[1], xi_1))) * delta_x / 2.0\n",
    "    for i in xrange(1, num_partitions):\n",
    "        Qf[i] = Qf[i - 1] + (f(xi_map(x_hat[i], x_hat[i+1], xi_0)) + f(xi_map(x_hat[i], x_hat[i+1], xi_1))) * delta_x / 2.0\n",
    "    S = 2.*Qf[num_partitions-1]\n",
    "    return S"
   ]
  },
  {
   "cell_type": "code",
   "execution_count": 17,
   "metadata": {
    "collapsed": true
   },
   "outputs": [],
   "source": [
    "def S_direct(a, b, tolerance):\n",
    "    f = lambda x: numpy.sqrt(((a**4)*(1.-x**2) + (a**2)*(b**2)*(x**2))/((a**2)*(1.-x**2)))\n",
    "    S_exact = lambda a, b: 4.0 * a * scipy.special.ellipe(1.0 - b**2 / a**2)\n",
    "    num_partitions = 1000\n",
    "    x_hat = numpy.linspace(-1, 1, num_partitions + 1)\n",
    "    delta_x = x_hat[1] - x_hat[0]\n",
    "    \n",
    "    xi_map = lambda a,b,xi : (b - a) / 2.0 * xi + (a + b) / 2.0\n",
    "    xi_0 = -numpy.sqrt(1.0 / 3.0)\n",
    "    xi_1 =  numpy.sqrt(1.0 / 3.0)\n",
    "    Qf = numpy.zeros(x_hat.shape)\n",
    "    Qf[0] = (f(xi_map(x_hat[0], x_hat[1], xi_0)) + f(xi_map(x_hat[0], x_hat[1], xi_1))) * delta_x / 2.0\n",
    "    for i in xrange(1, num_partitions):\n",
    "        Qf[i] = Qf[i - 1] + (f(xi_map(x_hat[i], x_hat[i+1], xi_0)) + f(xi_map(x_hat[i], x_hat[i+1], xi_1))) * delta_x / 2.0\n",
    "    S = 2.*Qf[num_partitions-1]\n",
    "    return S"
   ]
  },
  {
   "cell_type": "code",
   "execution_count": 18,
   "metadata": {
    "collapsed": false,
    "nbgrader": {
     "grade": true,
     "grade_id": "T-5d",
     "locked": true,
     "points": 10,
     "solution": false
    }
   },
   "outputs": [
    {
     "name": "stdout",
     "output_type": "stream",
     "text": [
      "Computed = 15.0210154882\n",
      "True = 15.1009220807\n",
      "Error = 0.0799065924891\n",
      "Success!\n"
     ]
    }
   ],
   "source": [
    "x = numpy.random.random((2)) * 2.0 + 1.0\n",
    "x.sort()\n",
    "import scipy.special\n",
    "S_exact = lambda a, b: 4.0 * a * scipy.special.ellipe(1.0 - b**2 / a**2)\n",
    "tolerance = 1e-1\n",
    "computed = S_direct(x[1], x[0], tolerance)\n",
    "true = S_exact(x[1], x[0])\n",
    "print \"Computed = %s\" % computed\n",
    "print \"True = %s\" % true\n",
    "print \"Error = %s\" % (numpy.abs(computed - true))\n",
    "numpy.testing.assert_allclose(computed, true, atol=tolerance)\n",
    "print \"Success!\""
   ]
  },
  {
   "cell_type": "markdown",
   "metadata": {
    "nbgrader": {
     "grade": false,
     "grade_id": "Q-5e",
     "locked": true,
     "solution": false
    }
   },
   "source": [
    "**(e)** (10 points) Note that we have been using a special function from SciPy called `ellipe`.  This function computes the elliptic integral of the second kind\n",
    "$$\n",
    "    E(e) = \\int^{\\pi/2}_0 \\sqrt{1 - e^2 \\sin^2 \\theta} d\\theta\n",
    "$$\n",
    "which is the arc-length over one quadrant of the ellipse.  The value $e$ is the eccentricity defined as\n",
    "$$\n",
    "    e = \\sqrt{1 - b^2 / a^2}\n",
    "$$\n",
    "where here we need to define $a$ as the major-axis and $b$ the minor-axis of the ellipse (this definition is slightly different than the one in SciPy which we have been accommodating).  Elliptic integrals are a broad class of special functions that all arose from attempts at computing things related to ellipses.\n",
    "\n",
    "Again write a function that computes the circumference of an ellipse to a provided tolerance but using this formulation of the problem.  If the integration does not succeed raise a `ValueError`.  Remember that computing the function above only gives you one quarter of the circumference and to find the total circumference you want to use\n",
    "$$\n",
    "    S = 4 a E(e).\n",
    "$$"
   ]
  },
  {
   "cell_type": "code",
   "execution_count": 19,
   "metadata": {
    "collapsed": true,
    "nbgrader": {
     "grade": false,
     "grade_id": "A-5e",
     "locked": false,
     "solution": true
    }
   },
   "outputs": [],
   "source": [
    "def S_elliptic_integral(a, b, tolerance):\n",
    "    ### INSERT CODE HERE\n",
    "    e = numpy.sqrt(1-(b**2)/(a**2))\n",
    "    f = lambda x: numpy.sqrt(1.-(e**2)*numpy.sin(numpy.pi/4.*(x + 1.))**2) * numpy.pi/4.\n",
    "    num_partitions = 1000\n",
    "    x_hat = numpy.linspace(-1, 1, num_partitions + 1)\n",
    "    delta_x = x_hat[1] - x_hat[0]\n",
    "    \n",
    "    xi_map = lambda a,b,xi : (b - a) / 2.0 * xi + (a + b) / 2.0\n",
    "    xi_0 = -numpy.sqrt(1.0 / 3.0)\n",
    "    xi_1 =  numpy.sqrt(1.0 / 3.0)\n",
    "    Qf = numpy.zeros(x_hat.shape)\n",
    "    Qf[0] = (f(xi_map(x_hat[0], x_hat[1], xi_0)) + f(xi_map(x_hat[0], x_hat[1], xi_1))) * delta_x / 2.0\n",
    "    for i in xrange(1, num_partitions):\n",
    "        Qf[i] = Qf[i - 1] + (f(xi_map(x_hat[i], x_hat[i+1], xi_0)) + f(xi_map(x_hat[i], x_hat[i+1], xi_1))) * delta_x / 2.0\n",
    "    S = 4*a*Qf[num_partitions-1]\n",
    "    return S"
   ]
  },
  {
   "cell_type": "code",
   "execution_count": 20,
   "metadata": {
    "collapsed": false,
    "nbgrader": {
     "grade": true,
     "grade_id": "T-5e",
     "locked": true,
     "points": 10,
     "solution": false
    }
   },
   "outputs": [
    {
     "name": "stdout",
     "output_type": "stream",
     "text": [
      "Computed = 10.9761299587\n",
      "True = 10.9761299587\n",
      "Error = 7.1054273576e-15\n",
      "Success!\n"
     ]
    }
   ],
   "source": [
    "x = numpy.random.random((2)) * 2.0 + 1.0\n",
    "x.sort()\n",
    "import scipy.special\n",
    "S_exact = lambda a, b: 4.0 * a * scipy.special.ellipe(1.0 - b**2 / a**2)\n",
    "tolerance = 1e-10\n",
    "computed = S_elliptic_integral(x[1], x[0], tolerance)\n",
    "true = S_exact(x[1], x[0])\n",
    "print \"Computed = %s\" % computed\n",
    "print \"True = %s\" % true\n",
    "print \"Error = %s\" % (numpy.abs(computed - true))\n",
    "numpy.testing.assert_allclose(computed, true, atol=tolerance)\n",
    "print \"Success!\""
   ]
  },
  {
   "cell_type": "code",
   "execution_count": null,
   "metadata": {
    "collapsed": true
   },
   "outputs": [],
   "source": []
  }
 ],
 "metadata": {
  "kernelspec": {
   "display_name": "Python 2",
   "language": "python",
   "name": "python2"
  },
  "language_info": {
   "codemirror_mode": {
    "name": "ipython",
    "version": 2
   },
   "file_extension": ".py",
   "mimetype": "text/x-python",
   "name": "python",
   "nbconvert_exporter": "python",
   "pygments_lexer": "ipython2",
   "version": "2.7.10"
  },
  "latex_envs": {
   "bibliofile": "biblio.bib",
   "cite_by": "apalike",
   "current_citInitial": 1,
   "eqLabelWithNumbers": true,
   "eqNumInitial": 0
  }
 },
 "nbformat": 4,
 "nbformat_minor": 0
}
