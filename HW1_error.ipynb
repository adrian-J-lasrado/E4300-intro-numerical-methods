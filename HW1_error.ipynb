{
 "cells": [
  {
   "cell_type": "code",
   "execution_count": 1,
   "metadata": {
    "collapsed": true,
    "nbgrader": {
     "grade": false,
     "grade_id": "header1",
     "locked": true,
     "solution": false
    }
   },
   "outputs": [],
   "source": [
    "%matplotlib inline\n",
    "%precision 16\n",
    "import numpy\n",
    "import matplotlib.pyplot as plt"
   ]
  },
  {
   "cell_type": "markdown",
   "metadata": {
    "nbgrader": {
     "grade": false,
     "grade_id": "header2",
     "locked": true,
     "solution": false
    }
   },
   "source": [
    "Before you turn this problem in, make sure everything runs as expected. First, restart the kernel (in the menubar, select Kernel $\\rightarrow$ Restart) and then run all cells (in the menubar, select Cell $\\rightarrow$ Run All).\n",
    "\n",
    "Make sure you fill in any place that says YOUR CODE HERE or \"YOUR ANSWER HERE\", as well as your name and collaborators below:"
   ]
  },
  {
   "cell_type": "markdown",
   "metadata": {
    "nbgrader": {
     "grade": false,
     "grade_id": "header3",
     "locked": true,
     "solution": false
    }
   },
   "source": [
    "# HW 1 - Forms of Error"
   ]
  },
  {
   "cell_type": "markdown",
   "metadata": {
    "nbgrader": {
     "grade": false,
     "grade_id": "Q1",
     "locked": true,
     "points": 1,
     "solution": false
    }
   },
   "source": [
    "## Question 1\n",
    "\n",
    "Find the absolute error, relative error, and decimal precision (number of significant decimal digits) for the following $f$ and approximations $\\hat{f}$.  Note that here we may also mean precision as compared to $f$.  In these cases use the absolute error to help define $\\hat{f}$'s precision (each worth 5 points).\n",
    "\n",
    "**(a)** $f = \\pi$ and $\\hat{f} = 3.14$\n",
    "\n",
    "**(b)** $f = \\pi$ and $\\hat{f} = 22 / 7$\n",
    "\n",
    "**(c)** $f = \\log (n!)$ and $\\hat{f} = n~log(n) - n$ for $n = 5, ~~ 10, ~~ 100$ (Stirling's approximation)\n",
    "\n",
    "**(d)** $f = e^x$ and $\\hat{f} = T_n(x)$ where $T_n(x)$ is the Taylor polynomial approximation to $e^x$ expanded about $x = 0$.  Consider $N = 1, 2, 3$.  What vaule of $N$ is required for this approximation to be good to 6 digits of decimal precision?"
   ]
  },
  {
   "cell_type": "markdown",
   "metadata": {
    "nbgrader": {
     "grade": true,
     "grade_id": "A1",
     "locked": false,
     "points": 20,
     "solution": true
    }
   },
   "source": [
    "Solution:\n",
    "\n",
    "**(a)** The absolute error is $0.0015926535897930$, relative error is $0.0005069573828972$, decimal precision is $3$;\n",
    "\n",
    "**(b)** The absolute error is $0.0012644892673497$, relative error is $0.0004024994347707$, decimal precision is $3$;\n",
    "\n",
    "**(c)** For $n = 5$; The absolute error is $1.7403021806115442$, relative error is $0.3635102208239511$, decimal precision is $0$;\n",
    "\n",
    "For $n = 10$; The absolute error is $2.0785616431350551$, relative error is $0.1376128752494626$, decimal precision is $0$;\n",
    "\n",
    "For $n = 100$; The absolute error is $3.2223569567543109$, relative error is $0.0088589720368673$, decimal precision is $0$;\n",
    "\n",
    "**(d)** if $x = 0.01$\n",
    "\n",
    "When N = 1,\n",
    "\n",
    "$e^x - T_n(x) = e^x - (1 + {x}) = 0.0000501670841679$;\n",
    "\n",
    "When N = 2,\n",
    "\n",
    "$e^x - T_n(x) = e^x - (1 + {x} + \\frac{x}{2!}) = 0.0000001670841678$;\n",
    "\n",
    "Therefore, $N$ should be $2$ to be good to $6$ digits of decimal precision."
   ]
  },
  {
   "cell_type": "markdown",
   "metadata": {
    "nbgrader": {
     "grade": false,
     "grade_id": "Q2",
     "locked": true,
     "solution": false
    }
   },
   "source": [
    "## Question 2"
   ]
  },
  {
   "cell_type": "markdown",
   "metadata": {
    "collapsed": true,
    "nbgrader": {
     "grade": false,
     "grade_id": "Q2-a",
     "locked": true,
     "solution": false
    }
   },
   "source": [
    "**(a)** (10) Write a Python program to compute\n",
    "\n",
    "$$S_N = \\sum^N_{n=1} \\left [ \\frac{1}{n} - \\frac{1}{n+1} \\right ] = \\sum^N_{n=1} \\frac{1}{n (n + 1)}$$\n",
    "\n",
    "once using the first summation and once using the second for $N = 10, 10^2, \\ldots , 10^7$."
   ]
  },
  {
   "cell_type": "code",
   "execution_count": 2,
   "metadata": {
    "collapsed": true,
    "nbgrader": {
     "grade": false,
     "grade_id": "A2-a",
     "locked": false,
     "solution": true
    }
   },
   "outputs": [],
   "source": [
    "def sum_1(N):\n",
    "    \"\"\"Compute the summation S_N defined as\n",
    "    \n",
    "    \\sum^N_{n=1} \\left [ \\frac{1}{n} - \\frac{1}{n+1} \\right ]\n",
    "    \n",
    "    :Input:\n",
    "     *N* (int) The upper bound on the summation.\n",
    "    \n",
    "    Returns Sn (float)\n",
    "    \"\"\"\n",
    "    \n",
    "    # INSERT CODE HERE\n",
    "    Sn = 0.0\n",
    "    for n in range(1,N+1):\n",
    "        Sn += 1.0/n - 1.0/(n+1.0)\n",
    "\n",
    "    return Sn\n",
    "\n",
    "\n",
    "def sum_2(N):\n",
    "    \"\"\"Compute the summation S_N defined as\n",
    "    \n",
    "    \\sum^N_{n=1} \\frac{1}{n (n + 1)}\n",
    "    \n",
    "    :Input:\n",
    "     *N* (int) The upper bound on the summation.\n",
    "    \n",
    "    Returns Sn (float)\n",
    "    \"\"\"\n",
    "\n",
    "    # INSERT CODE HERE\n",
    "    Sn = 0.0\n",
    "    for n in range(1,N+1):\n",
    "        Sn += 1./(n*(n+1.))\n",
    "\n",
    "    return Sn"
   ]
  },
  {
   "cell_type": "code",
   "execution_count": 3,
   "metadata": {
    "collapsed": false,
    "nbgrader": {
     "grade": true,
     "grade_id": "T2-a",
     "locked": true,
     "points": 10,
     "solution": false
    }
   },
   "outputs": [
    {
     "name": "stdout",
     "output_type": "stream",
     "text": [
      "Success!\n"
     ]
    }
   ],
   "source": [
    "N = numpy.array([10**n for n in xrange(1,8)])\n",
    "answer = numpy.zeros((2, N.shape[0]))\n",
    "for (n, upper_bound) in enumerate(N):\n",
    "    answer[0, n] = sum_1(upper_bound)\n",
    "    answer[1, n] = sum_2(upper_bound)\n",
    "numpy.testing.assert_allclose(answer[0, :], numpy.array([0.9090909090909089, 0.9900990099009896, \n",
    "                                                         0.9990009990009996, 0.9999000099990004, \n",
    "                                                         0.9999900001000117, 0.9999990000010469,\n",
    "                                                         0.9999998999998143]))\n",
    "numpy.testing.assert_allclose(answer[1, :], numpy.array([0.9090909090909091, 0.9900990099009898, \n",
    "                                                         0.9990009990009997, 0.9999000099990007, \n",
    "                                                         0.9999900001000122, 0.9999990000010476, \n",
    "                                                         0.9999998999998153]))\n",
    "print \"Success!\""
   ]
  },
  {
   "cell_type": "markdown",
   "metadata": {
    "nbgrader": {
     "grade": false,
     "grade_id": "Q2-b",
     "locked": true,
     "solution": false
    }
   },
   "source": [
    "**(b)**  (5) Compute the absolute error between the two summation approaches. "
   ]
  },
  {
   "cell_type": "code",
   "execution_count": 4,
   "metadata": {
    "collapsed": true,
    "nbgrader": {
     "grade": false,
     "grade_id": "A2-b",
     "locked": false,
     "solution": true
    }
   },
   "outputs": [],
   "source": [
    "def abs_error(N):\n",
    "    \"\"\"Compute the absolute error of the two sums defined as\n",
    "    \n",
    "    \\sum^N_{n=1} \\left [ \\frac{1}{n} - \\frac{1}{n+1} \\right ]\n",
    "    \n",
    "    and \n",
    "    \n",
    "    \\sum^N_{n=1} \\frac{1}{n (n + 1)}\n",
    "    \n",
    "    respectively for the given N.\n",
    "    \n",
    "    :Input:\n",
    "     *N* (int) The upper bound on the summation.\n",
    "    \n",
    "    Returns *error* (float)\n",
    "    \"\"\"\n",
    "    \n",
    "    # INSERT CODE HERE\n",
    "    error = numpy.abs(sum_1(N) - sum_2(N));\n",
    "    \n",
    "    return error"
   ]
  },
  {
   "cell_type": "code",
   "execution_count": 5,
   "metadata": {
    "collapsed": false,
    "nbgrader": {
     "grade": true,
     "grade_id": "T2-b",
     "locked": true,
     "points": 5,
     "solution": false
    }
   },
   "outputs": [
    {
     "name": "stdout",
     "output_type": "stream",
     "text": [
      "Success!\n"
     ]
    }
   ],
   "source": [
    "N = numpy.array([10**n for n in xrange(1,8)])\n",
    "answer = numpy.zeros(N.shape)\n",
    "for (n, upper_bound) in enumerate(N):\n",
    "    answer[n] = abs_error(upper_bound)\n",
    "numpy.testing.assert_allclose(answer, numpy.array([1.1102230246251565e-16, 1.1102230246251565e-16, \n",
    "                                                   1.1102230246251565e-16, 3.3306690738754696e-16, \n",
    "                                                   4.4408920985006262e-16, 6.6613381477509392e-16, \n",
    "                                                   9.9920072216264089e-16]))\n",
    "print \"Success!\""
   ]
  },
  {
   "cell_type": "markdown",
   "metadata": {
    "nbgrader": {
     "grade": false,
     "grade_id": "Q2-c",
     "locked": true,
     "points": 1,
     "solution": false
    }
   },
   "source": [
    "**(c)** (10) Plot the relative and absolute error versus $N$.  Also plot a line where $\\epsilon_{\\text{machine}}$ should be.  Comment on what you see."
   ]
  },
  {
   "cell_type": "code",
   "execution_count": 6,
   "metadata": {
    "collapsed": false,
    "nbgrader": {
     "grade": true,
     "grade_id": "A2-c",
     "locked": false,
     "points": 10,
     "solution": true
    }
   },
   "outputs": [
    {
     "data": {
      "image/png": "[encoded data removed]",
      "text/plain": [
       "<matplotlib.figure.Figure at 0x7fdde0e89950>"
      ]
     },
     "metadata": {},
     "output_type": "display_data"
    }
   ],
   "source": [
    "fig = plt.figure()\n",
    "fig.set_figwidth(fig.get_figwidth() * 2)\n",
    "\n",
    "# HINT!  Use the plotting function semilogx to plot the errors\n",
    "#        Also, do not forget to label your plot\n",
    "\n",
    "# INSERT CODE HERE\n",
    "x = [];\n",
    "y1 = [];\n",
    "y2 = [];\n",
    "y3 = [];\n",
    "for n in range(1,8):\n",
    "    x = x + [10**(n)]\n",
    "    y1 = y1 + [abs(sum_1(10**n)-sum_2(10**n))]\n",
    "    y2 = y2 + [abs((sum_1(10**n)-sum_2(10**n))/sum_2(10**n))]\n",
    "    y3 = y3 + [numpy.finfo(float).eps]\n",
    "plt.subplot(1, 2, 1)\n",
    "plt.semilogx(x,y1,x,y3)\n",
    "plt.title('Relative Error versus $\\epsilon_{machine}$')\n",
    "plt.xlabel('N')\n",
    "plt.legend([\"$Relative Error$\", \"$\\epsilon_{machine}$\"], loc=2)\n",
    "plt.subplot(1, 2, 2)\n",
    "plt.semilogx(x,y2,x,y3)\n",
    "plt.title('Absolute Error versus $\\epsilon_{machine}$')\n",
    "plt.xlabel('N')\n",
    "plt.legend([\"$Absolute Error$\", \"$\\epsilon_{machine}$\"], loc=2)\n",
    "\n",
    "plt.show()"
   ]
  },
  {
   "cell_type": "markdown",
   "metadata": {
    "nbgrader": {
     "grade": false,
     "grade_id": "Q2-d",
     "locked": true,
     "points": 1,
     "solution": false
    }
   },
   "source": [
    "**(d)** (5) Theorize what may have lead to the differences in answers."
   ]
  },
  {
   "cell_type": "markdown",
   "metadata": {
    "nbgrader": {
     "grade": true,
     "grade_id": "A2-d",
     "locked": false,
     "points": 5,
     "solution": true
    }
   },
   "source": [
    "Solution: Because the floating point arithmetic is not communitative or associative.\n",
    "\n",
    "Assume that, there are a simple arithmetic $\\delta < \\epsilon_{\\text{machine}}$\n",
    "\n",
    " $$\\frac{1}{n} - \\frac{1}{n+1} = \\frac{1}{n (n + 1)} + \\delta $$\n",
    " \n",
    " $$\\sum^N_{n=1} \\left [ \\frac{1}{n} - \\frac{1}{n+1} \\right ] = \\sum^N_{n=1} (\\frac{1}{n (n + 1)} + \\delta) = \\sum^N_{n=1} \\frac{1}{n (n + 1)} + \\sum^N_{n=1} {\\delta}$$\n",
    " \n",
    " Therefore, $$\\sum^N_{n=1} \\left [ \\frac{1}{n} - \\frac{1}{n+1} \\right ] - \\sum^N_{n=1} (\\frac{1}{n (n + 1)}) = \\sum^N_{n=1} {\\delta}$$"
   ]
  },
  {
   "cell_type": "markdown",
   "metadata": {
    "nbgrader": {
     "grade": false,
     "grade_id": "Q3",
     "locked": true,
     "solution": false
    }
   },
   "source": [
    "## Question 3\n",
    "\n",
    "Following our discussion in lecture regarding approximating $e^x$ again consider the Taylor polynomial approximation:\n",
    "\n",
    "$$e^x \\approx T_n(x) = 1 + x + \\frac{x^2}{2!} + \\frac{x^3}{3!} + \\cdots + \\frac{x^n}{n!}$$"
   ]
  },
  {
   "cell_type": "markdown",
   "metadata": {
    "nbgrader": {
     "grade": false,
     "grade_id": "Q3-a",
     "locked": true,
     "points": 1,
     "solution": false
    }
   },
   "source": [
    "**(a)** Derive the upper bound on the *relative error* assuming that $x > 0$ and\n",
    "\n",
    "$$R_n = \\frac{|e^x - T_n(x)|}{|e^x|}$$\n",
    "\n",
    "is given by\n",
    "\n",
    "$$R_n \\leq \\left | \\frac{x^{n+1}}{(n + 1)!} \\right |$$"
   ]
  },
  {
   "cell_type": "markdown",
   "metadata": {
    "nbgrader": {
     "grade": true,
     "grade_id": "A3-a",
     "locked": false,
     "points": 15,
     "solution": true
    }
   },
   "source": [
    "$$R_n = \\frac{|e^x - T_n(x)|}{|e^x|} = \\frac{|R_n(x)|}{|e^x|} = \\frac{f^{(n+1)}(c) \\cdot (x-x_o)^{n+1}}{(n+1)! \\cdot|e^x|} = \\frac{e^c \\cdot (x-x_o)^{n+1}}{(n+1)! \\cdot|e^x|} $$\n",
    "\n",
    "since $c < x$ and $x_0 < x$\n",
    "$$\\frac{e^c \\cdot (x-x_o)^{n+1}}{(n+1)! \\cdot|e^x|} \\leq  \\frac{x^{n+1}}{(n+1)! } $$"
   ]
  },
  {
   "cell_type": "markdown",
   "metadata": {
    "nbgrader": {
     "grade": false,
     "grade_id": "Q3-b",
     "locked": true,
     "points": 1,
     "solution": false
    }
   },
   "source": [
    "**(b)** Show that for large $x$ and $n$, $r_n \\leq \\epsilon_{\\text{machine}}$ implies that we need at least $n > e \\cdot x$ terms in the series (where $e = \\text{exp}(1)$).\n",
    "\n",
    "*Hint* Use Stirling's approximation $log (n!) \\approx n~log~n - n$."
   ]
  },
  {
   "cell_type": "markdown",
   "metadata": {
    "nbgrader": {
     "grade": true,
     "grade_id": "A3-b",
     "locked": false,
     "points": 15,
     "solution": true
    }
   },
   "source": [
    "To proof, the condition of \n",
    "$$\\frac{x^{n+1}}{(n + 1)!} <  \\epsilon_{\\text{machine}}$$ \n",
    "is $n > e \\cdot x$\n",
    "\n",
    "$$\\frac{x^{n+1}}{(n + 1)!} <  \\epsilon_{\\text{machine}}$$\n",
    "\n",
    "$${x^{n+1}} < {(n + 1)!} \\cdot \\epsilon_{\\text{machine}}$$\n",
    "\n",
    "$$(n+1) \\cdot log(x) < (n+1) \\cdot log(n+1) - (n+1) + log(\\epsilon_{\\text{machine}})$$\n",
    "\n",
    "$$log(x) < log(n+1) - 1 - \\frac{log(\\epsilon_{\\text{machine}})}{n+1}$$\n",
    "\n",
    "$$log(x) + 1 < log(n+1)$$\n",
    "\n",
    "When $x$ and $n$ are large: $log(n+1) \\approx log(n)$\n",
    "\n",
    "$$log(e \\cdot x) < log(n)$$\n",
    "\n",
    "$$n > e \\cdot x$$"
   ]
  },
  {
   "cell_type": "markdown",
   "metadata": {
    "nbgrader": {
     "grade": false,
     "grade_id": "Q3-c",
     "locked": true,
     "solution": false
    }
   },
   "source": [
    "**(c)** Write a Python function that accurately computes $T_n$ to the specified relative error tolerance and returns both the estimate on the range and the number of terms in the series needed over the interval $[-2, 2]$.  Note that the testing tolerance will be $8 \\cdot \\epsilon_{\\text{machine}}$.\n",
    "\n",
    "Make sure to document your code including expected inputs, outputs, and assumptions being made."
   ]
  },
  {
   "cell_type": "code",
   "execution_count": 9,
   "metadata": {
    "collapsed": true,
    "nbgrader": {
     "grade": false,
     "grade_id": "A3-c",
     "locked": false,
     "solution": true
    }
   },
   "outputs": [],
   "source": [
    "# HINT: Think about how we evaluated polynomials efficiently in class\n",
    "\n",
    "import scipy.misc as misc\n",
    "import math\n",
    "\n",
    "def Tn_exp(x, tolerance=1e-3):\n",
    "\n",
    "    MAX_N = 100\n",
    "    \n",
    "    # INSERT CODE HERE\n",
    "    Tn = 0.0\n",
    "    for N in range(MAX_N):\n",
    "        Tn = Tn + x**N/math.factorial(N)\n",
    "        if numpy.all(abs(Tn - math.exp(x)) < tolerance):\n",
    "            break;\n",
    "    \n",
    "    return Tn, N"
   ]
  },
  {
   "cell_type": "code",
   "execution_count": 10,
   "metadata": {
    "collapsed": false,
    "nbgrader": {
     "grade": true,
     "grade_id": "T3-c",
     "locked": true,
     "points": 10,
     "solution": false
    }
   },
   "outputs": [
    {
     "ename": "TypeError",
     "evalue": "only length-1 arrays can be converted to Python scalars",
     "output_type": "error",
     "traceback": [
      "\u001b[1;31m\u001b[0m",
      "\u001b[1;31mTypeError\u001b[0mTraceback (most recent call last)",
      "\u001b[1;32m<ipython-input-10-e6484e5fa038>\u001b[0m in \u001b[0;36m<module>\u001b[1;34m()\u001b[0m\n\u001b[0;32m      1\u001b[0m \u001b[0mx\u001b[0m \u001b[1;33m=\u001b[0m \u001b[0mnumpy\u001b[0m\u001b[1;33m.\u001b[0m\u001b[0mlinspace\u001b[0m\u001b[1;33m(\u001b[0m\u001b[1;33m-\u001b[0m\u001b[1;36m2\u001b[0m\u001b[1;33m,\u001b[0m \u001b[1;36m2\u001b[0m\u001b[1;33m,\u001b[0m \u001b[1;36m100\u001b[0m\u001b[1;33m)\u001b[0m\u001b[1;33m\u001b[0m\u001b[0m\n\u001b[0;32m      2\u001b[0m \u001b[0mtolerance\u001b[0m \u001b[1;33m=\u001b[0m \u001b[1;36m8.0\u001b[0m \u001b[1;33m*\u001b[0m \u001b[0mnumpy\u001b[0m\u001b[1;33m.\u001b[0m\u001b[0mfinfo\u001b[0m\u001b[1;33m(\u001b[0m\u001b[0mfloat\u001b[0m\u001b[1;33m)\u001b[0m\u001b[1;33m.\u001b[0m\u001b[0meps\u001b[0m\u001b[1;33m\u001b[0m\u001b[0m\n\u001b[1;32m----> 3\u001b[1;33m \u001b[0manswer\u001b[0m\u001b[1;33m,\u001b[0m \u001b[0mN\u001b[0m \u001b[1;33m=\u001b[0m \u001b[0mTn_exp\u001b[0m\u001b[1;33m(\u001b[0m\u001b[0mx\u001b[0m\u001b[1;33m,\u001b[0m \u001b[0mtolerance\u001b[0m\u001b[1;33m=\u001b[0m\u001b[0mtolerance\u001b[0m\u001b[1;33m)\u001b[0m\u001b[1;33m\u001b[0m\u001b[0m\n\u001b[0m\u001b[0;32m      4\u001b[0m \u001b[1;32massert\u001b[0m\u001b[1;33m(\u001b[0m\u001b[0mnumpy\u001b[0m\u001b[1;33m.\u001b[0m\u001b[0mall\u001b[0m\u001b[1;33m(\u001b[0m\u001b[0mnumpy\u001b[0m\u001b[1;33m.\u001b[0m\u001b[0mabs\u001b[0m\u001b[1;33m(\u001b[0m\u001b[0manswer\u001b[0m \u001b[1;33m-\u001b[0m \u001b[0mnumpy\u001b[0m\u001b[1;33m.\u001b[0m\u001b[0mexp\u001b[0m\u001b[1;33m(\u001b[0m\u001b[0mx\u001b[0m\u001b[1;33m)\u001b[0m\u001b[1;33m)\u001b[0m \u001b[1;33m/\u001b[0m \u001b[0mnumpy\u001b[0m\u001b[1;33m.\u001b[0m\u001b[0mabs\u001b[0m\u001b[1;33m(\u001b[0m\u001b[0mnumpy\u001b[0m\u001b[1;33m.\u001b[0m\u001b[0mexp\u001b[0m\u001b[1;33m(\u001b[0m\u001b[0mx\u001b[0m\u001b[1;33m)\u001b[0m\u001b[1;33m)\u001b[0m \u001b[1;33m<\u001b[0m \u001b[0mtolerance\u001b[0m\u001b[1;33m)\u001b[0m\u001b[1;33m)\u001b[0m\u001b[1;33m\u001b[0m\u001b[0m\n\u001b[0;32m      5\u001b[0m \u001b[1;32mprint\u001b[0m \u001b[1;34m\"Success!\"\u001b[0m\u001b[1;33m\u001b[0m\u001b[0m\n",
      "\u001b[1;32m<ipython-input-9-7693421c2b93>\u001b[0m in \u001b[0;36mTn_exp\u001b[1;34m(x, tolerance)\u001b[0m\n\u001b[0;32m     12\u001b[0m     \u001b[1;32mfor\u001b[0m \u001b[0mN\u001b[0m \u001b[1;32min\u001b[0m \u001b[0mrange\u001b[0m\u001b[1;33m(\u001b[0m\u001b[0mMAX_N\u001b[0m\u001b[1;33m)\u001b[0m\u001b[1;33m:\u001b[0m\u001b[1;33m\u001b[0m\u001b[0m\n\u001b[0;32m     13\u001b[0m         \u001b[0mTn\u001b[0m \u001b[1;33m=\u001b[0m \u001b[0mTn\u001b[0m \u001b[1;33m+\u001b[0m \u001b[0mx\u001b[0m\u001b[1;33m**\u001b[0m\u001b[0mN\u001b[0m\u001b[1;33m/\u001b[0m\u001b[0mmath\u001b[0m\u001b[1;33m.\u001b[0m\u001b[0mfactorial\u001b[0m\u001b[1;33m(\u001b[0m\u001b[0mN\u001b[0m\u001b[1;33m)\u001b[0m\u001b[1;33m\u001b[0m\u001b[0m\n\u001b[1;32m---> 14\u001b[1;33m         \u001b[1;32mif\u001b[0m \u001b[0mnumpy\u001b[0m\u001b[1;33m.\u001b[0m\u001b[0mall\u001b[0m\u001b[1;33m(\u001b[0m\u001b[0mabs\u001b[0m\u001b[1;33m(\u001b[0m\u001b[0mTn\u001b[0m \u001b[1;33m-\u001b[0m \u001b[0mmath\u001b[0m\u001b[1;33m.\u001b[0m\u001b[0mexp\u001b[0m\u001b[1;33m(\u001b[0m\u001b[0mx\u001b[0m\u001b[1;33m)\u001b[0m\u001b[1;33m)\u001b[0m \u001b[1;33m<\u001b[0m \u001b[0mtolerance\u001b[0m\u001b[1;33m)\u001b[0m\u001b[1;33m:\u001b[0m\u001b[1;33m\u001b[0m\u001b[0m\n\u001b[0m\u001b[0;32m     15\u001b[0m             \u001b[1;32mbreak\u001b[0m\u001b[1;33m;\u001b[0m\u001b[1;33m\u001b[0m\u001b[0m\n\u001b[0;32m     16\u001b[0m \u001b[1;33m\u001b[0m\u001b[0m\n",
      "\u001b[1;31mTypeError\u001b[0m: only length-1 arrays can be converted to Python scalars"
     ]
    }
   ],
   "source": [
    "x = numpy.linspace(-2, 2, 100)\n",
    "tolerance = 8.0 * numpy.finfo(float).eps\n",
    "answer, N = Tn_exp(x, tolerance=tolerance)\n",
    "assert(numpy.all(numpy.abs(answer - numpy.exp(x)) / numpy.abs(numpy.exp(x)) < tolerance))\n",
    "print \"Success!\""
   ]
  },
  {
   "cell_type": "markdown",
   "metadata": {
    "nbgrader": {
     "grade": false,
     "grade_id": "Q4",
     "locked": true,
     "points": 1,
     "solution": false
    }
   },
   "source": [
    "## Question 4\n",
    "\n",
    "Given the Taylor polynomial expansions\n",
    "\n",
    "$$\\frac{1}{1-\\Delta x} = 1 + \\Delta x + \\Delta x^2 + \\Delta x^3 + \\mathcal{O}(\\Delta x^4)$$\n",
    "\n",
    "and\n",
    "\n",
    "$$\\cosh \\Delta x = 1 - \\frac{\\Delta x^2}{2!} + \\frac{\\Delta x^4}{4!} + \\mathcal{O}(\\Delta x^6)$$\n",
    "\n",
    "determine the order of approximation for their sum and product (determine the exponent that belongs in the $\\mathcal{O}$).\n"
   ]
  },
  {
   "cell_type": "markdown",
   "metadata": {
    "nbgrader": {
     "grade": true,
     "grade_id": "A4",
     "locked": false,
     "points": 10,
     "solution": true
    }
   },
   "source": []
  }
 ],
 "metadata": {
  "celltoolbar": "Create Assignment",
  "kernelspec": {
   "display_name": "Python [Root]",
   "language": "python",
   "name": "Python [Root]"
  },
  "language_info": {
   "codemirror_mode": {
    "name": "ipython",
    "version": 2
   },
   "file_extension": ".py",
   "mimetype": "text/x-python",
   "name": "python",
   "nbconvert_exporter": "python",
   "pygments_lexer": "ipython2",
   "version": "2.7.12"
  },
  "latex_envs": {
   "bibliofile": "biblio.bib",
   "cite_by": "apalike",
   "current_citInitial": 1,
   "eqLabelWithNumbers": true,
   "eqNumInitial": 0
  }
 },
 "nbformat": 4,
 "nbformat_minor": 0
}
