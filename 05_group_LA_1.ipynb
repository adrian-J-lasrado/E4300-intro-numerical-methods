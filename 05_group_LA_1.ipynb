{
 "cells": [
  {
   "cell_type": "code",
   "execution_count": 2,
   "metadata": {
    "collapsed": true
   },
   "outputs": [],
   "source": [
    "%precision 16\n",
    "%matplotlib inline\n",
    "import numpy\n",
    "import matplotlib.pyplot as plt"
   ]
  },
  {
   "cell_type": "markdown",
   "metadata": {},
   "source": [
    "# Group Work 5:  Linear Algebra Part 1"
   ]
  },
  {
   "cell_type": "markdown",
   "metadata": {},
   "source": [
    "## Question 1 - P-Norms\n",
    "\n",
    "The $p$-norm of a vector is defined as\n",
    "\n",
    "$$\n",
    "    ||v||_p = \\left[ \\sum^N_{i=1} (v_i)^p \\right ]^{1/p}.\n",
    "$$"
   ]
  },
  {
   "cell_type": "markdown",
   "metadata": {},
   "source": [
    "**(a)** Write a program that calculates the p-norm of a vector $\\vec{x} \\in \\mathbb{R}^n$.  Note that $p \\notin \\mathbb Z^+$ but $p > 0$.  You can use `numpy.linalg.norm` to check your work."
   ]
  },
  {
   "cell_type": "code",
   "execution_count": 62,
   "metadata": {
    "collapsed": false
   },
   "outputs": [
    {
     "name": "stdout",
     "output_type": "stream",
     "text": [
      "1.30304614475\n",
      "1.30304614475\n"
     ]
    }
   ],
   "source": [
    "m = 10\n",
    "p = 4\n",
    "x = numpy.random.uniform(size=m)\n",
    "\n",
    "ell_p = 0.0\n",
    "for i in xrange(m):\n",
    "    ell_p += numpy.abs(x[i])**p\n",
    "ell_p = (ell_p)**(1.0 / p)\n",
    "\n",
    "print ell_p\n",
    "\n",
    "print numpy.linalg.norm(x,4)"
   ]
  },
  {
   "cell_type": "markdown",
   "metadata": {},
   "source": [
    "**(b)** A *unit p-norm* implies for cases where $p$ is finite that\n",
    "\n",
    "$$\n",
    "    1 = ||v||_p = \\left( \\sum_{i=1}^2 |v_i|^p \\right)^{\\frac{1}{p}}\n",
    "$$\n",
    "\n",
    "where here we are limiting ourselves to $v \\in \\mathbb R^2$.  For $p = \\infty$ we have\n",
    "\n",
    "$$ \n",
    "    1 = \\max_{1 \\leq i \\leq 2} |v_i|\n",
    "$$ \n",
    "\n",
    "Find explicit formulations for the vectors $\\vec{v} \\in \\mathbb{R}^2$ with a unit p-norm. "
   ]
  },
  {
   "cell_type": "markdown",
   "metadata": {},
   "source": []
  },
  {
   "cell_type": "code",
   "execution_count": 60,
   "metadata": {
    "collapsed": false
   },
   "outputs": [
    {
     "name": "stdout",
     "output_type": "stream",
     "text": [
      "[ 0.18408562  0.06452337]\n",
      "1\n",
      "2\n",
      "0.0\n"
     ]
    }
   ],
   "source": [
    "m = 2\n",
    "p = 10000\n",
    "x = numpy.random.uniform(size=m)\n",
    "print x\n",
    "ell_p = 0.0\n",
    "for i in xrange(1,m+1):\n",
    "    print i\n",
    "    ell_p += numpy.abs(x[i-1])**p\n",
    "ell_p = (ell_p)**(1.0 / p)\n",
    "\n",
    "print ell_p"
   ]
  },
  {
   "cell_type": "markdown",
   "metadata": {},
   "source": [
    "**(c)** With this formula, plot various unit p-norms.  As $p \\rightarrow \\infty$ what do you observe?"
   ]
  },
  {
   "cell_type": "code",
   "execution_count": null,
   "metadata": {
    "collapsed": true
   },
   "outputs": [],
   "source": [
    "123"
   ]
  },
  {
   "cell_type": "markdown",
   "metadata": {},
   "source": [
    "## Question 2\n",
    "\n",
    "Given a $A \\in \\mathbb R^{2 \\times 2}$, plot the unit vectors $\\hat{i}$ and $\\hat{j}$ and the unit circle in your favorite p-norm and the transformed unit vectors and circle (should be an ellipse)."
   ]
  },
  {
   "cell_type": "code",
   "execution_count": null,
   "metadata": {
    "collapsed": false
   },
   "outputs": [],
   "source": []
  },
  {
   "cell_type": "code",
   "execution_count": null,
   "metadata": {
    "collapsed": true
   },
   "outputs": [],
   "source": []
  }
 ],
 "metadata": {
  "anaconda-cloud": {},
  "kernelspec": {
   "display_name": "Python [Root]",
   "language": "python",
   "name": "Python [Root]"
  },
  "language_info": {
   "codemirror_mode": {
    "name": "ipython",
    "version": 2
   },
   "file_extension": ".py",
   "mimetype": "text/x-python",
   "name": "python",
   "nbconvert_exporter": "python",
   "pygments_lexer": "ipython2",
   "version": "2.7.12"
  },
  "latex_envs": {
   "bibliofile": "biblio.bib",
   "cite_by": "apalike",
   "current_citInitial": 1,
   "eqLabelWithNumbers": true,
   "eqNumInitial": 0
  }
 },
 "nbformat": 4,
 "nbformat_minor": 1
}
