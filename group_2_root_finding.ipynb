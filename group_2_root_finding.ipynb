{
 "cells": [
  {
   "cell_type": "code",
   "execution_count": null,
   "metadata": {
    "collapsed": true
   },
   "outputs": [],
   "source": [
    "%matplotlib inline\n",
    "import numpy\n",
    "import matplotlib.pyplot as plt"
   ]
  },
  {
   "cell_type": "markdown",
   "metadata": {},
   "source": [
    "# Group Work 2 - Rooting for the Optimum\n",
    "\n",
    "After you are done please submit this on Vocareum as with the homework."
   ]
  },
  {
   "cell_type": "markdown",
   "metadata": {},
   "source": [
    "## Newton's Method:\n",
    "\n",
    "For the following consider the function\n",
    "$$\n",
    "    f(x) = \\cos(x) - 2x.\n",
    "$$"
   ]
  },
  {
   "cell_type": "markdown",
   "metadata": {},
   "source": [
    "**(a)** Write down the Newton iteration for $f(x)$."
   ]
  },
  {
   "cell_type": "markdown",
   "metadata": {},
   "source": []
  },
  {
   "cell_type": "markdown",
   "metadata": {},
   "source": [
    "**(b)**  The first step in setting up Newton's method is to pick a good initial guess.  One way to do this is to find two points that $x_0$ and $x_1$ where $\\text{sign}(f(x_0)) \\neq \\text{sign}(f(x_1))$.  Find two such points for $f(x)$."
   ]
  },
  {
   "cell_type": "markdown",
   "metadata": {},
   "source": []
  },
  {
   "cell_type": "markdown",
   "metadata": {},
   "source": [
    "**(c)** Using your update formula, your initial guess, and Newton's method find the root of $f(x)$.  Feel free to use the code demonstrated in class.  Make sure to use plots to get a visual understanding for what is going on.\n",
    "\n",
    "Additional things to play with:\n",
    "1. Choose a small max step and display the results to see how the newton method converges to the root.\n",
    "1. Choose different tolerances and see how many iterations it takes to converge to the root.\n",
    "1. Choose a \"bad\" initial guess and see what happens."
   ]
  },
  {
   "cell_type": "code",
   "execution_count": null,
   "metadata": {
    "collapsed": false,
    "scrolled": true
   },
   "outputs": [],
   "source": []
  },
  {
   "cell_type": "markdown",
   "metadata": {},
   "source": [
    "## The Secant Method\n",
    "\n",
    "For the following consider the function\n",
    "$$\n",
    "    f(x) = x^3 - x + 1.\n",
    "$$"
   ]
  },
  {
   "cell_type": "markdown",
   "metadata": {},
   "source": [
    "**(a)** Write down the iteration for the secant method."
   ]
  },
  {
   "cell_type": "markdown",
   "metadata": {},
   "source": []
  },
  {
   "cell_type": "markdown",
   "metadata": {},
   "source": [
    "**(b)** The advantage of the secant method over Newton's method is that we don't need to calculate the derivative of the function.  The disadvantage is that now we need two initial guesses to start the secant method. \n",
    "\n",
    "As we did with Newton's method find two points $x_0$ and $x_1$ with the same properties as before (choose a bracket)."
   ]
  },
  {
   "cell_type": "markdown",
   "metadata": {},
   "source": []
  },
  {
   "cell_type": "markdown",
   "metadata": {
    "collapsed": true
   },
   "source": [
    "**(c)** Using your update formula, your initial guess, and the secant method find the root of $f(x)$.  Again feel free to use the code demonstrated in class and use plots to visualize your results.\n",
    "\n",
    "Additional things to play with:\n",
    "1. Choose a small max step and display the results to see how the newton method converges to the root.\n",
    "1. Choose different tolerances and see how many iterations it takes to converge to the root.\n",
    "1. Choose a \"bad\" initial guess and see what happens."
   ]
  },
  {
   "cell_type": "code",
   "execution_count": null,
   "metadata": {
    "collapsed": false
   },
   "outputs": [],
   "source": []
  },
  {
   "cell_type": "markdown",
   "metadata": {},
   "source": [
    "## Comparing convergence\n",
    "\n",
    "Now that we have seen both the methods, lets compare them for the function\n",
    "$$\n",
    "    f(x) = x - \\cos(x)\n",
    "$$"
   ]
  },
  {
   "cell_type": "markdown",
   "metadata": {},
   "source": [
    "**(a)** For the new function $f(x)$ derive the iteration for both Newton's method and the secant method."
   ]
  },
  {
   "cell_type": "markdown",
   "metadata": {},
   "source": []
  },
  {
   "cell_type": "markdown",
   "metadata": {},
   "source": [
    "**(b)** Choose a bracket to start both methods."
   ]
  },
  {
   "cell_type": "markdown",
   "metadata": {},
   "source": []
  },
  {
   "cell_type": "markdown",
   "metadata": {},
   "source": [
    "**(c)** Using your code from before (you could do this easily if you write the above as a function) see how the two methods compare in terms of the number of the number of iterations it takes to converge.  Play around with your choice of bracket and see how this might impact both methods."
   ]
  },
  {
   "cell_type": "code",
   "execution_count": null,
   "metadata": {
    "collapsed": false
   },
   "outputs": [],
   "source": []
  }
 ],
 "metadata": {
  "kernelspec": {
   "display_name": "Python 2",
   "language": "python",
   "name": "python2"
  },
  "language_info": {
   "codemirror_mode": {
    "name": "ipython",
    "version": 2
   },
   "file_extension": ".py",
   "mimetype": "text/x-python",
   "name": "python",
   "nbconvert_exporter": "python",
   "pygments_lexer": "ipython2",
   "version": "2.7.12"
  }
 },
 "nbformat": 4,
 "nbformat_minor": 0
}
