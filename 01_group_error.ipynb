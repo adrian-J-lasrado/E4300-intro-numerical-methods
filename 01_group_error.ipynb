{
 "cells": [
  {
   "cell_type": "code",
   "execution_count": null,
   "metadata": {
    "collapsed": true
   },
   "outputs": [],
   "source": [
    "%matplotlib inline\n",
    "import numpy as np\n",
    "import matplotlib.pyplot as plt\n",
    "import sys"
   ]
  },
  {
   "cell_type": "markdown",
   "metadata": {},
   "source": [
    "## Error Definitions\n",
    "\n",
    "Following is an example for the concept of absolute error, relative error and decimal precision:\n",
    "\n",
    "We shall test the approximation to common mathematical constant, $e$. Compute the absolute and relative errors along with the decimal precision if we take the approximate value of $e = 2.718$."
   ]
  },
  {
   "cell_type": "code",
   "execution_count": null,
   "metadata": {
    "collapsed": false
   },
   "outputs": [],
   "source": [
    "# We can use the formulas you derieved above to calculate the actual numbers\n",
    "\n",
    "# CODE HERE - Make sure to print out the results"
   ]
  },
  {
   "cell_type": "markdown",
   "metadata": {},
   "source": [
    "## Model Error\n",
    "\n",
    "Model error arises in various forms, here we are gonna take some population data and fit two different models and \n",
    "analyze which model is better for the given data.  Take a look at the code below and comment on the results."
   ]
  },
  {
   "cell_type": "code",
   "execution_count": null,
   "metadata": {
    "collapsed": false,
    "scrolled": true
   },
   "outputs": [],
   "source": [
    "# Model Error\n",
    "time = [0, 1, 2, 3, 4, 5] # hours\n",
    "growth = [20, 40, 75, 150, 297, 510] # Bacteria Population\n",
    "\n",
    "time = np.array(time)\n",
    "growth = np.array(growth)\n",
    "\n",
    "# First we can just plot the data to visualize it\n",
    "plt.plot(time,growth,'rs')\n",
    "plt.title(\"Scatter plot for the Bacteria population growth over time\")\n",
    "plt.xlabel('Time (hrs)')\n",
    "plt.ylabel('Population')\n",
    "plt.show()\n",
    "\n",
    "# Now we can use the Exponential Model, y = ab^x, to fit the data\n",
    "a = 20.5122; b = 1.9238;\n",
    "y = a*b**time[:]\n",
    "plt.plot(time,growth,'rs',time,y,'-b')\n",
    "plt.title(\"Expoenential model fit\")\n",
    "plt.xlabel('Time (hrs)')\n",
    "plt.ylabel('Population')\n",
    "plt.legend([\"Data\", \"Exponential Fit\"], loc=4)\n",
    "plt.show()\n",
    "\n",
    "# Now we can use the Power Model, y = ax^b, to fit the data\n",
    "a = 32.5846; b = 1.572;\n",
    "y = a*time[:]**b\n",
    "plt.plot(time,growth,'rs',time,y,'-b')\n",
    "plt.title(\"Power model fit\")\n",
    "plt.xlabel('Time (hrs)')\n",
    "plt.ylabel('Population')\n",
    "plt.legend([\"Data\", \"Power Fit\"], loc=4)\n",
    "plt.show()"
   ]
  },
  {
   "cell_type": "markdown",
   "metadata": {},
   "source": [
    "## Machine Epsilon\n",
    "\n",
    "Machine epsilon is a very important concept in floating point error. The value, even though small, can easily compound over a period to cause huge problems.\n",
    "\n",
    "Below we see a problem demonstrating how easily machine error can creep into a simple piece of code.  Play with different ways to compute this and see what happens"
   ]
  },
  {
   "cell_type": "code",
   "execution_count": null,
   "metadata": {
    "collapsed": false
   },
   "outputs": [],
   "source": [
    "a = 4.0/3.0\n",
    "b = a - 1.0\n",
    "c = 3.0 * b\n",
    "eps = 1.0 - c\n",
    "print 'Value of a is %s' % a\n",
    "print 'Value of b is %s' % b\n",
    "print 'Value of c is %s' % c\n",
    "print 'Value of epsilon is %s' % eps"
   ]
  },
  {
   "cell_type": "markdown",
   "metadata": {},
   "source": [
    "Ideally `eps` should be 0, but instead we see the machine epsilon and while the value is small it can lead to issues.  Write a loop that multiplies the value `c` above by 10 and see how the error propagates."
   ]
  },
  {
   "cell_type": "code",
   "execution_count": null,
   "metadata": {
    "collapsed": false
   },
   "outputs": [],
   "source": []
  },
  {
   "cell_type": "markdown",
   "metadata": {},
   "source": [
    "## The largest floating point number\n",
    "Use the system library to find the largest floating point value.  Now try to compute some things with this number and see what happens."
   ]
  },
  {
   "cell_type": "code",
   "execution_count": null,
   "metadata": {
    "collapsed": false
   },
   "outputs": [],
   "source": []
  },
  {
   "cell_type": "markdown",
   "metadata": {},
   "source": [
    "## The smallest floating point number \n",
    "Do the same with the smallest number."
   ]
  },
  {
   "cell_type": "code",
   "execution_count": null,
   "metadata": {
    "collapsed": false
   },
   "outputs": [],
   "source": []
  },
  {
   "cell_type": "markdown",
   "metadata": {},
   "source": [
    "## Truncation Error\n",
    "Truncation error is a very common form of error you will keep seeing in the area of Numerical Analysis/Computing.\n",
    "\n",
    "Here we will look at the classic Calculus example of the approximation $\\sin(x) \\approx x$ near 0. We can plot them together to visualize the approximation and also plot the error to understand the behavior of the truncation error.\n",
    "\n",
    "First plot the error of the approximation to $\\sin x$ with $x$ on the interval $[-pi, \\pi]$."
   ]
  },
  {
   "cell_type": "code",
   "execution_count": null,
   "metadata": {
    "collapsed": true
   },
   "outputs": [],
   "source": []
  },
  {
   "cell_type": "markdown",
   "metadata": {},
   "source": [
    "Now try the interval $[-0.5, 0.5]$"
   ]
  },
  {
   "cell_type": "code",
   "execution_count": null,
   "metadata": {
    "collapsed": false
   },
   "outputs": [],
   "source": []
  },
  {
   "cell_type": "markdown",
   "metadata": {},
   "source": [
    "Now plot the absolute error"
   ]
  },
  {
   "cell_type": "code",
   "execution_count": null,
   "metadata": {
    "collapsed": true
   },
   "outputs": [],
   "source": []
  },
  {
   "cell_type": "markdown",
   "metadata": {
    "collapsed": false
   },
   "source": [
    "Finally the relative error."
   ]
  },
  {
   "cell_type": "code",
   "execution_count": null,
   "metadata": {
    "collapsed": true
   },
   "outputs": [],
   "source": []
  },
  {
   "cell_type": "code",
   "execution_count": null,
   "metadata": {
    "collapsed": true
   },
   "outputs": [],
   "source": []
  }
 ],
 "metadata": {
  "anaconda-cloud": {},
  "kernelspec": {
   "display_name": "Python [Root]",
   "language": "python",
   "name": "Python [Root]"
  },
  "language_info": {
   "codemirror_mode": {
    "name": "ipython",
    "version": 2
   },
   "file_extension": ".py",
   "mimetype": "text/x-python",
   "name": "python",
   "nbconvert_exporter": "python",
   "pygments_lexer": "ipython2",
   "version": "2.7.12"
  },
  "latex_envs": {
   "bibliofile": "biblio.bib",
   "cite_by": "apalike",
   "current_citInitial": 1,
   "eqLabelWithNumbers": true,
   "eqNumInitial": 0
  }
 },
 "nbformat": 4,
 "nbformat_minor": 0
}
