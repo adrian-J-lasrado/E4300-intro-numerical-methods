{
 "cells": [
  {
   "cell_type": "code",
   "execution_count": 2,
   "metadata": {
    "collapsed": true
   },
   "outputs": [],
   "source": [
    "%matplotlib inline\n",
    "import numpy\n",
    "import matplotlib.pyplot as plt"
   ]
  },
  {
   "cell_type": "markdown",
   "metadata": {
    "nbgrader": {
     "grade": false,
     "grade_id": "heading_1",
     "locked": true,
     "solution": false
    }
   },
   "source": [
    "# Midterm Review"
   ]
  },
  {
   "cell_type": "markdown",
   "metadata": {
    "nbgrader": {
     "grade": false,
     "grade_id": "heading_2",
     "locked": true,
     "solution": false
    }
   },
   "source": [
    "Guidelines for the midterm:\n",
    "1. This is an individual effort, do not work with others.\n",
    "1. You can copy code from the notes or your own homework but other sources is considered plaigerism.\n",
    "1. Do not use piazza for the duration of the exam, it will be frozen!\n",
    "1. If you have a question please email the instructor and the TAs for maximal response possibilities.  We will answer questions that pertain only to clarification.  In particular this means we will not debug your code.\n",
    "1. Late turn in of the midterm will result in a 10% reduction every **HOUR** that it is late.  If you feel that there is a special circumstance that warrants consideration tells us BEFORE the Tuesday (and more so before the exam starts).\n",
    "\n",
    "Good luck!"
   ]
  },
  {
   "cell_type": "markdown",
   "metadata": {
    "nbgrader": {
     "grade": false,
     "grade_id": "Q1",
     "locked": true,
     "solution": false
    }
   },
   "source": [
    "## Question 1\n",
    "Euler's constant $\\gamma = 0.5772156\\ldots$ is defined as the limit\n",
    "\n",
    "$$ \\gamma = \\lim_{n \\rightarrow \\infty} \\gamma_n$$\n",
    "\n",
    "where \n",
    "\n",
    "$$\\gamma_n = 1 + \\frac{1}{2} + \\frac{1}{3} + \\cdots + \\frac{1}{n} - \\ln n.$$\n",
    "\n",
    "Assuming that $\\gamma - \\gamma_n \\approx c n^{-d},~n \\rightarrow \\infty$, for some constants $c$ and $d > 0$, determine $c$ and $d$ by experimenting computationally."
   ]
  },
  {
   "cell_type": "markdown",
   "metadata": {},
   "source": [
    "We can compute the function $\\gamma - \\gamma_n$ and fit the function $cn^{-d}$ to it by taking the log of the data.\n",
    "\n",
    "$$\\begin{aligned}\n",
    "    g(n) &= \\gamma - \\gamma_n \\\\\n",
    "         &= c n^{-d} \\\\\n",
    "    \\log g(n) &= \\log c - d \\log n\n",
    "\\end{aligned}$$\n",
    "\n",
    "This we can fit using a least squares fit if we re-identify the variable $\\hat{c} = \\log c$ we then have\n",
    "\n",
    "$$\\begin{bmatrix}\n",
    "    1 & - \\log n_1 \\\\\n",
    "    1 & - \\log n_2 \\\\\n",
    "    \\vdots & \\vdots \\\\\n",
    "    1 & - \\log n_k \n",
    "\\end{bmatrix} \\begin{bmatrix} \\hat{c} \\\\ d \\end{bmatrix} =\n",
    "\\begin{bmatrix}\n",
    "    \\log g(n_1) \\\\\n",
    "    \\log g(n_2) \\\\\n",
    "    \\vdots \\\\\n",
    "    \\log g(n_k)\n",
    "\\end{bmatrix}$$\n",
    "\n",
    "where we have assumed we have $k$ points.  This is a $k \\times 2$ matrix so is not directly computable but we can define the least-squares problem."
   ]
  },
  {
   "cell_type": "code",
   "execution_count": 35,
   "metadata": {
    "collapsed": false,
    "nbgrader": {
     "grade": true,
     "grade_id": "A1",
     "locked": false,
     "points": 1,
     "solution": true
    }
   },
   "outputs": [
    {
     "name": "stdout",
     "output_type": "stream",
     "text": [
      "(99, 2) (99,)\n"
     ]
    },
    {
     "data": {
      "image/png": "[encoded data removed]",
      "text/plain": [
       "<matplotlib.figure.Figure at 0x1092bad50>"
      ]
     },
     "metadata": {},
     "output_type": "display_data"
    }
   ],
   "source": [
    "def gamma_n(n):\n",
    "    gamma_sum = 0.0\n",
    "    for i in xrange(1, n+1):\n",
    "        gamma_sum += 1.0 / float(i)\n",
    "    return gamma_sum - numpy.log(n)\n",
    "\n",
    "N = numpy.array(range(10, 1000, 10))\n",
    "error = numpy.empty(N.shape[0])\n",
    "for (i, n) in enumerate(N):\n",
    "    error[i] = numpy.abs(numpy.euler_gamma - gamma_n(n))\n",
    "    \n",
    "# Construct coefficient matrix\n",
    "A = numpy.ones((N.shape[0], 2))\n",
    "A[:, 1] = -numpy.log(N)\n",
    "coeff = numpy.linalg.lstsq(A, numpy.log(error))[0]\n",
    "c = numpy.exp(coeff[0])\n",
    "d = coeff[1]\n",
    "    \n",
    "fig = plt.figure()\n",
    "axes = fig.add_subplot(1, 1, 1)\n",
    "\n",
    "axes.loglog(N, error, 'ko')\n",
    "axes.plot(N, c*N**(-d),'r-')\n",
    "\n",
    "plt.show()"
   ]
  },
  {
   "cell_type": "markdown",
   "metadata": {
    "nbgrader": {
     "grade": false,
     "grade_id": "Q2",
     "locked": true,
     "solution": false
    }
   },
   "source": [
    "## Question 2\n",
    "Let $f(x) = (n+1)x - 1$.  The iteration\n",
    "\n",
    "$$x_k = f(x_{k-1}), ~k=1,2,\\ldots,K; ~x_0 = 1/n$$\n",
    "\n",
    "in exact arithmetic converges to the fixed point $1/n$ in one step.  Explain why this is.  Now compute this in finite arithmetic with $n=1,2,3,4,5$ and `K= xrange(10:50:10)` and explain what you observe."
   ]
  },
  {
   "cell_type": "markdown",
   "metadata": {
    "collapsed": true,
    "nbgrader": {
     "grade": true,
     "grade_id": "A2",
     "locked": false,
     "points": 1,
     "solution": true
    }
   },
   "source": [
    "By evaluating the fixed point we can see that the exact representation of the fixed point will lead to an exact answer.  In finite arithmetic this is not always the case unless $1/n$ is representable in the finite arithmetic."
   ]
  },
  {
   "cell_type": "code",
   "execution_count": 26,
   "metadata": {
    "collapsed": false
   },
   "outputs": [
    {
     "name": "stdout",
     "output_type": "stream",
     "text": [
      "0.02\n",
      "0.02\n",
      "0.02\n",
      "0.0200000000024\n",
      "0.0200000001202\n",
      "0.0200000061289\n",
      "0.0200003125729\n",
      "0.020015941216\n",
      "0.0208130020136\n",
      "0.0614631026951\n",
      "2.13461823745\n",
      "107.86553011\n",
      "5500.14203561\n",
      "280506.243816\n",
      "14305817.4346\n",
      "729596688.165\n",
      "37209431095.4\n",
      "1.89768098587e+12\n",
      "9.67817302792e+13\n",
      "4.93586824424e+15\n",
      "2.51729280456e+17\n",
      "1.28381933033e+19\n",
      "6.54747858466e+20\n",
      "3.33921407818e+22\n",
      "1.70299917987e+24\n",
      "8.68529581734e+25\n",
      "4.42950086684e+27\n",
      "2.25904544209e+29\n",
      "1.15211317547e+31\n",
      "5.87577719488e+32\n",
      "2.99664636939e+34\n",
      "1.52828964839e+36\n",
      "7.79427720678e+37\n",
      "3.97508137546e+39\n",
      "2.02729150148e+41\n",
      "1.03391866576e+43\n",
      "5.27298519536e+44\n",
      "2.68922244963e+46\n",
      "1.37150344931e+48\n",
      "6.99466759149e+49\n",
      "3.56728047166e+51\n",
      "1.81931304055e+53\n",
      "9.27849650679e+54\n",
      "4.73203321846e+56\n",
      "2.41333694142e+58\n",
      "1.23080184012e+60\n",
      "6.27708938462e+61\n",
      "3.20131558616e+63\n",
      "1.63267094894e+65\n",
      "8.3266218396e+66\n",
      "0.0166666666667\n",
      "0.0166666666667\n",
      "0.0166666666664\n",
      "0.0166666666532\n",
      "0.0166666658468\n",
      "0.0166666166565\n",
      "0.0166636160477\n",
      "0.016480578909\n",
      "0.00531531344647\n",
      "-0.675765879765\n",
      "-42.2217186657\n",
      "-2576.52483861\n",
      "-157169.015155\n",
      "-9587310.92445\n",
      "-584825967.392\n",
      "-35674384011.9\n",
      "-2.17613742473e+12\n",
      "-1.32744382908e+14\n",
      "-8.09740735741e+15\n",
      "-4.93941848802e+17\n",
      "-3.01304527769e+19\n",
      "-1.83795761939e+21\n",
      "-1.12115414783e+23\n",
      "-6.83904030176e+24\n",
      "-4.17181458407e+26\n",
      "-2.54480689628e+28\n",
      "-1.55233220673e+30\n",
      "-9.46922646107e+31\n",
      "-5.77622814125e+33\n",
      "-3.52349916616e+35\n",
      "-2.14933449136e+37\n",
      "-1.31109403973e+39\n",
      "-7.99767364235e+40\n",
      "-4.87858092183e+42\n",
      "-2.97593436232e+44\n",
      "-1.81531996101e+46\n",
      "-1.10734517622e+48\n",
      "-6.75480557493e+49\n",
      "-4.12043140071e+51\n",
      "-2.51346315443e+53\n",
      "-1.5332125242e+55\n",
      "-9.35259639765e+56\n",
      "-5.70508380256e+58\n",
      "-3.48010111956e+60\n",
      "-2.12286168293e+62\n",
      "-1.29494562659e+64\n",
      "-7.8991683222e+65\n",
      "-4.81849267654e+67\n",
      "-2.93928053269e+69\n",
      "-1.79296112494e+71\n",
      "0.0142857142857\n",
      "0.0142857142857\n",
      "0.0142857142855\n",
      "0.0142857142675\n",
      "0.014285712996\n",
      "0.0142856227156\n",
      "0.0142792128053\n",
      "0.0138241091743\n",
      "-0.0184882486227\n",
      "-2.31266565221\n",
      "-165.199261307\n",
      "-11730.1475528\n",
      "-832841.476249\n",
      "-59131745.8137\n",
      "-4198353953.77\n",
      "-2.98083130719e+11\n",
      "-2.1163902281e+13\n",
      "-1.50263706195e+15\n",
      "-1.06687231399e+17\n",
      "-7.57479342931e+18\n",
      "-5.37810333481e+20\n",
      "-3.81845336771e+22\n",
      "-2.71110189108e+24\n",
      "-1.92488234267e+26\n",
      "-1.36666646329e+28\n",
      "-9.70333188937e+29\n",
      "-6.88936564146e+31\n",
      "-4.89144960543e+33\n",
      "-3.47292921986e+35\n",
      "-2.4657797461e+37\n",
      "-1.75070361973e+39\n",
      "-1.24299957001e+41\n",
      "-8.82529694706e+42\n",
      "-6.26596083241e+44\n",
      "-4.44883219101e+46\n",
      "-3.15867085562e+48\n",
      "-2.24265630749e+50\n",
      "-1.59228597832e+52\n",
      "-1.13052304461e+54\n",
      "-8.0267136167e+55\n",
      "-5.69896666786e+57\n",
      "-4.04626633418e+59\n",
      "-2.87284909727e+61\n",
      "-2.03972285906e+63\n",
      "-1.44820322993e+65\n",
      "-1.02822429325e+67\n",
      "-7.30039248209e+68\n",
      "-5.18327866228e+70\n",
      "-3.68012785022e+72\n",
      "-2.61289077366e+74\n",
      "0.0125\n",
      "0.0125\n",
      "0.0124999999997\n",
      "0.0124999999764\n",
      "0.0124999980883\n",
      "0.0124998451557\n",
      "0.012487457609\n",
      "0.0114840663315\n",
      "-0.0697906271503\n",
      "-6.65304079918\n",
      "-539.896304733\n",
      "-43732.6006834\n",
      "-3542341.65536\n",
      "-286929675.084\n",
      "-23241303682.8\n",
      "-1.88254559831e+12\n",
      "-1.52486193463e+14\n",
      "-1.23513816705e+16\n",
      "-1.00046191531e+18\n",
      "-8.10374151401e+19\n",
      "-6.56403062635e+21\n",
      "-5.31686480734e+23\n",
      "-4.30666049395e+25\n",
      "-3.4883950001e+27\n",
      "-2.82559995008e+29\n",
      "-2.28873595956e+31\n",
      "-1.85387612725e+33\n",
      "-1.50163966307e+35\n",
      "-1.21632812709e+37\n",
      "-9.8522578294e+38\n",
      "-7.98032884181e+40\n",
      "-6.46406636187e+42\n",
      "-5.23589375311e+44\n",
      "-4.24107394002e+46\n",
      "-3.43526989142e+48\n",
      "-2.78256861205e+50\n",
      "-2.25388057576e+52\n",
      "-1.82564326637e+54\n",
      "-1.47877104576e+56\n",
      "-1.19780454706e+58\n",
      "-9.7022168312e+59\n",
      "-7.85879563328e+61\n",
      "-6.36562446295e+63\n",
      "-5.15615581499e+65\n",
      "-4.17648621014e+67\n",
      "-3.38295383022e+69\n",
      "-2.74019260248e+71\n",
      "-2.219556008e+73\n",
      "-1.79784036648e+75\n",
      "-1.45625069685e+77\n",
      "0.0111111111111\n",
      "0.0111111111111\n",
      "0.0111111111108\n",
      "0.0111111110814\n",
      "0.0111111084041\n",
      "0.0111108647769\n",
      "0.0110886947016\n",
      "0.00907121784206\n",
      "-0.174519176372\n",
      "-16.8812450499\n",
      "-1537.19329954\n",
      "-139885.590258\n",
      "-12729589.7135\n",
      "-1158392664.93\n",
      "-1.05413732509e+11\n",
      "-9.59264965834e+12\n",
      "-8.72931118909e+14\n",
      "-7.94367318207e+16\n",
      "-7.22874259569e+18\n",
      "-6.57815576207e+20\n",
      "-5.98612174349e+22\n",
      "-5.44737078657e+24\n",
      "-4.95710741578e+26\n",
      "-4.51096774836e+28\n",
      "-4.10498065101e+30\n",
      "-3.73553239242e+32\n",
      "-3.3993344771e+34\n",
      "-3.09339437416e+36\n",
      "-2.81498888049e+38\n",
      "-2.56163988124e+40\n",
      "-2.33109229193e+42\n",
      "-2.12129398566e+44\n",
      "-1.93037752695e+46\n",
      "-1.75664354952e+48\n",
      "-1.59854563007e+50\n",
      "-1.45467652336e+52\n",
      "-1.32375563626e+54\n",
      "-1.20461762899e+56\n",
      "-1.09620204238e+58\n",
      "-9.9754385857e+59\n",
      "-9.07764911299e+61\n",
      "-8.26066069282e+63\n",
      "-7.51720123047e+65\n",
      "-6.84065311972e+67\n",
      "-6.22499433895e+69\n",
      "-5.66474484844e+71\n",
      "-5.15491781208e+73\n",
      "-4.690975209e+75\n",
      "-4.26878744019e+77\n",
      "-3.88459657057e+79\n"
     ]
    },
    {
     "data": {
      "image/png": "[encoded data removed]",
      "text/plain": [
       "<matplotlib.figure.Figure at 0x10c798210>"
      ]
     },
     "metadata": {},
     "output_type": "display_data"
    },
    {
     "data": {
      "image/png": "[encoded data removed]",
      "text/plain": [
       "<matplotlib.figure.Figure at 0x10d211650>"
      ]
     },
     "metadata": {},
     "output_type": "display_data"
    },
    {
     "data": {
      "image/png": "[encoded data removed]",
      "text/plain": [
       "<matplotlib.figure.Figure at 0x10d99bc90>"
      ]
     },
     "metadata": {},
     "output_type": "display_data"
    },
    {
     "data": {
      "image/png": "[encoded data removed]",
      "text/plain": [
       "<matplotlib.figure.Figure at 0x10d211610>"
      ]
     },
     "metadata": {},
     "output_type": "display_data"
    }
   ],
   "source": [
    "f = lambda n, x: (n + 1.0) * x - 1\n",
    "\n",
    "axes = []\n",
    "N_range = range(50, 100, 10)\n",
    "for i in xrange(4):\n",
    "    fig = plt.figure()\n",
    "    axes.append(fig.add_subplot(1, 1, 1))\n",
    "    axes[i].set_xlabel(\"n\")\n",
    "    axes[i].set_ylabel(\"$|x - x_0|$\")\n",
    "    axes[i].set_title(\"n = %s\" % N_range[i])\n",
    "    \n",
    "for n in N_range:\n",
    "    x = 1.0 / float(n)\n",
    "    for k in xrange(50):\n",
    "        x = f(n, x)\n",
    "        print x\n",
    "        axes[i].plot(k + 1, numpy.abs(x - 1.0 / float(n)), 'bo')\n",
    "\n",
    "plt.show()\n",
    "    "
   ]
  },
  {
   "cell_type": "markdown",
   "metadata": {
    "nbgrader": {
     "grade": false,
     "grade_id": "Q3",
     "locked": true,
     "solution": false
    }
   },
   "source": [
    "## Question 3\n",
    "Consider the equation\n",
    "\n",
    "$$\\frac{x}{2} - \\sin x = 0$$\n",
    "\n",
    "Show that the only positive root is located in the interval $x\\in[\\frac{1}{2}\\pi,\\pi]$.\n",
    "\n",
    "Compute the root to $10^{-7}$, $10^{-15}$ accuracy using\n",
    "1. Bisection with starting values $[\\frac{1}{2} \\pi, \\pi]$\n",
    "1. Secant method with same starting values\n",
    "1. Newton's method with $x_0 = \\frac{1}{2} \\pi$.\n",
    "\n",
    "Write a function that returns the number of iterations needed for a given tolerance."
   ]
  },
  {
   "cell_type": "markdown",
   "metadata": {
    "nbgrader": {
     "grade": true,
     "grade_id": "A3a",
     "locked": false,
     "points": 1,
     "solution": true
    }
   },
   "source": [
    "Define the function $f(x) = \\frac{x}{2} - \\sin x$.  By evaluation the function is positive and negative on either side of the bracket:\n",
    "\n",
    "$f(\\pi/2) = \\frac{\\pi}{4} - \\sin \\frac{\\pi}{2} = \\frac{\\pi}{4} - 1 < 0$\n",
    "\n",
    "$f(\\pi) = \\frac{\\pi}{2} - \\sin \\pi = \\frac{\\pi}{2} - 0 > 0$\n",
    "\n",
    "To show that there are no other zeros we can show that the function never flips sign, i.e. is bounded from below by a function.  One key observation is that the average slope of the function is $\\frac{1}{2}$, allow for this we can construct a line that bounds the function $f(x)$ from below as\n",
    "\n",
    "$y = \\frac{1}{2} x - 1$\n",
    "\n",
    "where the y-intercept is derived by looking at the minimum of the function in one period of the $\\sin x$, i.e. at $x=3\\pi/2$.  This shows that $f(x) > \\frac{1}{2} x - 1 ~~~~\\forall x > 0$.  Since there is of course only one zero for the linear function $f(x)$ has only on zero when $x > 0$."
   ]
  },
  {
   "cell_type": "code",
   "execution_count": 47,
   "metadata": {
    "collapsed": false,
    "nbgrader": {
     "grade": true,
     "grade_id": "A3b",
     "locked": false,
     "points": 1,
     "solution": true
    }
   },
   "outputs": [
    {
     "data": {
      "text/plain": [
       "[<matplotlib.lines.Line2D at 0x1089fe990>]"
      ]
     },
     "execution_count": 47,
     "metadata": {},
     "output_type": "execute_result"
    },
    {
     "data": {
      "image/png": "[encoded data removed]",
      "text/plain": [
       "<matplotlib.figure.Figure at 0x1099a2290>"
      ]
     },
     "metadata": {},
     "output_type": "display_data"
    }
   ],
   "source": [
    "f = lambda x: x / 2.0 - numpy.sin(x)\n",
    "x = numpy.linspace(0, 4.0 * numpy.pi, 1000)\n",
    "\n",
    "fig = plt.figure()\n",
    "axes = fig.add_subplot(1, 1, 1)\n",
    "axes.plot(x, f(x),'k')\n",
    "axes.plot(x, 0.5*x - 1,'r')\n",
    "axes.plot(x, numpy.zeros(x.shape[0]), 'k--')"
   ]
  },
  {
   "cell_type": "markdown",
   "metadata": {
    "nbgrader": {
     "grade": false,
     "grade_id": "Q4",
     "locked": true,
     "solution": false
    }
   },
   "source": [
    "## Question 4\n",
    "Bernoulli's equation for fluid flow in an open channel with a small bump is\n",
    "\n",
    "$$\\frac{Q^2}{2gw^2h_0^2} + h_0 = \\frac{Q^2}{2gw^2h^2} + h + H$$\n",
    "\n",
    "where\n",
    "\n",
    "$Q = 1.2~\\text{m}^3/\\text{s} =$ volume rate of flow\n",
    "\n",
    "$g = 9.81 \\text{m}/\\text{s}^2 = $ gravitational acceleration\n",
    "\n",
    "$w = 1.8 \\text{m} = $ width of channel\n",
    "\n",
    "$h_0 = 0.6 \\text{m} = $ upstream water level\n",
    "\n",
    "$H = 0.075 \\text{m} = $ height of bump\n",
    "\n",
    "$h = $ water level above the bump.\n",
    "\n",
    "Determine $h$ to `1e-3` precision."
   ]
  },
  {
   "cell_type": "code",
   "execution_count": 55,
   "metadata": {
    "collapsed": false,
    "nbgrader": {
     "grade": true,
     "grade_id": "A4",
     "locked": false,
     "points": 1,
     "solution": true
    }
   },
   "outputs": [
    {
     "name": "stdout",
     "output_type": "stream",
     "text": [
      "(0.2631152099535003, 4)\n",
      "(0.49600107497234686, 3)\n"
     ]
    },
    {
     "data": {
      "image/png": "[encoded data removed]",
      "text/plain": [
       "<matplotlib.figure.Figure at 0x10a289d10>"
      ]
     },
     "metadata": {},
     "output_type": "display_data"
    }
   ],
   "source": [
    "def f(h):\n",
    "    Q = 1.2\n",
    "    g = 9.91\n",
    "    w = 1.8\n",
    "    h_0 = 0.6\n",
    "    H = 0.075\n",
    "    return Q**2 / (2.0 * g * w**2) * (1.0 / (h_0**2) -  1.0 / h**2) + h_0 - h - H\n",
    "\n",
    "\n",
    "def secant(bracket, f, tolerance=1e-3):\n",
    "    # Algorithm parameters\n",
    "    MAX_STEPS = 100\n",
    "        \n",
    "    # Initial guess\n",
    "    x_k = bracket[0]\n",
    "    x_km = bracket[1]\n",
    "\n",
    "    success = False\n",
    "    for n in xrange(1, MAX_STEPS + 1):\n",
    "        x_kp = x_k - f(x_k) * (x_k - x_km) / (f(x_k) - f(x_km))\n",
    "        x_km = x_k\n",
    "        x_k = x_kp\n",
    "        if numpy.abs(f(x_k)) < tolerance:\n",
    "            success = True\n",
    "            break\n",
    "            \n",
    "    if not success:\n",
    "        return None, -1\n",
    "    \n",
    "    return x_k, n\n",
    "\n",
    "print secant([0.2, 0.3], f)\n",
    "print secant([0.4, 0.6], f)\n",
    "\n",
    "h = numpy.linspace(0.1, 0.6, 100)\n",
    "fig = plt.figure()\n",
    "axes = fig.add_subplot(1, 1, 1)\n",
    "axes.plot(h, f(h))\n",
    "axes.plot(h, numpy.zeros(h.shape), 'k--')\n",
    "plt.show()"
   ]
  },
  {
   "cell_type": "markdown",
   "metadata": {
    "nbgrader": {
     "grade": false,
     "grade_id": "Q5",
     "locked": true,
     "solution": false
    }
   },
   "source": [
    "## Question 5\n",
    "The *Littlewood-Salem-Izumi* constant $\\alpha_0$ is defined as the unique solution where $0 < \\alpha < 1$ of \n",
    "\n",
    "$$ \\int^{3 \\pi / 2}_{0} \\frac{\\cos t}{t^\\alpha} dt = 0.$$\n",
    "\n",
    "See http://www.jstor.org/stable/40590375?seq=4#page_scan_tab_contents"
   ]
  },
  {
   "cell_type": "markdown",
   "metadata": {
    "nbgrader": {
     "grade": false,
     "grade_id": "Q5a",
     "locked": true,
     "solution": false
    }
   },
   "source": [
    "**(a)** If we wanted to use Newton's method and Gauss-Legendre 2-point quadrature to compute $\\alpha_0$ what functions $f(x)$ and $f'(x)$ should we define to run the Newton iteration?  Note that here we are using a single partition of the interval $[0, 3 \\pi / 2]$ for the quadrature rule."
   ]
  },
  {
   "cell_type": "markdown",
   "metadata": {
    "nbgrader": {
     "grade": true,
     "grade_id": "A5a",
     "locked": false,
     "points": 1,
     "solution": true
    }
   },
   "source": [
    "Define the mapping\n",
    "\n",
    "$t = \\frac{3 \\pi}{4} (\\xi + 1)$\n",
    "\n",
    "and apply the Gauss-Legendre 2-point rule as\n",
    "\n",
    "$$\\begin{aligned}\n",
    "    f(\\alpha) &= \\int^{3 \\pi / 2}_{0} \\frac{\\cos t}{t^\\alpha} dt =\\int^1_{-1} \\frac{\\cos\\left(\\frac{3 \\pi}{4} (\\xi + 1)\\right)}{\\left[\\frac{3 \\pi}{4} (\\xi + 1)\\right]^\\alpha} \\frac{3 \\pi}{4} d\\xi \\\\\n",
    "    &= \\frac{3 \\pi}{4} \\left[ w_1 \\frac{\\cos\\left(\\frac{3 \\pi}{4} (\\xi_1 + 1)\\right)}{\\left[\\frac{3 \\pi}{4} (\\xi_1 + 1)\\right]^\\alpha} + w_2 \\frac{\\cos\\left(\\frac{3 \\pi}{4} (\\xi_2 + 1)\\right)}{\\left[\\frac{3 \\pi}{4} (\\xi_2 + 1)\\right]^\\alpha} \\right ]\n",
    "\\end{aligned}$$\n",
    "\n",
    "where $\\xi_{1,2} = \\pm\\sqrt{\\frac{1}{3}}$ and $w_{1,2} = 1$ defining $f(\\alpha)$.\n",
    "\n",
    "To find the derivative we want to take the derivative of the above function keeping in mind that \n",
    "\n",
    "$$\\frac{\\text{d}}{\\text{d}\\alpha} \\frac{1}{\\eta^\\alpha} = -\\frac{\\ln \\eta}{\\eta^\\alpha}$$\n",
    "\n",
    "$$\\begin{aligned}\n",
    "    f'(\\alpha) &=\\frac{3 \\pi}{4} \\left[\\cos\\left(\\frac{3 \\pi}{4} (\\xi_1 + 1)\\right) \\frac{\\text{d}}{\\text{d}\\alpha} \\left( \\frac{1}{\\left[\\frac{3 \\pi}{4} (\\xi_1 + 1)\\right]^\\alpha} \\right) + \\cos\\left(\\frac{3 \\pi}{4} (\\xi_2 + 1)\\right) \\frac{\\text{d}}{\\text{d}\\alpha} \\left(\\frac{1}{\\left[\\frac{3 \\pi}{4} (\\xi_2 + 1)\\right]^\\alpha} \\right) \\right ] \\\\\n",
    "    &= -\\frac{3 \\pi}{4} \\left[\\cos\\left(\\frac{3 \\pi}{4} (\\xi_1 + 1)\\right) \\left( \\frac{\\ln \\left[\\frac{3 \\pi}{4} (\\xi_1 + 1)\\right]}{\\left[\\frac{3 \\pi}{4} (\\xi_1 + 1)\\right]^\\alpha} \\right) + \\cos\\left(\\frac{3 \\pi}{4} (\\xi_2 + 1)\\right) \\left(\\frac{\\ln \\left[\\frac{3 \\pi}{4} (\\xi_2 + 1)\\right]}{\\left[\\frac{3 \\pi}{4} (\\xi_2 + 1)\\right]^\\alpha} \\right) \\right ]\n",
    "\\end{aligned}$$"
   ]
  },
  {
   "cell_type": "markdown",
   "metadata": {
    "nbgrader": {
     "grade": false,
     "grade_id": "Q5b",
     "locked": true,
     "solution": false
    }
   },
   "source": [
    "**(b)** Implement the above scheme to compute $\\alpha$ by writing a function that takes in an initial guess and a tolerance that sets the stopping criteria such that if the difference between subsequent iterates is below this tolerance the iteration will stop."
   ]
  },
  {
   "cell_type": "code",
   "execution_count": 16,
   "metadata": {
    "collapsed": false,
    "nbgrader": {
     "grade": true,
     "grade_id": "A5b",
     "locked": false,
     "points": 1,
     "solution": true
    }
   },
   "outputs": [
    {
     "name": "stdout",
     "output_type": "stream",
     "text": [
      "0.32947215594\n"
     ]
    }
   ],
   "source": [
    "def LSI_constant(alpha, tolerance):\n",
    "    ### BEGIN SOLUTION\n",
    "    xi_1 = 3.0 * numpy.pi / 4.0 * (-numpy.sqrt(1.0 / 3.0) + 1.0)\n",
    "    xi_2 = 3.0 * numpy.pi / 4.0 * ( numpy.sqrt(1.0 / 3.0) + 1.0)\n",
    "    f = lambda alpha: 3.0 * numpy.pi / 4.0 * ((numpy.cos(xi_1)) / (xi_1)**alpha + (numpy.cos(xi_2)) / (xi_2)**alpha)\n",
    "    f_prime = lambda alpha: -3.0 * numpy.pi / 4.0 * (numpy.cos(xi_1) * numpy.log(xi_1) / xi_1**alpha + numpy.cos(xi_2) * numpy.log(xi_2) / xi_2**alpha)\n",
    "\n",
    "    MAX_STEPS = 1000\n",
    "    success = False\n",
    "    for n in xrange(MAX_STEPS):\n",
    "        alpha_old = alpha\n",
    "        alpha = alpha - f(alpha) / f_prime(alpha)\n",
    "        if numpy.abs(alpha_old - alpha) < tolerance:\n",
    "            success = True\n",
    "            break\n",
    "            \n",
    "    if not success:\n",
    "        raise Exception(\"Iteration did not converge!\")\n",
    "    ### END SOLUTION\n",
    "    \n",
    "    return alpha\n",
    "\n",
    "print LSI_constant(31.0 / 100.0, 1e-6)"
   ]
  },
  {
   "cell_type": "markdown",
   "metadata": {
    "nbgrader": {
     "grade": false,
     "grade_id": "Q6",
     "locked": true,
     "solution": false
    }
   },
   "source": [
    "## Question 6\n",
    "Find the 2nd order, central difference based  2-dimensional differential quantities.  Make sure to consider the case where $\\Delta x \\neq \\Delta y$ and use notation such that\n",
    "\n",
    "$$f(x_i, y_j) = f_{i,j}$$"
   ]
  },
  {
   "cell_type": "markdown",
   "metadata": {
    "nbgrader": {
     "grade": false,
     "grade_id": "Q6a",
     "locked": true,
     "solution": false
    }
   },
   "source": [
    "**(a)** $\\nabla \\cdot \\vec{f}(\\vec{x}) = \\text{div}( \\vec{f}(\\vec{x}) ):= \\frac{\\partial f}{\\partial x} + \\frac{\\partial f}{\\partial y}$"
   ]
  },
  {
   "cell_type": "markdown",
   "metadata": {
    "nbgrader": {
     "grade": true,
     "grade_id": "A6a",
     "locked": false,
     "points": 1,
     "solution": true
    }
   },
   "source": [
    "$$\\nabla \\cdot \\vec{f} \\approx \\frac{f_{i+1,j} - f_{i-1,j}}{2 \\Delta x} + \\frac{f_{i,j+1} - f_{i,j-1}}{2 \\Delta y}$$"
   ]
  },
  {
   "cell_type": "markdown",
   "metadata": {
    "nbgrader": {
     "grade": false,
     "grade_id": "Q6b",
     "locked": true,
     "solution": false
    }
   },
   "source": [
    "**(b)** $\\Delta( f ):= \\frac{\\partial^2 f}{\\partial x^2} + \\frac{\\partial^2 f}{\\partial y^2}$"
   ]
  },
  {
   "cell_type": "markdown",
   "metadata": {
    "nbgrader": {
     "grade": true,
     "grade_id": "A6b",
     "locked": false,
     "points": 1,
     "solution": true
    }
   },
   "source": [
    "$$\\Delta f \\approx \\frac{f_{i+1,j} - 2 f_{ij} + f_{i-1,j}}{\\Delta x^2} + \\frac{f_{i,j+1} - 2 f_{ij} + f_{i,j-1}}{\\Delta y^2}$$"
   ]
  },
  {
   "cell_type": "markdown",
   "metadata": {
    "nbgrader": {
     "grade": false,
     "grade_id": "Q7",
     "locked": true,
     "solution": false
    }
   },
   "source": [
    "## Question 7\n",
    "Derive the first central difference approximation for $f^{(4)}(x)$ from the Taylor series."
   ]
  },
  {
   "cell_type": "markdown",
   "metadata": {
    "collapsed": true,
    "nbgrader": {
     "grade": true,
     "grade_id": "A7a",
     "locked": false,
     "points": 1,
     "solution": true
    }
   },
   "source": [
    "Centered around $x_i$ we will need the points $(x_{i-2}, f(x_{i-2}))$, $(x_{i-1}, f(x_{i-1}))$, $(x_{i}, f(x_{i}))$, $(x_{i+1}, f(x_{i+1}))$, and $(x_{i+2}, f(x_{i+2}))$.  The Taylor series of each of these is\n",
    "\n",
    "$f(x) = f(x_i) + (x - x_i) f'(x_i) + (x-x_i)^2 \\frac{f''(x_i)}{2!} + (x-x_i)^3 \\frac{f'''(x_i)}{3!} + (x-x_i)^4 \\frac{f^{(4)}(x_i)}{4!} + (x-x_i)^5 \\frac{f^{(5)}(x_i)}{5!} + \\mathcal{O}((x-x_i)^6)$\n",
    "\n",
    "$$\\begin{aligned}\n",
    "    f(x_{i-2}) &= f(x_i) - 2 \\Delta x f'(x_i) + 4 \\Delta x^2 \\frac{f''(x_i)}{2!} - 8 \\Delta x^3 \\frac{f'''(x_i)}{3!} + 16 \\Delta x^4 \\frac{f^{(4)}(x_i)}{4!} - 32 \\Delta x^5 \\frac{f^{(5)}(x_i)}{5!} + \\mathcal{O}(\\Delta x^6) \\\\\n",
    "    f(x_{i-1}) &= f(x_i) - \\Delta x f'(x_i) + \\Delta x^2 \\frac{f''(x_i)}{2!} - \\Delta x^3 \\frac{f'''(x_i)}{3!} +  \\Delta x^4 \\frac{f^{(4)}(x_i)}{4!} - \\Delta x^5 \\frac{f^{(5)}(x_i)}{5!} + \\mathcal{O}(\\Delta x^6) \\\\\n",
    "    f(x_{i+1}) &= f(x_i) + \\Delta x f'(x_i) + \\Delta x^2 \\frac{f''(x_i)}{2!} + \\Delta x^3 \\frac{f'''(x_i)}{3!} +  \\Delta x^4 \\frac{f^{(4)}(x_i)}{4!} + \\Delta x^5 \\frac{f^{(5)}(x_i)}{5!} + \\mathcal{O}(\\Delta x^6) \\\\\n",
    "    f(x_{i+2}) &= f(x_i) + 2 \\Delta x f'(x_i) + 4 \\Delta x^2 \\frac{f''(x_i)}{2!} + 8 \\Delta x^3 \\frac{f'''(x_i)}{3!} + 16 \\Delta x^4 \\frac{f^{(4)}(x_i)}{4!} + 32 \\Delta x^5 \\frac{f^{(5)}(x_i)}{5!} + \\mathcal{O}(\\Delta x^6) \\\\\n",
    "\\end{aligned}$$\n",
    "\n",
    "The rule should be of the form of\n",
    "\n",
    "$$f^(4)(x_i) + E(\\Delta x) = A f(x_{i-2}) + B f(x_{i-1}) + C f(x_i) + D f(x_{i+1}) + E f(x_{i+2})$$\n",
    "\n",
    "We can then derive the following set of equations\n",
    "\n",
    "$$\\begin{aligned}\n",
    "    &f(x_i): ~~ &A &+& B &+& C &+& D &+& E &=& 0 \\\\\n",
    "    &f'(x_i): ~~ &-2A &+& -B &+& 0 &+& D &+& 2 E &=& 0 \\\\\n",
    "    &f''(x_i): ~~ &2A &+& B/2 &+& 0 &+& D/2 &+& 2 E &=& 0 \\\\\n",
    "    &f'''(x_i): ~~ &-4A/3 &+& -B/6 &+& 0 &+& D/6 &+& 4 E/3 &=& 0 \\\\\n",
    "    &f^{(4)}(x_i): ~~ &2A/3 &+& B/24 &+& 0 &+& D/24 &+& 2 E/3 &=& 1 / \\Delta x^4 \\\\\n",
    "\\end{aligned}$$\n",
    "\n",
    "This is a system of equations which we can use `numpy` or `sympy` to solve the following system:\n",
    "\n",
    "$$\\begin{bmatrix}\n",
    "    1 & 1 & 1 & 1 & 1 \\\\\n",
    "    -2 & -1 & 0 & 1 & 2 \\\\\n",
    "    2 & 1/2 & 0 & 1/2 & 2 \\\\\n",
    "    -4/3 & -1/6 & 0 & 1/6 & 4/3 \\\\\n",
    "    2/3 & 1/24 & 0 & 1/24 & 2/3\n",
    "\\end{bmatrix} \\begin{bmatrix} A \\\\ B \\\\ C \\\\ D \\\\ E \\end{bmatrix} = \n",
    "\\begin{bmatrix} 0 \\\\ 0 \\\\ 0 \\\\ 0 \\\\ \\frac{1}{\\Delta x^4} \\end{bmatrix}$$\n",
    "\n",
    "which leads to\n",
    "\n",
    "$$D^{(4)}_2(x_i) = \\frac{f(x_{i+2}) - 4 f(x_{i+1}) + 6 f(x_i) - 4 f(x_{i-1}) + f(x_{i-2})}{\\Delta x^4}$$"
   ]
  },
  {
   "cell_type": "code",
   "execution_count": 64,
   "metadata": {
    "collapsed": false,
    "nbgrader": {
     "grade": true,
     "grade_id": "A7",
     "locked": false,
     "points": 1,
     "solution": true
    }
   },
   "outputs": [
    {
     "name": "stdout",
     "output_type": "stream",
     "text": [
      "{C: 6.0/delta_x**4, E: 1.0/delta_x**4, B: -4.0/delta_x**4, A: 1.0/delta_x**4, D: -4.0/delta_x**4}\n"
     ]
    }
   ],
   "source": [
    "from __future__ import division\n",
    "import sympy\n",
    "delta_x, A, B, C, D, E = sympy.symbols(\"delta_x A B C D E\")\n",
    "system = sympy.Matrix([[   1,    1, 1,    1,   1,              0],\n",
    "                       [  -2,   -1, 0,    1,   2,              0],\n",
    "                       [   2,  1/2, 0,  1/2,   2,              0],\n",
    "                       [-4/3, -1/6, 0,  1/6, 4/3,              0],\n",
    "                       [ 2/3, 1/24, 0, 1/24, 2/3, 1 / delta_x**4]])\n",
    "print sympy.solve_linear_system(system, A, B, C, D, E)"
   ]
  },
  {
   "cell_type": "markdown",
   "metadata": {
    "nbgrader": {
     "grade": false,
     "grade_id": "Q8",
     "locked": true,
     "solution": false
    }
   },
   "source": [
    "## Question 8\n",
    "\n",
    "Let $g(x):=\\cos(x)+\\sin(2x) \\quad \\text{ with } x\\in[-2\\pi,2\\pi]$.\n",
    "\n",
    "1. Compute an interpolating polynomial from samples of $g$ taken at $y_k=  \\frac{\\pi}{4}+ k\\cdot \\frac{\\pi}{2} \\text{ for } k\\in [-4,3] \\cap \\mathbb Z$.\n",
    "2. Evaluate the interpolating polynomial at $x_k = k\\cdot \\frac{\\pi}{2}\\text{ for } k\\in [-4,4] \\cap \\mathbb Z$ and use the values to compute finite differences:\n",
    "    - forward differences\n",
    "    - backward finite differences\n",
    "    - central differences\n",
    "    \n",
    "3. Compute the analytical derivative $g'$ of $g$.\n",
    "4. Compute an interpolating polynomial from samples $g'$ taken at $x_k$ and evaluate the resulting polynomial at $y_k$.\n",
    "\n",
    "Do the finite differences of the interpolating polynomial of $g$ equal point values of the interpolating polynomial of the derivative, $g'$?"
   ]
  },
  {
   "cell_type": "code",
   "execution_count": 8,
   "metadata": {
    "collapsed": false,
    "nbgrader": {
     "grade": true,
     "grade_id": "A8",
     "locked": false,
     "points": 1,
     "solution": true
    }
   },
   "outputs": [
    {
     "data": {
      "text/plain": [
       "<matplotlib.legend.Legend at 0x108897450>"
      ]
     },
     "execution_count": 8,
     "metadata": {},
     "output_type": "execute_result"
    },
    {
     "data": {
      "image/png": "[encoded data removed]",
      "text/plain": [
       "<matplotlib.figure.Figure at 0x108841210>"
      ]
     },
     "metadata": {},
     "output_type": "display_data"
    }
   ],
   "source": [
    "def g(x):\n",
    "    return numpy.cos(x)+numpy.sin(2*x)\n",
    "\n",
    "#3. Analytical derivative\n",
    "def g_prime(x):\n",
    "    return -numpy.sin(x)+numpy.cos(2.0*x)*2.0 \n",
    "\n",
    "h=numpy.pi/2.\n",
    "\n",
    "def backward_diff(x):\n",
    "    return [(x[k-1]-x[k])/h for k in range(1,len(x))]\n",
    "\n",
    "def forward_diff(x):\n",
    "    return [(x[k+1]-x[k])/h for k in range(0,len(x)-1)]\n",
    "\n",
    "def central_diff(x):\n",
    "    return [0.5*(x[k+1]-x[k-1])/h for k in range(1,len(x)-1)]\n",
    "\n",
    "z=numpy.linspace(-2*numpy.pi,2*numpy.pi,100)\n",
    "y=numpy.asarray([numpy.pi/4+ k*numpy.pi/2 for k in range(-4,4)])\n",
    "x=numpy.asarray([k*numpy.pi/2 for k in range(-4,5)])\n",
    "\n",
    "#1. Compute the interpolant\n",
    "c = numpy.polyfit(y,g(y),7)\n",
    "p = numpy.poly1d(c)\n",
    "\n",
    "#2. Evaluate interpolating polynomial PLUS finite differences\n",
    "#print 'forward diff at x_k:', forward_diff(p(x))\n",
    "#print 'backward diff at x_k:', backward_diff(p(x))\n",
    "#print 'central diff at x_k:', central_diff(p(x))\n",
    "\n",
    "\n",
    "#4. Interpolating polynomial for g prime\n",
    "d= numpy.polyfit(x,g_prime(x),8)\n",
    "q= numpy.poly1d(d)\n",
    "\n",
    "#print 'interpolant of g_prime at x_k:', q(x)\n",
    "\n",
    "plt.figure(figsize=(10,10), dpi=350)\n",
    "ax=plt.subplot(221)\n",
    "ax.plot(y,g(y),'*')\n",
    "ax.plot(z,p(z))\n",
    "ax.plot(z,g(z),'r',label=\"g(x)\")\n",
    "plt.title(\"Plot of $g$ and Interpolation\")\n",
    "plt.legend()\n",
    "\n",
    "ax2=plt.subplot(222)\n",
    "ax2.plot(x,g_prime(x),'*')\n",
    "ax2.plot(z,g_prime(z),'b',label=\"g'(x)\")\n",
    "ax2.plot(z,q(z),'-r')\n",
    "plt.title(\"Derivative of $g$ and Interpolation\")\n",
    "plt.legend()\n",
    "\n",
    "ax3=plt.subplot(223)\n",
    "ax3.plot(x,q(x),'o')\n",
    "ax3.plot(x[1:],backward_diff(p(x)),'*r', label=\"backward diff\")\n",
    "ax3.plot(x[:len(x)-1],forward_diff(p(x)),'*b', label=\"forward diff\")\n",
    "ax3.plot(x[1:len(x)-1],central_diff(p(x)),'*g', label=\"central diff\")\n",
    "plt.title(\"Derivatives at $x_k$\")\n",
    "plt.legend()\n",
    "\n",
    "ax3=plt.subplot(224)\n",
    "ax3.plot(y,q(y),'o')\n",
    "ax3.plot(y[1:],backward_diff(p(y)),'*r', label=\"backward diff\")\n",
    "ax3.plot(y[:len(y)-1],forward_diff(p(y)),'*b', label=\"forward diff\")\n",
    "ax3.plot(y[1:len(y)-1],central_diff(p(y)),'*g', label=\"central diff\")\n",
    "plt.title(\"Derivatives at $y_k$\")\n",
    "plt.legend()"
   ]
  }
 ],
 "metadata": {
  "celltoolbar": "Create Assignment",
  "kernelspec": {
   "display_name": "Python 2",
   "language": "python",
   "name": "python2"
  },
  "language_info": {
   "codemirror_mode": {
    "name": "ipython",
    "version": 2
   },
   "file_extension": ".py",
   "mimetype": "text/x-python",
   "name": "python",
   "nbconvert_exporter": "python",
   "pygments_lexer": "ipython2",
   "version": "2.7.12"
  },
  "latex_envs": {
   "bibliofile": "biblio.bib",
   "cite_by": "apalike",
   "current_citInitial": 1,
   "eqLabelWithNumbers": true,
   "eqNumInitial": 0
  }
 },
 "nbformat": 4,
 "nbformat_minor": 0
}
