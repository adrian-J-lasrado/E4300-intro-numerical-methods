{
 "cells": [
  {
   "cell_type": "code",
   "execution_count": 1,
   "metadata": {
    "collapsed": false,
    "nbgrader": {
     "grade": false,
     "grade_id": "header1",
     "locked": false,
     "solution": false
    }
   },
   "outputs": [],
   "source": [
    "%matplotlib inline\n",
    "import numpy\n",
    "import matplotlib.pyplot as plt"
   ]
  },
  {
   "cell_type": "markdown",
   "metadata": {
    "nbgrader": {
     "grade": false,
     "grade_id": "header2",
     "locked": true,
     "solution": false
    }
   },
   "source": [
    "Before you turn this problem in, make sure everything runs as expected. First, restart the kernel (in the menubar, select Kernel $\\rightarrow$ Restart) and then run all cells (in the menubar, select Cell $\\rightarrow$ Run All).\n",
    "\n",
    "Make sure you fill in any place that says YOUR CODE HERE or \"YOUR ANSWER HERE\", as well as your name and collaborators below:"
   ]
  },
  {
   "cell_type": "markdown",
   "metadata": {
    "nbgrader": {
     "grade": false,
     "grade_id": "header3",
     "locked": true,
     "solution": false
    }
   },
   "source": [
    "# HW 3:  Interpolation"
   ]
  },
  {
   "cell_type": "markdown",
   "metadata": {
    "nbgrader": {
     "grade": false,
     "grade_id": "Q1",
     "locked": true,
     "solution": false
    }
   },
   "source": [
    "## Question 1\n",
    "\n",
    "Consider data at three points $(x_0, y_0) = (0, 0)$, $(x_1, y_1) = (1, 2)$, and $(x_2, y_2) = (2, 2)$."
   ]
  },
  {
   "cell_type": "markdown",
   "metadata": {
    "nbgrader": {
     "grade": false,
     "grade_id": "Q1-a",
     "locked": true,
     "solution": false
    }
   },
   "source": [
    "**(a)** (20 points) Analytically find the interpolating polynomial $P(x)$ in the basis\n",
    "1. Monomial: $P(x) = p_0 + p_1 x + p_2 x^2$\n",
    "1. Newton: $P(x) = \\sum^2_{i=0} a_i n_i(x)$"
   ]
  },
  {
   "cell_type": "markdown",
   "metadata": {
    "nbgrader": {
     "grade": true,
     "grade_id": "A1-a",
     "locked": false,
     "points": 20,
     "solution": true
    }
   },
   "source": [
    "### Solution:\n",
    "\n",
    "(1)For Monomial, $P(x) = p_0 + p_1 x + p_2 x^2$ leading to the equations\n",
    "\n",
    "$$P_2(x_0) = p_0 + p_1 x_0 + p_2 x_0^2 = y_0$$\n",
    "\n",
    "$$P_2(x_1) = p_0 + p_1 x_1 + p_2 x_1^2 = y_1$$\n",
    "\n",
    "$$P_2(x_2) = p_0 + p_1 x_2 + p_2 x_2^2 = y_2$$\n",
    "\n",
    "Define the *Vandermonde* matrix as\n",
    "\n",
    "$$\n",
    "V = \\begin{bmatrix} \n",
    "     1 & x_0 & x_0^2 \\\\\n",
    "     1 & x_1 & x_1^2 \\\\\n",
    "     1 & x_2 & x_2^2 \n",
    "\\end{bmatrix}\n",
    "$$\n",
    "\n",
    "which allows us to write the system of linear equations\n",
    "\n",
    "$$\\begin{bmatrix} \n",
    "     1 & x_0 & x_0^2 \\\\\n",
    "     1 & x_1 & x_1^2 \\\\\n",
    "     1 & x_2 & x_2^2\n",
    "\\end{bmatrix} \\begin{bmatrix} p_0 \\\\ p_1 \\\\ p_2 \\end{bmatrix} = \\begin{bmatrix} y_0 \\\\ y_1 \\\\ y_2 \\end{bmatrix}$$\n",
    "\n",
    "we can obtain:\n",
    "$$\\begin{bmatrix} \n",
    "     1 & 0 & 0 \\\\\n",
    "     1 & 1 & 1 \\\\\n",
    "     1 & 2 & 4\n",
    "\\end{bmatrix} \\begin{bmatrix} p_0 \\\\ p_1 \\\\ p_2 \\end{bmatrix} = \\begin{bmatrix} 0 \\\\ 2 \\\\ 2 \\end{bmatrix}$$\n",
    "\n",
    "thourgh compute, we get\n",
    "$$\\begin{bmatrix} p_0 \\\\ p_1 \\\\ p_2 \\end{bmatrix} = \n",
    "\\begin{bmatrix} \n",
    "     1 & 0 & 0 \\\\\n",
    "     1 & 1 & 1 \\\\\n",
    "     1 & 2 & 4\n",
    "\\end{bmatrix}^ { -1 } \\begin{bmatrix} 0 \\\\ 2 \\\\ 2 \\end{bmatrix} = \n",
    "\\begin{bmatrix} \n",
    "     1 & 0 & 0 \\\\\n",
    "     -1.5 & 2 & -0.5 \\\\\n",
    "     0.5 & -1 & 0.5\n",
    "\\end{bmatrix} \\begin{bmatrix} 0 \\\\ 2 \\\\ 2 \\end{bmatrix} = \n",
    "\\begin{bmatrix} 0 \\\\ 3 \\\\ -1 \\end{bmatrix}\n",
    "$$\n",
    "\n",
    "Therefore,\n",
    "$$P(x) = 0 + 3x + (-1) x^2 \\\\ = 3x - x^2$$\n",
    "\n",
    "(2)For Newton, $P(x) = \\sum^2_{i=0} a_i n_i(x) = a_0 n_0(x) + a_1 n_1(x) + a_2 n_2(x)$\n",
    "\n",
    "Then $P(x)$ can be written in Newton's form as\n",
    "\n",
    "$$P(x) = y_0 + (x-x_0)[y_0, y_1] + (x - x_0) (x - x_1) [y_0, y_1, y_2]\\\\= y_0 + (x - x_0) \\frac{y_1 - y_0}{x_1 - x_0} + (x - x_0)(x - x_1) \\left ( \\frac{y_2 - y_1}{(x_2 - x_1)(x_2 - x_0)} - \\frac{y_1 - y_0}{(x_1 - x_0)(x_2 - x_0)} \\right )$$\n",
    "\n"
   ]
  },
  {
   "cell_type": "markdown",
   "metadata": {},
   "source": [
    "$$= 0 + (x-0) \\frac{2-0}{1-0} + (x-0)(x-1) \\left (\\frac{2-2}{(2-1)(2-0)} - \\frac{2-0}{(1-0)(2-0)} \\right)$$"
   ]
  },
  {
   "cell_type": "markdown",
   "metadata": {},
   "source": [
    "$$=2x + (x)(x-1)(-1) \\\\ = 3x -x^2$$"
   ]
  },
  {
   "cell_type": "markdown",
   "metadata": {},
   "source": [
    "Consider data at three points $(x_0, y_0) = (0, 0)$, $(x_1, y_1) = (1, 2)$, and $(x_2, y_2) = (2, 2)$."
   ]
  },
  {
   "cell_type": "markdown",
   "metadata": {
    "nbgrader": {
     "grade": false,
     "grade_id": "Q1-b",
     "locked": true,
     "solution": false
    }
   },
   "source": [
    "**(b)** (10 points) Show that these all lead to the same polynomial (show that $P(x)$ is in fact unique)."
   ]
  },
  {
   "cell_type": "markdown",
   "metadata": {
    "nbgrader": {
     "grade": true,
     "grade_id": "A1-b",
     "locked": false,
     "points": 10,
     "solution": true
    }
   },
   "source": [
    "### Solution\n",
    "We can get from the (a) that:\n",
    "\n",
    "For monomial,\n",
    "$P(x)  = 3x - x^2$\n",
    "\n",
    "For Newton,\n",
    "$P(x)  = 3x - x^2$\n",
    "\n",
    "Therefore, these all lead to the same polynomial.\n"
   ]
  },
  {
   "cell_type": "markdown",
   "metadata": {
    "nbgrader": {
     "grade": false,
     "grade_id": "Q1-c",
     "locked": true,
     "solution": false
    }
   },
   "source": [
    "**(c)** (10 points) Use the uniqueness of the interpolating polynomial to show that for general $N+1$ points\n",
    "\n",
    "$$\\sum^N_{i=0} \\ell_i(x) = 1$$\n",
    "\n",
    "at any value of $x$ (i.e. the interpolant of a constant is a constant regardless of $N$).\n",
    "\n",
    "Hint:  Consider the Newton polynomial form and uniqueness."
   ]
  },
  {
   "cell_type": "markdown",
   "metadata": {
    "nbgrader": {
     "grade": true,
     "grade_id": "A1-c",
     "locked": false,
     "points": 10,
     "solution": true
    }
   },
   "source": [
    "### Solution\n",
    "For lagrangian basis, the interpolating polynomial $P_N(x)$ is:\n",
    "$$P_N(x) = \\sum^{N}_{i=0} y_i \\ell_i(x)$$\n",
    "\n",
    "For Newton's form, the interpolating polynomial $P_N(x)$ is:\n",
    "\n",
    "$$P_N(x) = \\sum^N_{j=0} a_j n_j(x)$$\n",
    "\n",
    "Let the $[y_i] = 1 ~~~~~ i \\in \\{0,\\ldots, N\\}$\n",
    "\n",
    "We can get for lagrangian basis, $P_N(x) = \\sum^{N}_{i=0} \\ell_i(x)$; \n",
    "\n",
    "For lagrangian basis, $P_N(x) = y_0 = 1$\n",
    "\n",
    "Because interpolating polynomial is uniqueness, the $P_N(x)$ of Newton and Lagrangian is the same, we can get:\n",
    "\n",
    "$$P_N(x) = \\sum^{N}_{i=0} \\ell_i(x)  =  y_0 = 1$$\n",
    "\n",
    "Therefore, $$\\sum^N_{i=0} \\ell_i(x) = 1$$"
   ]
  },
  {
   "cell_type": "markdown",
   "metadata": {
    "nbgrader": {
     "grade": false,
     "grade_id": "Q2",
     "locked": true,
     "solution": false
    }
   },
   "source": [
    "## Question 2\n",
    "\n",
    "(10 points) The $n$th Chebyshev polynomial is characterized (up to a constant) by the identity\n",
    "\n",
    "$$T_n(\\cos \\theta) = \\cos (n \\theta)$$\n",
    "\n",
    "Use this identity to show that the Chebyshev polynomials are orthogonal on $x\\in[-1,1]$ with respect to the weight\n",
    "\n",
    "$$w(x) = \\frac{1}{\\sqrt{1 - x^2}}$$\n",
    "\n",
    "To do this you must prove that\n",
    "\n",
    "$$\\int^1_{-1} w(x) T_n(x) T_m(x) dx = \\left \\{ \\begin{aligned} a & ~ & m = n \\\\ 0 & ~ & m \\neq n \\end{aligned} \\right .$$\n",
    "\n",
    "where $a$ is a finite constant (also find this coefficient)."
   ]
  },
  {
   "cell_type": "markdown",
   "metadata": {
    "nbgrader": {
     "grade": true,
     "grade_id": "A2",
     "locked": false,
     "points": 10,
     "solution": true
    }
   },
   "source": [
    "### Solution\n",
    "\n",
    "Let $x=cos(\\theta)$, we can get $T_n(x) = \\cos (n \\theta)$\n",
    "$$\\int^1_{-1} w(x) T_n(x) T_m(x) dx = \\int^0 _{ \\pi}  \\frac{\\cos (n \\theta) \\cos (m \\theta)}{\\sqrt{1 - cos(\\theta)^2}}  (-sin(\\theta))d \\theta = \\int^ \\pi _{0}  \\cos (n \\theta) \\cos (m \\theta) d \\theta $$\n",
    "\n",
    "We can get:\n",
    "$$\\frac{1}{2} \\int^ \\pi _{0}  \\cos ((m-n) \\theta) + \\cos ((m+n) \\theta) d \\theta = \\left \\{ \\begin{aligned} \\frac{\\pi}{2} & ~ & m = n \\\\ 0 & ~ & m \\neq n \\end{aligned} \\right.$$\n",
    "\n",
    "Therefore, we can get:\n",
    "$$\\int^1_{-1} w(x) T_n(x) T_m(x) dx = \\left \\{ \\begin{aligned} \\frac{\\pi}{2} & ~ & m = n \\\\ 0 & ~ & m \\neq n \\end{aligned} \\right .$$\n",
    "\n",
    "And $a$ equals  $\\frac{\\pi}{2}$"
   ]
  },
  {
   "cell_type": "markdown",
   "metadata": {
    "nbgrader": {
     "grade": false,
     "grade_id": "Q3",
     "locked": true,
     "solution": false
    }
   },
   "source": [
    "## Question 3\n",
    "\n",
    "(10 points) For N = 4 find the maximum value and its location of $|\\ell_2(x)|$ for equispaced points on $[-1, 1]$."
   ]
  },
  {
   "cell_type": "markdown",
   "metadata": {
    "nbgrader": {
     "grade": true,
     "grade_id": "A3",
     "locked": false,
     "points": 10,
     "solution": true
    }
   },
   "source": [
    "For Lagrange basis\n",
    "where \n",
    "\n",
    "$$\\ell_2(x) = \\prod^{4}_{j=0, j \\neq 2} \\frac{x - x_j}{x_2 - x_j} = \\frac{x - x_0}{x_2 - x_0} \\frac{x - x_1}{x_2 - x_1}\\frac{x - x_{3}}{x_2 - x_{3}}\\frac{x - x_{4}}{x_2 - x_{4}}$$\n",
    "\n",
    "Note that $\\ell_i(x_i) = 1$ and $\\forall j\\neq i, ~~ \\ell_i(x_j) = 0$.\n",
    "\n",
    "$x_{0} = -1,  x_{1} = -0.5,x_{2} = 0,x_{3} = 0.5,x_{4} = 1$\n",
    "\n",
    "$$\\ell_2(x) =(x+1)(2x+1)(-2x+1)(-x+1) ＝ 4 x^4-5 x^2+1$$\n",
    "\n",
    "$ \\ell_2'(x) =16x^3 - 10x = x(16x^2-10)$\n",
    "\n",
    "So, when $x = 0$,$\\frac{\\sqrt10}{4}$,$-\\frac{\\sqrt10}{4}$     $\\ell_2'(x) = 0$ \n",
    "\n",
    "When $x = 0$, $\\ell_2(x)$ become maximum 1;\n",
    "\n"
   ]
  },
  {
   "cell_type": "markdown",
   "metadata": {
    "nbgrader": {
     "grade": false,
     "grade_id": "Q4",
     "locked": true,
     "solution": false
    }
   },
   "source": [
    "## Question 4\n",
    "\n",
    "Consider the Lebesgue function\n",
    "$$\n",
    "\\lambda_N(x)  = \\sum_{i=0}^N\\big{|}\\ell_i(x)\\big{|}\n",
    "$$\n",
    "where $\\ell_i(x)$ are Lagrange basis functions for a given set of $x_i$.  The maximum of the Lebesgue function is called $\\Lambda_n$ the Lebesgue constant and are clearly related to Lagrangian interpolation as they provide a first estimate for the interpolation error.  Unfortunately, $\\Lambda_N$ is not uniformly bounded regardless of the nodes used as one can show that \n",
    "$$\n",
    "    \\Lambda_N > \\mathcal{O}(\\log N) ~~~\\text{as}~~~ N \\rightarrow \\infty\n",
    "$$\n",
    "\n",
    "Note, $\\Lambda_n$ is the infinite-norm of the linear operator mapping data to interpolant on the given grid and interval."
   ]
  },
  {
   "cell_type": "markdown",
   "metadata": {
    "nbgrader": {
     "grade": false,
     "grade_id": "Q4-a",
     "locked": true,
     "solution": false
    }
   },
   "source": [
    "**(a)** (5 points) What do you expect the Lebesgue function to look like?  Are there key points where we will know the function value exactly?"
   ]
  },
  {
   "cell_type": "markdown",
   "metadata": {
    "nbgrader": {
     "grade": true,
     "grade_id": "A4-a",
     "locked": false,
     "points": 5,
     "solution": true
    }
   },
   "source": [
    "### Solution\n",
    "(1)It may look like polynonimal and have many extrema.\n",
    "\n",
    "(2)When x equals sampling number, the result is 1."
   ]
  },
  {
   "cell_type": "markdown",
   "metadata": {
    "nbgrader": {
     "grade": false,
     "grade_id": "Q4-b",
     "locked": true,
     "solution": false
    }
   },
   "source": [
    "**(b)** (10 points) Plot the Lebesgue function for $x\\in[-1, 1]$ for $N = 5, 10, 20$ with\n",
    "$$\n",
    "    x_i = -1 + \\frac{2 i}{N}, ~~~ i = 0, 1, \\ldots, N.\n",
    "$$\n",
    "For the case where $N = 20$ comment on what you see (you may need to use `semilogy` to see the results)."
   ]
  },
  {
   "cell_type": "code",
   "execution_count": 2,
   "metadata": {
    "collapsed": false,
    "nbgrader": {
     "grade": true,
     "grade_id": "A4-b1",
     "locked": false,
     "points": 8,
     "solution": true
    }
   },
   "outputs": [
    {
     "data": {
      "image/png": "[encoded data removed]",
      "text/plain": [
       "<matplotlib.figure.Figure at 0x10a17cf50>"
      ]
     },
     "metadata": {},
     "output_type": "display_data"
    }
   ],
   "source": [
    "### INSERT CODE HERE\n",
    "N = [5,10,20]\n",
    "\n",
    "for n in range(numpy.size(N)):\n",
    "    data = []\n",
    "    for k in xrange(N[n] + 1):\n",
    "        data = data + [-1+2.*k/N[n]] \n",
    "\n",
    "    x = numpy.linspace(-1, 1, 100)\n",
    "    lagrange_basis = numpy.ones((N[n] + 1, numpy.size(x)))\n",
    "\n",
    "    for i in xrange(N[n] + 1):\n",
    "        for j in xrange(N[n] + 1):\n",
    "            if i != j:\n",
    "                lagrange_basis[i,:] *= (x - data[j]) / (data[i] - data[j])\n",
    "    Lebesgue = numpy.zeros(numpy.size(x))\n",
    "    for l in xrange(N[n] + 1):\n",
    "        Lebesgue += numpy.abs(lagrange_basis[l,:])\n",
    "    plt.semilogy(x,Lebesgue,label=\"N=%s\"%N[n])\n",
    "    plt.xlabel(\"x\")\n",
    "    plt.legend(loc=1)"
   ]
  },
  {
   "cell_type": "markdown",
   "metadata": {
    "nbgrader": {
     "grade": true,
     "grade_id": "A4-b2",
     "locked": false,
     "points": 2,
     "solution": true
    }
   },
   "source": []
  },
  {
   "cell_type": "markdown",
   "metadata": {
    "nbgrader": {
     "grade": false,
     "grade_id": "Q4-c",
     "locked": true,
     "solution": false
    }
   },
   "source": [
    "**(c)** (10 points) Plot the Lebesgue function for $x\\in[-1, 1]$ for $N = 5, 10, 20$ with\n",
    "$$\n",
    "    x_i = \\cos\\left( \\frac{(2i - 1) \\pi}{2 N} \\right ) ~~~ i = 1, \\ldots, N + 1.\n",
    "$$\n",
    "Again comment on what you see in the case $N = 20$."
   ]
  },
  {
   "cell_type": "code",
   "execution_count": 3,
   "metadata": {
    "collapsed": false,
    "nbgrader": {
     "grade": true,
     "grade_id": "A4-c1",
     "locked": false,
     "points": 8,
     "solution": true
    }
   },
   "outputs": [
    {
     "data": {
      "image/png": "[encoded data removed]",
      "text/plain": [
       "<matplotlib.figure.Figure at 0x10d0b4b50>"
      ]
     },
     "metadata": {},
     "output_type": "display_data"
    }
   ],
   "source": [
    "### INSERT CODE HERE\n",
    "N = [5,10,20]\n",
    "for n in range(numpy.size(N)):\n",
    "    data = []\n",
    "    for k in xrange(N[n] + 1):\n",
    "        num = (2.0*(k+1)-1.0)*numpy.pi\n",
    "        den =  2.0*N[n]\n",
    "        xi = numpy.cos(num/den)\n",
    "        data = data + [xi]\n",
    "    x = numpy.linspace(-1, 1, 100)\n",
    "    lagrange_basis = numpy.ones((N[n] + 1, x.shape[0]))\n",
    "\n",
    "    for i in xrange(N[n]):\n",
    "        for j in xrange(N[n]):\n",
    "            if i != j:\n",
    "                lagrange_basis[i,:] *= (x - data[j]) / (data[i] - data[j])\n",
    "    Lebesgue = numpy.zeros(x.shape[0])\n",
    "    for l in xrange(N[n]):\n",
    "        Lebesgue += numpy.abs(lagrange_basis[l,:])\n",
    "    plt.semilogy(x,Lebesgue,label=\"N=%s\"%N[n])\n",
    "    plt.xlabel(\"x\")\n",
    "    plt.legend(loc=1)"
   ]
  },
  {
   "cell_type": "markdown",
   "metadata": {
    "nbgrader": {
     "grade": true,
     "grade_id": "A4-c2",
     "locked": false,
     "points": 2,
     "solution": true
    }
   },
   "source": []
  },
  {
   "cell_type": "markdown",
   "metadata": {
    "nbgrader": {
     "grade": false,
     "grade_id": "Q4-d",
     "locked": true,
     "solution": false
    }
   },
   "source": [
    "**(d)** (5 points) What do you observe about the Lebesgue function for each of the distribution of points?"
   ]
  },
  {
   "cell_type": "markdown",
   "metadata": {
    "nbgrader": {
     "grade": true,
     "grade_id": "A4-d",
     "locked": false,
     "points": 5,
     "solution": true
    }
   },
   "source": [
    "### Solution\n",
    "We can observe from the above pictures, that:\n",
    "\n",
    "(1)It has 2*N number of extrema.\n",
    "\n",
    "(2)As the N increase, the magnitude will become bigger."
   ]
  },
  {
   "cell_type": "markdown",
   "metadata": {
    "nbgrader": {
     "grade": false,
     "grade_id": "Q4-e",
     "locked": true,
     "solution": false
    }
   },
   "source": [
    "**(e)** (10 points) Using suitable values for $N$ plot the Lebesgue constants of each of the above cases.  Make sure to use a suitably large number of points to evaluate the function at.  Graphically demonstrate that the constant grow with the predicted growth rate $\\mathcal{O}(\\log N)$.  Describe what you observe."
   ]
  },
  {
   "cell_type": "code",
   "execution_count": 4,
   "metadata": {
    "collapsed": false,
    "nbgrader": {
     "grade": true,
     "grade_id": "Q4-e2",
     "locked": false,
     "solution": true
    }
   },
   "outputs": [
    {
     "data": {
      "text/plain": [
       "<matplotlib.text.Text at 0x10d8336d0>"
      ]
     },
     "execution_count": 4,
     "metadata": {},
     "output_type": "execute_result"
    },
    {
     "data": {
      "image/png": "[encoded data removed]",
      "text/plain": [
       "<matplotlib.figure.Figure at 0x10c827ed0>"
      ]
     },
     "metadata": {},
     "output_type": "display_data"
    }
   ],
   "source": [
    "### INSERT CODE HERE\n",
    "N = numpy.arange(1,20)\n",
    "x_max = numpy.zeros(numpy.size(N))\n",
    "for n in range(numpy.size(N)):\n",
    "    data = []\n",
    "    for k in xrange(N[n] + 1):\n",
    "        data = data + [-1+2.*k/N[n]] \n",
    "\n",
    "    x = numpy.linspace(-1, 1, 100)\n",
    "    lagrange_basis = numpy.ones((N[n] + 1, numpy.size(x)))\n",
    "\n",
    "    for i in xrange(N[n] + 1):\n",
    "        for j in xrange(N[n] + 1):\n",
    "            if i != j:\n",
    "                lagrange_basis[i,:] *= (x - data[j]) / (data[i] - data[j])\n",
    "    Lebesgue = numpy.zeros(numpy.size(x))\n",
    "    for l in xrange(N[n] + 1):\n",
    "        Lebesgue += numpy.abs(lagrange_basis[l,:])\n",
    "    x_max[n] = max(Lebesgue)\n",
    "plt.subplot(1, 2, 1)\n",
    "plt.semilogy(N,x_max)\n",
    "plt.xlabel(\"N\")\n",
    "plt.ylabel(\"Max\")\n",
    "\n",
    "### INSERT CODE HERE\n",
    "for n in range(numpy.size(N)):\n",
    "    data = []\n",
    "    for k in xrange(N[n] + 1):\n",
    "        num = (2.0*(k+1)-1.0)*numpy.pi\n",
    "        den =  2.0*N[n]\n",
    "        xi = numpy.cos(num/den)\n",
    "        data = data + [xi]\n",
    "    x = numpy.linspace(-1, 1, 100)\n",
    "    lagrange_basis = numpy.ones((N[n] + 1, x.shape[0]))\n",
    "\n",
    "    for i in xrange(N[n]):\n",
    "        for j in xrange(N[n]):\n",
    "            if i != j:\n",
    "                lagrange_basis[i,:] *= (x - data[j]) / (data[i] - data[j])\n",
    "    Lebesgue = numpy.zeros(x.shape[0])\n",
    "    for l in xrange(N[n]):\n",
    "        Lebesgue += numpy.abs(lagrange_basis[l,:])\n",
    "    x_max[n] = max(Lebesgue)\n",
    "plt.subplot(1, 2, 2)\n",
    "plt.semilogy(N,x_max)\n",
    "plt.xlabel(\"N\")"
   ]
  },
  {
   "cell_type": "markdown",
   "metadata": {},
   "source": [
    "### Observe\n",
    "(1)As N increase, the constant grow with the predicted growth rate $\\mathcal{O}(\\log N)$.\n",
    "\n",
    "(2)The above two Lebesgue function have different growth rate: the First method is faster than the Second method."
   ]
  },
  {
   "cell_type": "code",
   "execution_count": null,
   "metadata": {
    "collapsed": true
   },
   "outputs": [],
   "source": []
  }
 ],
 "metadata": {
  "anaconda-cloud": {},
  "kernelspec": {
   "display_name": "Python [Root]",
   "language": "python",
   "name": "Python [Root]"
  },
  "language_info": {
   "codemirror_mode": {
    "name": "ipython",
    "version": 2
   },
   "file_extension": ".py",
   "mimetype": "text/x-python",
   "name": "python",
   "nbconvert_exporter": "python",
   "pygments_lexer": "ipython2",
   "version": "2.7.12"
  }
 },
 "nbformat": 4,
 "nbformat_minor": 0
}
