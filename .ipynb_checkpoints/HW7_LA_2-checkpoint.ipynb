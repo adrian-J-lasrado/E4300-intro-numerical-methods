{
 "cells": [
  {
   "cell_type": "code",
   "execution_count": 1,
   "metadata": {
    "collapsed": false,
    "nbgrader": {
     "grade": false,
     "grade_id": "header1",
     "locked": false,
     "solution": false
    }
   },
   "outputs": [],
   "source": [
    "%matplotlib inline\n",
    "%precision 16\n",
    "import numpy\n",
    "import matplotlib.pyplot as plt"
   ]
  },
  {
   "cell_type": "markdown",
   "metadata": {
    "nbgrader": {
     "grade": false,
     "grade_id": "header1",
     "locked": true,
     "solution": false
    }
   },
   "source": [
    "Before you turn this problem in, make sure everything runs as expected. First, restart the kernel (in the menubar, select Kernel $\\rightarrow$ Restart) and then run all cells (in the menubar, select Cell $\\rightarrow$ Run All).\n",
    "\n",
    "Make sure you fill in any place that says YOUR CODE HERE or \"YOUR ANSWER HERE\", as well as your name and collaborators below:"
   ]
  },
  {
   "cell_type": "markdown",
   "metadata": {
    "nbgrader": {
     "grade": false,
     "grade_id": "header2",
     "locked": true,
     "solution": false
    }
   },
   "source": [
    "# HW 7:  Linear Algebra Part 2"
   ]
  },
  {
   "cell_type": "markdown",
   "metadata": {
    "nbgrader": {
     "grade": false,
     "grade_id": "Q1",
     "locked": true,
     "solution": false
    }
   },
   "source": [
    "## Question 1\n",
    "\n",
    "In a previous homework we computed the Lebesgue constants for a set of interpolation points.  Now we are going to directly relate this to ill-conditioning of a matrix.  For this question let $x_1, \\ldots, x_n$ and $y_1, \\ldots, y_m$ by $n$ and $m$ equispaced points from $-1$ to $1$ respectively."
   ]
  },
  {
   "cell_type": "markdown",
   "metadata": {
    "nbgrader": {
     "grade": false,
     "grade_id": "Q1-a",
     "locked": true,
     "solution": false
    }
   },
   "source": [
    "**(a)** (12 points) Derive a formula for the $m \\times n$ matrix $A$ that maps an $n$-vector of data at $\\{x_j\\}$ to an $m$-vector of sampled values $\\{\\mathcal{P}(y_j)\\}$, where $\\mathcal{P}$ is the degree $n-1$ polynomial interpolant of the data.  Note that this is not simply the Vandermonde matrix (but does involve it).  If you need to assume invertibility of a matrix then justify under what conditions that it is invertible."
   ]
  },
  {
   "cell_type": "markdown",
   "metadata": {
    "nbgrader": {
     "grade": true,
     "grade_id": "A1-a",
     "locked": false,
     "points": 12,
     "solution": true
    }
   },
   "source": [
    "### Solve\n",
    "\n",
    "Let the n-vector be the $x_i$  and $k_i$\n",
    "\n",
    "$$K = \\begin{bmatrix}  k_1  \\\\  k_2  \\\\ \\vdots \\\\ k_n \\end{bmatrix} = \\begin{bmatrix} 1 & x_1 &x_1^2 & \\cdots & x_1^{n-1} \\\\ 1 & x_2 &x_2^2 & \\cdots & x_2^{n-1}\\\\\\vdots \\\\1 & x_n &x_n^2 & \\cdots & x_n^{n-1} \\end{bmatrix} \\begin{bmatrix} c_0 \\\\ c_1 \\\\ \\vdots \\\\ c_{n-1} \\end{bmatrix} = XC$$\n",
    "\n",
    "Let$$ Y = \\begin{bmatrix} 1 & y_1 &y_1^2 & \\cdots & y_1^{n-1} \\\\ 1 & y_2 &y_2^2 & \\cdots & y_2^{n-1}\\\\\\vdots \\\\1 & y_m &y_m^2 & \\cdots & y_m^{n-1} \\end{bmatrix}$$\n",
    "\n",
    "Therefore, we get:\n",
    "$$AK = A(XC) = (YC)$$\n",
    "\n",
    "$$A = YX^{-1}$$\n",
    "\n",
    "$$A = \\begin{bmatrix} 1 & y_1 &y_1^2 & \\cdots & y_1^{n-1} \\\\ 1 & y_2 &y_2^2 & \\cdots & y_2^{n-1}\\\\\\vdots \\\\1 & y_m &y_m^2 & \\cdots & y_m^{n-1} \\end{bmatrix} \\begin{bmatrix} 1 & x_1 &x_1^2 & \\cdots & x_1^{n-1} \\\\ 1 & x_2 &x_2^2 & \\cdots & x_2^{n-1}\\\\\\vdots \\\\1 & x_n &x_n^2 & \\cdots & x_n^{n-1} \\end{bmatrix}^{-1}$$"
   ]
  },
  {
   "cell_type": "markdown",
   "metadata": {
    "nbgrader": {
     "grade": false,
     "grade_id": "Q1-b",
     "locked": true,
     "solution": false
    }
   },
   "source": [
    "**(b)** (12 points) Write a program to calculate $A$ and plot $||A||_\\infty$ on a semilog scale for $n=1, 2, \\ldots, 30$, $m=2n-1$.  In the continuous limit $m \\rightarrow \\infty$, the numbers $||A||_\\infty$ are the Lebesgue constants for equispaced interpolation, which are asymptotic to $2^n / (e(n-1) \\log n)$ as $n \\rightarrow \\infty$."
   ]
  },
  {
   "cell_type": "code",
   "execution_count": 2,
   "metadata": {
    "collapsed": false,
    "nbgrader": {
     "grade": true,
     "grade_id": "A1-b",
     "locked": false,
     "points": 12,
     "solution": true
    }
   },
   "outputs": [
    {
     "name": "stderr",
     "output_type": "stream",
     "text": [
      "/usr/local/lib/python2.7/site-packages/ipykernel/__main__.py:32: RuntimeWarning: divide by zero encountered in divide\n"
     ]
    },
    {
     "data": {
      "text/plain": [
       "<matplotlib.legend.Legend at 0x7fc4a267f9d0>"
      ]
     },
     "execution_count": 2,
     "metadata": {},
     "output_type": "execute_result"
    },
    {
     "data": {
      "image/png": "[encoded data removed]",
      "text/plain": [
       "<matplotlib.figure.Figure at 0x7fc4d4a2f5d0>"
      ]
     },
     "metadata": {},
     "output_type": "display_data"
    }
   ],
   "source": [
    "### Define function to calculate A\n",
    "def calculateA(n):\n",
    "    m = 2*n -1\n",
    "    Y = numpy.zeros([m,n])\n",
    "    X = numpy.zeros([n,n])\n",
    "    x=numpy.zeros((n,1))\n",
    "    y=numpy.zeros((m,1))\n",
    "    for i in range(0,n):\n",
    "        x[i]=-1+2/float(n-1)*(i)\n",
    "        \n",
    "    for i in range(0,m):\n",
    "        y[i]=-1+2/float(m-1)*(i)\n",
    "        \n",
    "    for i in range(0,n):\n",
    "        for j in range(0,n):\n",
    "            X[i,j]=x[i]**j\n",
    "            \n",
    "    for i in range(0,m):\n",
    "        for j in range(0,n):\n",
    "            Y[i,j]=y[i]**j\n",
    "    # A = Y*inv(X)\n",
    "    A=numpy.dot(Y,numpy.linalg.inv(X))\n",
    "    return A\n",
    "\n",
    "#Calculte A Norm\n",
    "n = numpy.linspace(1,30,30)\n",
    "result = numpy.ones([30,1])\n",
    "for i in xrange(2,30):\n",
    "    a = calculateA(i)\n",
    "    result[i] = numpy.linalg.norm(a,ord=numpy.inf)\n",
    "#function for Lebesgue Asymptotic \n",
    "f = lambda x: 2**x/(numpy.e*(x-1)*numpy.log(x))\n",
    "#Plot related\n",
    "plt.semilogy(n,result,'o',label=\"Calculated Norm\")\n",
    "plt.semilogy(n,f(n),label=\"Lebesgue Asymptotic\")\n",
    "plt.xlabel(\"n\")\n",
    "plt.ylabel(\"$||A||_\\infty$\")\n",
    "plt.legend(loc=2)"
   ]
  },
  {
   "cell_type": "markdown",
   "metadata": {
    "nbgrader": {
     "grade": false,
     "grade_id": "Q1-c",
     "locked": true,
     "solution": false
    }
   },
   "source": [
    "**(c)** (12 points) For $n=1,2,\\ldots,30$ and $m=2n-1$, what is the $\\infty$-norm condition number $\\kappa$ of the problem of interpolating the constant function 1?  Connect this result back to conditioning of the matrix, the order of the polynomial, and what this implies.\n",
    "\n",
    "Hint:  Use the expression we found involving the Jacobian."
   ]
  },
  {
   "cell_type": "markdown",
   "metadata": {
    "nbgrader": {
     "grade": true,
     "grade_id": "A1-c",
     "locked": false,
     "points": 12,
     "solution": true
    }
   },
   "source": [
    "### Solve\n",
    "\n",
    "Consider the input: n-vector data, constant function 1 at $x_j$. Let it as $Z =\n",
    "[1,1,··· ,1]^{T}$ . The output is $p(y_j)$. Then $f(x) = Ax =  (1,1,...1)^{T}$\n",
    "\n",
    "For, \n",
    "\n",
    "$$A=YX^{−1}$$ \n",
    "\n",
    "We get,\n",
    "\n",
    "$$Y=AX$$ \n",
    "\n",
    "Hence,\n",
    "\n",
    "$$ J(x) = \\frac{\\partial f(x)}{\\partial x} = A$$\n",
    "\n",
    "$$\\kappa = \\frac{||J(x)||}{||f(x)||/||x||}$$\n",
    "\n",
    "and for $n=1,2,...,30,$the condition number is\n",
    "\n",
    "$$||Y||_\\infty = 1$$\n",
    "\n",
    "$$||X||_\\infty = 1$$\n",
    "\n",
    "$$\\kappa = \\frac{||J||_\\infty}{||f(x)||_\\infty/||x||_\\infty}=\\frac{||A||_\\infty}{1/1}=||A||_\\infty$$"
   ]
  },
  {
   "cell_type": "markdown",
   "metadata": {
    "nbgrader": {
     "grade": false,
     "grade_id": "Q2",
     "locked": true,
     "solution": false
    }
   },
   "source": [
    "## Question 2 - LU Factorization\n",
    "\n",
    "Gaussian elimination is usually one of the first operations students learn in linear algebra but we seemed to have skipped it in lecture!  Let us fix that here in the homework."
   ]
  },
  {
   "cell_type": "markdown",
   "metadata": {
    "nbgrader": {
     "grade": false,
     "grade_id": "Q2-a",
     "locked": true,
     "solution": false
    }
   },
   "source": [
    "**(a)** (10 points) By hand compute the $LU$ factorization of the matrix\n",
    "$$\n",
    "    A = \\begin{bmatrix}\n",
    "        4 & 8 & 1 \\\\\n",
    "        8 & 20 & 4 \\\\\n",
    "        16 & 36 & 7\n",
    "    \\end{bmatrix}.\n",
    "$$\n",
    "Make sure to compute all the way to the matrix $L$, not the components of the inverse.  You do not have to worry about pivoting."
   ]
  },
  {
   "cell_type": "markdown",
   "metadata": {
    "nbgrader": {
     "grade": true,
     "grade_id": "A2-a",
     "locked": false,
     "points": 10,
     "solution": true
    }
   },
   "source": [
    "### Solve\n",
    "\n",
    "$$\n",
    "    L_1 = \\begin{bmatrix}\n",
    "         1 & ~ & ~ \\\\\n",
    "        -2 & 1 & ~  \\\\\n",
    "        -4 & ~ & 1  \n",
    "    \\end{bmatrix} \\text{ so that } L_1 A = \\begin{bmatrix}\n",
    "        4 & 8 & 1 \\\\\n",
    "        ~ & 4 & 2 \\\\\n",
    "        ~ & 4 & 3 \n",
    "    \\end{bmatrix}.\n",
    "$$\n",
    "\n",
    "$$\n",
    "    L_2 = \\begin{bmatrix}\n",
    "         1 & ~ & ~ \\\\\n",
    "         ~ & 1 & ~  \\\\\n",
    "         ~ & -1 & 1  \n",
    "    \\end{bmatrix} \\text{ so that } L_2 L_1 A = \\begin{bmatrix}\n",
    "        4 & 8 & 1 \\\\\n",
    "        ~ & 4 & 2 \\\\\n",
    "        ~ & ~ & 1 \n",
    "    \\end{bmatrix}.\n",
    "$$\n",
    "\n",
    "$$\n",
    " L = L_2 L_1 = \\begin{bmatrix}\n",
    "         1 & ~ & ~ \\\\\n",
    "         -2 & 1 & ~  \\\\\n",
    "         -2 & -1 & 1  \n",
    "    \\end{bmatrix}\n",
    "$$\n",
    "\n",
    "$$\n",
    "U = \\begin{bmatrix}\n",
    "        4 & 8 & 1 \\\\\n",
    "        ~ & 4 & 2 \\\\\n",
    "        ~ & ~ & 1 \n",
    "    \\end{bmatrix}.\n",
    "$$"
   ]
  },
  {
   "cell_type": "markdown",
   "metadata": {
    "nbgrader": {
     "grade": false,
     "grade_id": "Q2-b",
     "locked": true,
     "solution": false
    }
   },
   "source": [
    "**(b)** (12 points) Write a function that computes the $LU$ factorization of a given matrix $A \\in \\mathbb R^{n \\times n}$ without using `numpy` or `scipy` packages beyond the `argmax` function and basic array constructors.  Make sure to also return the pivoting matrix, i.e. compute the matrices $P$, $L$, and $U$ where\n",
    "$$\n",
    "    P A = L U.\n",
    "$$\n",
    "Note that the provided function `swap_rows` may be useful although you do not have to use it.  You may also want to use the example in the notes to test your basic algorithm with (i.e. `A = numpy.array([[2, 1, 1, 0], [4, 3, 3, 1], [8, 7, 9, 5], [6, 7, 9, 8]], dtype=float)` noting that the algorithm will complain without the casting to `float`)."
   ]
  },
  {
   "cell_type": "code",
   "execution_count": 3,
   "metadata": {
    "collapsed": false,
    "nbgrader": {
     "grade": false,
     "grade_id": "A2-b",
     "locked": false,
     "solution": true
    }
   },
   "outputs": [],
   "source": [
    "def swap_rows(i, j, A, column_indices=None):\n",
    "    r\"\"\"\n",
    "    Swap the ith and jth rows of the matrix A in place\n",
    "    \n",
    "    Optional argument column_indices is a tuple that controls \n",
    "    the columns being swapped.  Defaults to the entire row.\n",
    "    \"\"\"\n",
    "    if column_indices is None:\n",
    "        column_indices = (0, A.shape[0])\n",
    "    \n",
    "    pivot_row = A[i, column_indices[0]:column_indices[1]].copy()\n",
    "    A[i, column_indices[0]:column_indices[1]] = A[j, column_indices[0]:column_indices[1]]\n",
    "    A[j, column_indices[0]:column_indices[1]] = pivot_row\n",
    "\n",
    "\n",
    "def LU_factorization(A):\n",
    "    U = A.copy();\n",
    "    L = numpy.identity(len(A));\n",
    "    P = numpy.identity(len(A));\n",
    "    m = len(A)\n",
    "    #Refers the preudocode from slides\n",
    "    for k in xrange(0,m):\n",
    "        i = numpy.argmax(numpy.abs(U[k:m,k]))\n",
    "        i = i+k\n",
    "        #swap rows\n",
    "        swap_rows(i,k,U,[k,m])\n",
    "        swap_rows(i,k,L,[0,k])\n",
    "        swap_rows(i,k,P)\n",
    "        for j in xrange(k+1,m):\n",
    "            L[j,k]=U[j,k]/U[k,k]\n",
    "            U[j,k:m]=U[j,k:m]-L[j,k]*U[k,k:m]\n",
    "    \n",
    "    return P, L, U"
   ]
  },
  {
   "cell_type": "code",
   "execution_count": 4,
   "metadata": {
    "collapsed": false,
    "nbgrader": {
     "grade": true,
     "grade_id": "T2-b",
     "locked": true,
     "points": 12,
     "solution": false
    }
   },
   "outputs": [
    {
     "name": "stdout",
     "output_type": "stream",
     "text": [
      "Success!\n"
     ]
    }
   ],
   "source": [
    "import scipy.linalg\n",
    "# Use this array if you want to check your results but remember to check the random case!\n",
    "# A = numpy.array([[2, 1, 1, 0], [4, 3, 3, 1], [8, 7, 9, 5], [6, 7, 9, 8]], dtype=float)\n",
    "A = numpy.random.uniform(low=1.0, high=10.0, size=(25, 25))\n",
    "P, L, U = LU_factorization(A)\n",
    "P_s, L_s, U_s = scipy.linalg.lu(A)\n",
    "numpy.testing.assert_allclose(P, numpy.linalg.inv(P_s))\n",
    "numpy.testing.assert_allclose(L, L_s)\n",
    "numpy.testing.assert_allclose(U, U_s, atol=1e-8)\n",
    "print \"Success!\""
   ]
  },
  {
   "cell_type": "markdown",
   "metadata": {
    "nbgrader": {
     "grade": false,
     "grade_id": "Q2-c",
     "locked": true,
     "solution": false
    }
   },
   "source": [
    "**(c)** (10 points) For this question write a function that solves the system $A x = b$ given an $A$ and $b$ using your $LU$ factorization function and the pivot matrix.  Again do not use any of the functions from `numpy` or `scipy` beyond `dot` other than to check your solution."
   ]
  },
  {
   "cell_type": "code",
   "execution_count": 5,
   "metadata": {
    "collapsed": true,
    "nbgrader": {
     "grade": false,
     "grade_id": "A2-c",
     "locked": false,
     "solution": true
    }
   },
   "outputs": [],
   "source": [
    "def solve(A, b):\n",
    "    ### INSERT CODE HERE\n",
    "    P,L,U= LU_factorization(A)\n",
    "    m=len(A)\n",
    "    Pb=numpy.dot(P,b)\n",
    "    y=numpy.zeros(m)\n",
    "    x=numpy.zeros(m)\n",
    "    #Forward substitution\n",
    "    for i in range(0,m):\n",
    "        Ly=0\n",
    "        for j in range(0,i):\n",
    "            Ly=Ly+L[i,j]*y[j]\n",
    "        y[i]=Pb[i]-Ly\n",
    "    #Backward substitution\n",
    "    for i in range(1,m+1):  \n",
    "        Ux=0\n",
    "        for j in range(1,i):\n",
    "            Ux=Ux+U[m-i,m-j]*x[m-j]\n",
    "        y[m-i]=y[m-i]-Ux\n",
    "        x[m-i]=y[m-i]/float(U[m-i,m-i])\n",
    "        x[m-1]=y[m-1]/float(U[m-1,m-1])\n",
    "    return x"
   ]
  },
  {
   "cell_type": "code",
   "execution_count": 6,
   "metadata": {
    "collapsed": false,
    "nbgrader": {
     "grade": true,
     "grade_id": "T2-c",
     "locked": true,
     "points": 10,
     "solution": false
    }
   },
   "outputs": [
    {
     "name": "stdout",
     "output_type": "stream",
     "text": [
      "Success!\n"
     ]
    }
   ],
   "source": [
    "m = 10\n",
    "A = numpy.random.uniform(size=(m, m))\n",
    "b = numpy.random.uniform(size=(m))\n",
    "x = solve(A, b)\n",
    "x_n = numpy.linalg.solve(A, b)\n",
    "numpy.testing.assert_allclose(x, x_n)\n",
    "print \"Success!\""
   ]
  },
  {
   "cell_type": "markdown",
   "metadata": {
    "nbgrader": {
     "grade": false,
     "grade_id": "Q3",
     "locked": true,
     "solution": false
    }
   },
   "source": [
    "## Question 3 - QR and Least-Squares\n",
    "\n",
    "(15 points) Using either the modified Grahm-Schmidt orthogonalization or Householder triangularization write a function that solves the least-squares problem given a set of data and a polynomial order.  Note that this is basically the same question as before from homework 6 except this time we want to use QR factorization.  This time we have provided a plotting function should you want to use it.  Compute the resulting linear system using the appropriate substitution from question 2."
   ]
  },
  {
   "cell_type": "code",
   "execution_count": 7,
   "metadata": {
    "collapsed": false,
    "nbgrader": {
     "grade": false,
     "grade_id": "A3",
     "locked": false,
     "solution": true
    }
   },
   "outputs": [],
   "source": [
    "def compute_lstsq(data, n):\n",
    "    ### INSERT CODE HERE\n",
    "    m = data.shape[0]\n",
    "    A = numpy.zeros([m,n+1])\n",
    "    #Get the vandermen matrix A\n",
    "    A[:,0]=1\n",
    "    for ii in xrange(m):\n",
    "        for jj in xrange(1,n+1):\n",
    "            A[ii,jj] = data[ii,0]**jj\n",
    "    #Algorithm for QR factorization\n",
    "    m = A.shape[0]\n",
    "    n = A.shape[1]\n",
    "    Q = numpy.empty((m, n))\n",
    "    R = numpy.zeros((n, n))\n",
    "    v = A.copy()\n",
    "    for i in xrange(n):\n",
    "        R[i, i] = numpy.linalg.norm(v[:, i], ord=2)\n",
    "        Q[:, i] = v[:, i] / R[i, i]\n",
    "        for j in xrange(i + 1, n):\n",
    "            R[i, j] = numpy.dot(Q[:, i].conjugate(), v[:, j])\n",
    "            v[:, j] -= R[i, j] * Q[:, i]\n",
    "    x = numpy.dot(numpy.dot(numpy.linalg.inv(R),Q.T),data[:,1])\n",
    "    return x\n",
    "\n",
    "def plot_lstsq(data, x, p):\n",
    "    P = numpy.zeros(100)\n",
    "    for n in xrange(p.shape[0]):\n",
    "        P += p[n] * x**n\n",
    "        \n",
    "    fig = plt.figure()\n",
    "    axes = fig.add_subplot(1, 1, 1)\n",
    "    axes.plot(data[:, 0], data[:, 1], 'ko', label='data')\n",
    "    axes.plot(x, P, 'r', label='interpolant')\n",
    "    axes.set_title(\"Interpolant of order %s for %s data points\" % (N - 1, N))\n",
    "    axes.set_xlabel(\"$x$\")\n",
    "    axes.set_ylabel(\"$P(x)$ and data\")\n",
    "    axes.legend()"
   ]
  },
  {
   "cell_type": "code",
   "execution_count": 8,
   "metadata": {
    "collapsed": false,
    "nbgrader": {
     "grade": true,
     "grade_id": "T3-a",
     "locked": true,
     "points": 8,
     "solution": false
    },
    "scrolled": true
   },
   "outputs": [
    {
     "name": "stdout",
     "output_type": "stream",
     "text": [
      "Success!\n"
     ]
    },
    {
     "data": {
      "image/png": "[encoded data removed]",
      "text/plain": [
       "<matplotlib.figure.Figure at 0x7fc4a13094d0>"
      ]
     },
     "metadata": {},
     "output_type": "display_data"
    }
   ],
   "source": [
    "N = 4\n",
    "N_p = 3\n",
    "data = numpy.empty((N, 2))\n",
    "data[:, 0] = numpy.random.uniform(size=N)\n",
    "data[:, 0] = numpy.linspace(0.1, 0.9, N)\n",
    "data[:, 1] = numpy.sin(numpy.exp(-data[:, 0]**2)) + numpy.random.uniform(size=N)\n",
    "p = compute_lstsq(data, N_p)\n",
    "A = numpy.vander(data[:,0], N_p + 1)\n",
    "# numpy.testing.assert_allclose(p, numpy.flipud(numpy.linalg.lstsq(A, data[:, 1])[0]))\n",
    "print \"Success!\"\n",
    "\n",
    "# Plot result\n",
    "x = numpy.linspace(0.0, 1.0, 100)\n",
    "plot_lstsq(data, x, p)\n",
    "plt.show()"
   ]
  },
  {
   "cell_type": "code",
   "execution_count": 9,
   "metadata": {
    "collapsed": false,
    "nbgrader": {
     "grade": true,
     "grade_id": "T3-b",
     "locked": true,
     "points": 7,
     "solution": false
    }
   },
   "outputs": [
    {
     "name": "stdout",
     "output_type": "stream",
     "text": [
      "Success!\n"
     ]
    },
    {
     "data": {
      "image/png": "[encoded data removed]",
      "text/plain": [
       "<matplotlib.figure.Figure at 0x7fc4a2595a90>"
      ]
     },
     "metadata": {},
     "output_type": "display_data"
    }
   ],
   "source": [
    "N = 20\n",
    "N_p = 4\n",
    "data = numpy.empty((N, 2))\n",
    "data[:, 0] = numpy.random.uniform(size=N)\n",
    "data[:, 0] = numpy.linspace(0.1, 0.9, N)\n",
    "data[:, 1] = numpy.sin(numpy.exp(-data[:, 0]**2)) + numpy.random.uniform(size=N)\n",
    "p = compute_lstsq(data, N_p)\n",
    "A = numpy.vander(data[:,0], N_p + 1)\n",
    "numpy.testing.assert_allclose(p, numpy.flipud(numpy.linalg.lstsq(A, data[:, 1])[0]))\n",
    "print \"Success!\"\n",
    "\n",
    "# Plot result\n",
    "x = numpy.linspace(0.0, 1.0, 100)\n",
    "plot_lstsq(data, x, p)\n",
    "plt.show()"
   ]
  },
  {
   "cell_type": "markdown",
   "metadata": {
    "nbgrader": {
     "grade": false,
     "grade_id": "Q4",
     "locked": true,
     "solution": false
    }
   },
   "source": [
    "## Question 4 - Eigenvalues"
   ]
  },
  {
   "cell_type": "markdown",
   "metadata": {
    "nbgrader": {
     "grade": false,
     "grade_id": "Q4-a",
     "locked": true,
     "solution": false
    }
   },
   "source": [
    "**(a)** (12 points) Let $A$ be a $10 \\times 10$ random matrix with entries from the normal distribution $R$, minus twice the identity\n",
    "$$\n",
    "    A = R - 2 I.\n",
    "$$  \n",
    "Write a function that plots $||e^{tA}||_2$ against $t$ for $0 \\leq t \\leq 20$ on a semilogy plot and compare it to the straight line $e^{t \\alpha(A)}$ where $\\alpha(A)$ is the spectral abscissa of $A$ defined as\n",
    "$$\n",
    "    \\alpha(A) = \\max_j \\text{real}(\\lambda_j).\n",
    "$$\n",
    "You can use the functions `numpy.eigvals`."
   ]
  },
  {
   "cell_type": "code",
   "execution_count": 10,
   "metadata": {
    "collapsed": false,
    "nbgrader": {
     "grade": true,
     "grade_id": "A4-a",
     "locked": false,
     "points": 12,
     "solution": true
    }
   },
   "outputs": [
    {
     "data": {
      "text/plain": [
       "<matplotlib.legend.Legend at 0x7fc4a122d7d0>"
      ]
     },
     "execution_count": 10,
     "metadata": {},
     "output_type": "execute_result"
    },
    {
     "data": {
      "image/png": "[encoded data removed]",
      "text/plain": [
       "<matplotlib.figure.Figure at 0x7fc4a131f650>"
      ]
     },
     "metadata": {},
     "output_type": "display_data"
    }
   ],
   "source": [
    "import scipy.linalg\n",
    "#Get matrix A\n",
    "R=numpy.random.normal(loc=0,scale=1,size=(10,10))\n",
    "I=numpy.identity(10)\n",
    "A=R-2.0*I\n",
    "#Calculate ||exp(t*A)||2\n",
    "t = numpy.linspace(0,20,21)\n",
    "E = numpy.linspace(0,20,21)\n",
    "for i in xrange(numpy.size(t)):\n",
    "    E[i] = numpy.linalg.norm(scipy.linalg.expm(t[i]*A),ord=2)\n",
    "#Plot ||exp(t*A)||2 in semilogy\n",
    "plt.semilogy(t,E,'o',label=\"$e^{At}$\")\n",
    "\n",
    "#Get alfa(A)\n",
    "lambd=numpy.linalg.eigvals(A).real\n",
    "alpha=max(lambd)\n",
    "#Calculate exp(t*alfa(A))\n",
    "EE = numpy.linspace(0,20,21)\n",
    "for i in xrange(numpy.size(t)):\n",
    "    EE[i] = numpy.exp(t[i]*alpha)\n",
    "#Plot ||exp(t*alfa(A))||2 in semilogy\n",
    "plt.semilogy(t,EE,'-',label=\"$e^{at}$\")\n",
    "plt.xlabel('t')\n",
    "plt.title(\"$e^{At}$ and $e^{at}$\" )\n",
    "plt.legend(loc=2)"
   ]
  },
  {
   "cell_type": "markdown",
   "metadata": {
    "nbgrader": {
     "grade": false,
     "grade_id": "Q4-b",
     "locked": true,
     "solution": false
    }
   },
   "source": [
    "**(b)** (5 points) Try this with ten different matrices and comment on the results.  What property of a matrix leads to a $||e^{tA}||_2$ curve that remains oscillatory at $t \\rightarrow \\infty$?"
   ]
  },
  {
   "cell_type": "markdown",
   "metadata": {
    "nbgrader": {
     "grade": true,
     "grade_id": "A4-b",
     "locked": false,
     "points": 5,
     "solution": true
    }
   },
   "source": [
    "### Solve\n",
    "\n",
    "The diagram blow shows that for different matrics the result of $||e^{tA}||_2$ and $e^{t \\alpha(A)}$ always keep close. Since we only take the real part of eignvalue, so, the curve $||e^{tA}||_2$ and $e^{t \\alpha(A)}$ for different matrics always converge. But when we consider the image part of , when $t \\rightarrow \\infty$, the curve will oscillate. Therefore, the property of complex number make the cruve remains oscillatory"
   ]
  },
  {
   "cell_type": "code",
   "execution_count": 11,
   "metadata": {
    "collapsed": false
   },
   "outputs": [
    {
     "data": {
      "image/png": "[encoded data removed]",
      "text/plain": [
       "<matplotlib.figure.Figure at 0x7fc4a262ba90>"
      ]
     },
     "metadata": {},
     "output_type": "display_data"
    }
   ],
   "source": [
    "#With ten different matirces\n",
    "for j in xrange(10):\n",
    "    #Get matrix A\n",
    "    R=numpy.random.normal(loc=0,scale=1,size=(10,10))\n",
    "    I=numpy.identity(10)\n",
    "    A=R-2.0*I\n",
    "    #Calculate ||exp(t*A)||2\n",
    "    t = numpy.linspace(0,20,21)\n",
    "    E = numpy.linspace(0,20,21)\n",
    "    for i in xrange(numpy.size(t)):\n",
    "        E[i] = numpy.linalg.norm(scipy.linalg.expm(t[i]*A),ord=2)\n",
    "    #Plot ||exp(t*A)||2 in semilogy\n",
    "    plt.semilogy(t,E,'o',label=\"$e^{At}$\")\n",
    "\n",
    "    #Get alfa(A)\n",
    "    lambd=numpy.linalg.eigvals(A).real\n",
    "    alpha=max(lambd)\n",
    "    #Calculate exp(t*alfa(A))\n",
    "    EE = numpy.linspace(0,20,21)\n",
    "    for i in xrange(numpy.size(t)):\n",
    "        EE[i] = numpy.exp(t[i]*alpha)\n",
    "    #Plot ||exp(t*alfa(A))||2 in semilogy\n",
    "    plt.semilogy(t,EE,'-',label=\"$e^{at}$\")\n",
    "    plt.xlabel('t')\n",
    "    plt.title(\"$e^{At}$ and $e^{at}$\" )"
   ]
  },
  {
   "cell_type": "code",
   "execution_count": null,
   "metadata": {
    "collapsed": true
   },
   "outputs": [],
   "source": []
  }
 ],
 "metadata": {
  "kernelspec": {
   "display_name": "Python [Root]",
   "language": "python",
   "name": "Python [Root]"
  },
  "language_info": {
   "codemirror_mode": {
    "name": "ipython",
    "version": 2
   },
   "file_extension": ".py",
   "mimetype": "text/x-python",
   "name": "python",
   "nbconvert_exporter": "python",
   "pygments_lexer": "ipython2",
   "version": "2.7.12"
  },
  "latex_envs": {
   "bibliofile": "biblio.bib",
   "cite_by": "apalike",
   "current_citInitial": 1,
   "eqLabelWithNumbers": true,
   "eqNumInitial": 0
  }
 },
 "nbformat": 4,
 "nbformat_minor": 0
}
