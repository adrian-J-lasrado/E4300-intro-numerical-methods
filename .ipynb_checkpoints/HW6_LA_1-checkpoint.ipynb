{
 "cells": [
  {
   "cell_type": "code",
   "execution_count": 1,
   "metadata": {
    "collapsed": false,
    "nbgrader": {
     "grade": false,
     "grade_id": "header1",
     "locked": false,
     "solution": false
    }
   },
   "outputs": [],
   "source": [
    "%matplotlib inline\n",
    "%precision 16\n",
    "import numpy\n",
    "import matplotlib.pyplot as plt"
   ]
  },
  {
   "cell_type": "markdown",
   "metadata": {
    "nbgrader": {
     "grade": false,
     "grade_id": "header1",
     "locked": true,
     "solution": false
    }
   },
   "source": [
    "Before you turn this problem in, make sure everything runs as expected. First, restart the kernel (in the menubar, select Kernel $\\rightarrow$ Restart) and then run all cells (in the menubar, select Cell $\\rightarrow$ Run All).\n",
    "\n",
    "Make sure you fill in any place that says YOUR CODE HERE or \"YOUR ANSWER HERE\", as well as your name and collaborators below:"
   ]
  },
  {
   "cell_type": "markdown",
   "metadata": {
    "nbgrader": {
     "grade": false,
     "grade_id": "header2",
     "locked": true,
     "solution": false
    }
   },
   "source": [
    "# HW 6:  Linear Algebra Part 1"
   ]
  },
  {
   "cell_type": "markdown",
   "metadata": {
    "nbgrader": {
     "grade": false,
     "grade_id": "Q1",
     "locked": true,
     "solution": false
    }
   },
   "source": [
    "## Question 1\n",
    "\n",
    "The Frobenius norm $\\|\\cdot\\|_F$ of a matrix $A\\in\\mathbb R^{m\\times n}$ is defined as\n",
    "\n",
    "$$\n",
    "  \\|A\\|_F := \\left( \\sum_{i=1}^m\\sum_{j=1}^n |a_{ij}|^2\\right )^{1/2}.\n",
    "$$"
   ]
  },
  {
   "cell_type": "markdown",
   "metadata": {
    "nbgrader": {
     "grade": false,
     "grade_id": "Q1-a",
     "locked": true,
     "solution": false
    }
   },
   "source": [
    "**(a)** (10 points) - Show that $\\|\\cdot\\|_F$ is indeed a norm on $\\mathbb R^{m\\times n}$ (show that it follows the definition and properties of a matrix norm)."
   ]
  },
  {
   "cell_type": "markdown",
   "metadata": {
    "nbgrader": {
     "grade": true,
     "grade_id": "A1-a",
     "locked": false,
     "points": 10,
     "solution": true
    }
   },
   "source": [
    "### Solution \n",
    "\n",
    "$$\n",
    "\\Vert A \\Vert_{p,q} =  \\left[\\sum_{j=1}^n \\left( \\sum_{i=1}^m |a_{ij}|^p \\right)^{q/p}\\right]^{1/q}\n",
    "$$\n",
    "\n",
    "When $p = q = 2$ for the $L_{p,q}$ norm\n",
    "\n",
    "$$\\|A\\|_{\\rm F}=\\sqrt{\\sum_{i=1}^m\\sum_{j=1}^n |a_{ij}|^2}=\\sqrt{\\operatorname{trace}(A^{*}A)}=\\sqrt{\\sum_{i=1}^{\\min\\{m, n\\}} \\sigma_i^2}$$\n",
    "\n"
   ]
  },
  {
   "cell_type": "markdown",
   "metadata": {
    "nbgrader": {
     "grade": false,
     "grade_id": "Q1-b",
     "locked": true,
     "solution": false
    }
   },
   "source": [
    "**(b)** (10 points) - Show that the Frobenius norm fulfills the following inequality \n",
    "$$\n",
    " \\|Ax\\|_2 \\leq \\|A\\|_F \\cdot \\|x\\|_2 \\qquad \\text{for all }A\\in\\mathbb R^{m\\times n}, x\\in \\mathbb R^n,\n",
    "$$\n",
    "where $\\|\\cdot\\|_2$ is the Euclidean norm."
   ]
  },
  {
   "cell_type": "markdown",
   "metadata": {
    "collapsed": true,
    "nbgrader": {
     "grade": true,
     "grade_id": "A1-b",
     "locked": false,
     "points": 10,
     "solution": true
    }
   },
   "source": [
    "### Solution\n",
    "\n",
    "$\\|Ax\\|_2 = \\sum^n_{i=1}(\\sum^n_{j=1}a_{i,j}x_j)^2$\n",
    "\n",
    "$(\\sum^n_{j=1}a_{i,j}x_j)^2 \\leq (\\sum^n_{j=1}a_{i,j}^2)(\\sum^n_{j=1}x_i^2) = (\\sum^n_{j=1}a_{i,j}^2)\\|x\\|_2 $\n",
    "\n",
    "We get: \n",
    "$$\\|Ax\\|_2 \\leq \\sum^n_{i=1}\\sum^n_{j=1}a_{i,j}^2 \\|x\\|_2 = \\|A\\|_F \\|x\\|_2$$\n",
    "\n",
    "Therefore, we get:\n",
    "$$\\|Ax\\|_2 \\leq \\|A\\|_F \\|x\\|_2$$"
   ]
  },
  {
   "cell_type": "markdown",
   "metadata": {
    "nbgrader": {
     "grade": false,
     "grade_id": "Q2",
     "locked": true,
     "solution": false
    }
   },
   "source": [
    "## Question 2\n",
    "\n",
    "Vector and matrix $p$-norms are related by various inequalities, often involving the dimensions $m$ or $n$.  For each of the following, verify the inequality and give an example of a nonzero vector or matrix (for general $m$ and $n$) for which equality is achieved.  In this problem $x \\in \\mathbb R^m$ and $A \\in \\mathbb R^{m \\times n}$."
   ]
  },
  {
   "cell_type": "markdown",
   "metadata": {
    "nbgrader": {
     "grade": false,
     "grade_id": "Q2-a",
     "locked": true,
     "solution": false
    }
   },
   "source": [
    "**(a)** (10 points) - $||x||_\\infty \\leq ||x||_2$"
   ]
  },
  {
   "cell_type": "markdown",
   "metadata": {
    "nbgrader": {
     "grade": true,
     "grade_id": "A2-a",
     "locked": false,
     "points": 10,
     "solution": true
    }
   },
   "source": [
    "### Solution\n",
    "\n",
    "$\\ell_2$ norm:\n",
    "$||x||_2 = \\left( \\sum^m_{i=1} |x_i|^2 \\right)^{1/2}$\n",
    "\n",
    "$\\ell_\\infty$ norm:\n",
    "$||x||_\\infty = \\max |x_i|$\n",
    "\n",
    "$||x||_2 = \\sqrt{x_1^2 + x_2^2 + x_3^2 ... x_m^2}$\n",
    "\n",
    "$||x||_\\infty =max(|x_1|,|x_2|,|x_3|,...,|x_m|) $\n",
    "\n",
    "Let $|x_{m'}|$ be the biggest number, $m' \\in \\mathbb [1,m]$\n",
    "\n",
    "We can get:\n",
    "$$max(|x_1|,|x_2|,|x_3|,...,|x_m|) = |x_{m'}| <= \\sqrt{x_1^2 + x_2^2 + x_3^2 ... x_m^2}$$\n",
    "\n",
    "An example is that,\n",
    "\n",
    "When $x=[1,1]$, $||x||_\\infty  = 1 < \\sqrt{2} = ||x||_2$\n",
    "\n",
    "When $x=[1,0]$, $||x||_\\infty = 1 = 1 = ||x||_2$"
   ]
  },
  {
   "cell_type": "markdown",
   "metadata": {
    "nbgrader": {
     "grade": false,
     "grade_id": "Q2-b",
     "locked": true,
     "solution": false
    }
   },
   "source": [
    "**(b)** (10 points) - $||x||_2 \\leq \\sqrt{m} ||x||_\\infty$"
   ]
  },
  {
   "cell_type": "markdown",
   "metadata": {
    "nbgrader": {
     "grade": true,
     "grade_id": "A2-b",
     "locked": false,
     "points": 10,
     "solution": true
    }
   },
   "source": [
    "### Solution\n",
    "\n",
    "$\\ell_2$ norm:\n",
    "$||x||_2 = \\left( \\sum^m_{i=1} |x_i|^2 \\right)^{1/2}$\n",
    "\n",
    "$\\ell_\\infty$ norm:\n",
    "$||x||_\\infty = \\max |x_i|$\n",
    "\n",
    "$||x||_2 = \\sqrt{x_1^2 + x_2^2 + x_3^2 ... x_m^2}$\n",
    "\n",
    "$||x||_\\infty =max(|x_1|,|x_2|,|x_3|,...,|x_m|) $\n",
    "\n",
    "Let $|x_{m'}|$ be the biggest number, $m' \\in \\mathbb [1,m]$\n",
    "\n",
    "We can get:\n",
    "$$\\sqrt{x_1^2 + x_2^2 + x_3^2 ... x_m^2} \\leq \\sqrt{m \\cdot x_{m'}^2} = \\sqrt{m} \\cdot |x_{m'}| =  \\sqrt{m} \\cdot max(|x_1|,|x_2|,|x_3|,...,|x_m|)  $$\n",
    "\n",
    "An example is that:\n",
    "\n",
    "When $x=[1,1]$, $||x||_2  = \\sqrt{2} = \\sqrt{2} = ||x||_\\infty$\n",
    "\n",
    "When $x=[1,0]$, $||x||_2 = 1 = \\sqrt{2} = ||x||_\\infty$"
   ]
  },
  {
   "cell_type": "markdown",
   "metadata": {
    "nbgrader": {
     "grade": false,
     "grade_id": "Q2-c",
     "locked": true,
     "solution": false
    }
   },
   "source": [
    "**(c)** (10 points) - $||A||_\\infty \\leq \\sqrt{n} ||A||_2$"
   ]
  },
  {
   "cell_type": "markdown",
   "metadata": {
    "nbgrader": {
     "grade": true,
     "grade_id": "A2-c",
     "locked": false,
     "points": 10,
     "solution": true
    }
   },
   "source": [
    "### Solution\n",
    "\n",
    "$||A||_2 = \\left( \\sum^m_{i=1} \\sum^n_{j=1} |a_{ij}|^2 \\right)^{1/2}$\n",
    "\n",
    "$||A||_{\\infty} = \\max_{1 \\leq i \\leq m} ||a^\\ast_i||_1$ where $a^\\ast_i$ is the $i$th row of $A$\n",
    "\n",
    "Let $|a_{m'n'}|$ be the biggest number, $m' \\in \\mathbb [1,m] $ $ n' \\in \\mathbb [1,n]$\n",
    "\n",
    "We can get:\n",
    "\n",
    "$$ \\max_{1 \\leq i \\leq m}||a^\\ast_i||_1 \\leq n \\cdot |a_{ij}| \\leq \\sqrt{m \\cdot n \\cdot n \\cdot |a_{m'n'}|^2} \\leq \\sqrt{n}\\left( \\sum^m_{i=1} \\sum^n_{j=1} |a_{ij}|^2 \\right)^{1/2}$$\n",
    "\n",
    "An example is that:\n",
    "\n",
    "When $x=[1,1;0,0]$, $||A||_\\infty = 2 = 2 = \\sqrt{2}||A||_2$\n",
    "\n",
    "When $x=[1,1;1,1]$, $||A||_\\infty  = 2 < 2\\sqrt{2} = \\sqrt{2}||A||_2$"
   ]
  },
  {
   "cell_type": "markdown",
   "metadata": {
    "nbgrader": {
     "grade": false,
     "grade_id": "Q2-d",
     "locked": true,
     "solution": false
    }
   },
   "source": [
    "**(d)** (10 points) - $||A||_2 \\leq \\sqrt{m} ||A||_\\infty$"
   ]
  },
  {
   "cell_type": "markdown",
   "metadata": {
    "nbgrader": {
     "grade": true,
     "grade_id": "A2-d",
     "locked": false,
     "points": 10,
     "solution": true
    }
   },
   "source": [
    "### Solution\n",
    "\n",
    "$||A||_2 = \\left( \\sum^m_{i=1} \\sum^n_{j=1} |a_{ij}|^2 \\right)^{1/2}$\n",
    "\n",
    "$||A||_{\\infty} = \\max_{1 \\leq i \\leq m} ||a^\\ast_i||_1$ where $a^\\ast_i$ is the $i$th row of $A$\n",
    "\n",
    "Let $|a_{m'n'}|$ be the biggest number, $m' \\in \\mathbb [1,m] $ $ n' \\in \\mathbb [1,n]$\n",
    "\n",
    "$ \\max_{1 \\leq i \\leq m}||a^\\ast_i||_1 \\leq n \\cdot |a_{ij}| \\leq \\sqrt{m \\cdot n \\cdot n \\cdot |a_{m'n'}|^2} \\leq \\sqrt{n}\\left( \\sum^m_{i=1} \\sum^n_{j=1} |a_{ij}|^2 \\right)^{1/2}$\n",
    "\n",
    "We can get:\n",
    "$$\\left( \\sum^m_{i=1} \\sum^n_{j=1} |a_{ij}|^2 \\right)^{1/2} \\leq \\sqrt{m \\cdot n \\cdot |a_{m'n'}|^2} \\leq  \\sqrt{m }\\cdot n |a_{m'n'}| \\leq \\sqrt{m} \\max_{1 \\leq i \\leq m}||a^\\ast_i||_1$$\n",
    "\n",
    "An example is that:\n",
    "\n",
    "When $x=[1,1;0,0]$, $||A||_2 = 2 = 2 = \\sqrt{2} ||A||_\\infty$\n",
    "\n",
    "When $x=[1,1;1,1]$, $||A||_2  = 2 < 2\\sqrt{2} = \\sqrt{2}||A||_\\infty$"
   ]
  },
  {
   "cell_type": "markdown",
   "metadata": {
    "nbgrader": {
     "grade": false,
     "grade_id": "Q3",
     "locked": true,
     "solution": false
    }
   },
   "source": [
    "## Question 3\n",
    "\n",
    "(15 points) - Write a function that computes the least-squares fit of a given polynomial order $n$ without using the function `numpy.linalg.lstsq` and `numpy.vander` (i.e. construct the system that needs to be solved yourself).  This function should return the coefficients of the resulting polynomial in accending order of powers.  If the function does not receive valid input (most notably an underconstrained system) raise a `ValueError` with an appropriate error message.  Make sure to mention this in your `doc-string`.  \n",
    "\n",
    "Also write a function that plots the resulting polynomial along with the data given the data, a set of $x$ points and the coefficients from the first function.  Make sure to label your plot (both the axes and with a legend)."
   ]
  },
  {
   "cell_type": "code",
   "execution_count": 2,
   "metadata": {
    "collapsed": false,
    "nbgrader": {
     "grade": false,
     "grade_id": "A3",
     "locked": false,
     "solution": true
    }
   },
   "outputs": [],
   "source": [
    "def compute_lstsq(data, n):\n",
    "    #If function does not receive valid input\n",
    "    if n>N:\n",
    "        raise ValueError(\"The N_p is bigger than N, Failed.\")\n",
    "    #Else valid input\n",
    "    b = numpy.zeros(N)\n",
    "    A = numpy.zeros([N,n+1])\n",
    "    for i in xrange(N):\n",
    "        for j in xrange(n+1):\n",
    "            A[i,j] = data[i,0]**(j)\n",
    "        b[i] = data[i,1]\n",
    "    x_A = numpy.dot(numpy.transpose(A),A)\n",
    "    b_A = numpy.dot(numpy.transpose(A),b)\n",
    "    p = numpy.dot(numpy.linalg.inv(x_A),b_A)\n",
    "    return p\n",
    "    \n",
    "def plot_lstsq(data, x, p):\n",
    "    P = numpy.zeros(numpy.size(x))\n",
    "    for n in xrange(N_p+1):\n",
    "        P += p[n] * x**n\n",
    "    #Plot the interpolation line\n",
    "    plt.plot(x,P)\n",
    "    #Plot the data\n",
    "    plt.plot(data[:,0],data[:,1],'ro')"
   ]
  },
  {
   "cell_type": "code",
   "execution_count": 3,
   "metadata": {
    "collapsed": false,
    "nbgrader": {
     "grade": true,
     "grade_id": "T3-a",
     "locked": true,
     "points": 5,
     "solution": false
    },
    "scrolled": false
   },
   "outputs": [
    {
     "name": "stdout",
     "output_type": "stream",
     "text": [
      "Success!\n"
     ]
    },
    {
     "data": {
      "image/png": "[encoded data removed]",
      "text/plain": [
       "<matplotlib.figure.Figure at 0x7faa82701d50>"
      ]
     },
     "metadata": {},
     "output_type": "display_data"
    }
   ],
   "source": [
    "try:\n",
    "    N = 5\n",
    "    N_p = 4\n",
    "    data = numpy.empty((N, 2))\n",
    "    data[:, 0] = numpy.random.uniform(size=N)\n",
    "    data[:, 0] = numpy.linspace(0.1, 0.9, N)\n",
    "    data[:, 1] = numpy.sin(numpy.exp(-data[:, 0]**2)) + numpy.random.uniform(size=N)\n",
    "    p = compute_lstsq(data, N_p)\n",
    "except ValueError as e:\n",
    "    raise e\n",
    "else:\n",
    "    P = numpy.zeros(N)\n",
    "    for n in xrange(N):\n",
    "        P += p[n] * data[:, 0]**n\n",
    "    numpy.testing.assert_allclose(P, data[:, 1])\n",
    "    print \"Success!\"\n",
    "\n",
    "    # Plot result\n",
    "    x = numpy.linspace(0.0, 1.0, 100)\n",
    "    plot_lstsq(data, x, p)\n",
    "    plt.show()"
   ]
  },
  {
   "cell_type": "code",
   "execution_count": 4,
   "metadata": {
    "collapsed": false,
    "nbgrader": {
     "grade": true,
     "grade_id": "T3-b",
     "locked": true,
     "points": 5,
     "solution": false
    }
   },
   "outputs": [
    {
     "name": "stdout",
     "output_type": "stream",
     "text": [
      "Success!\n"
     ]
    },
    {
     "data": {
      "image/png": "[encoded data removed]",
      "text/plain": [
       "<matplotlib.figure.Figure at 0x7faa827030d0>"
      ]
     },
     "metadata": {},
     "output_type": "display_data"
    }
   ],
   "source": [
    "try:\n",
    "    N = 20\n",
    "    N_p = 4\n",
    "    data = numpy.empty((N, 2))\n",
    "    data[:, 0] = numpy.random.uniform(size=N)\n",
    "    data[:, 0] = numpy.linspace(0.1, 0.9, N)\n",
    "    data[:, 1] = numpy.sin(numpy.exp(-data[:, 0]**2)) + numpy.random.uniform(size=N)\n",
    "    p = compute_lstsq(data, N_p)\n",
    "except ValueError as e:\n",
    "    print e\n",
    "else:\n",
    "    A = numpy.vander(data[:,0], N_p + 1)\n",
    "    numpy.testing.assert_allclose(p, numpy.flipud(numpy.linalg.lstsq(A, data[:, 1])[0]))\n",
    "    print \"Success!\"\n",
    "\n",
    "    # Plot result\n",
    "    x = numpy.linspace(0.0, 1.0, 100)\n",
    "    plot_lstsq(data, x, p)\n",
    "    plt.show()"
   ]
  },
  {
   "cell_type": "code",
   "execution_count": 5,
   "metadata": {
    "collapsed": false,
    "nbgrader": {
     "grade": true,
     "grade_id": "T3-c",
     "locked": true,
     "points": 5,
     "solution": false
    }
   },
   "outputs": [
    {
     "name": "stdout",
     "output_type": "stream",
     "text": [
      "The N_p is bigger than N, Failed.\n"
     ]
    }
   ],
   "source": [
    "try:\n",
    "    N = 5\n",
    "    N_p = 6\n",
    "    data = numpy.empty((N, 2))\n",
    "    data[:, 0] = numpy.random.uniform(size=N)\n",
    "    data[:, 0] = numpy.linspace(0.1, 0.9, N)\n",
    "    data[:, 1] = numpy.sin(numpy.exp(-data[:, 0]**2)) + numpy.random.uniform(size=N)\n",
    "    p = compute_lstsq(data, N_p)\n",
    "except ValueError as e:\n",
    "    print e\n",
    "else:\n",
    "    A = numpy.vander(data[:,0], N_p + 1)\n",
    "    numpy.testing.assert_allclose(p, numpy.flipud(numpy.linalg.lstsq(A, data[:, 1])[0]))\n",
    "    print \"Success!\"\n",
    "\n",
    "    # Plot result\n",
    "    x = numpy.linspace(0.0, 1.0, 100)\n",
    "    plot_lstsq(data, x, p)\n",
    "    plt.show()\n",
    "    assert(False)"
   ]
  },
  {
   "cell_type": "markdown",
   "metadata": {
    "nbgrader": {
     "grade": false,
     "grade_id": "Q4",
     "locked": true,
     "solution": false
    }
   },
   "source": [
    "## Question 4\n",
    "\n",
    "Consider a square matrix that looks like\n",
    "$$\n",
    "    A = \\frac{1}{\\Delta x^2} \\begin{bmatrix}\n",
    "        -2 &  1 &  ~ &  ~ &  ~ &  ~ &  ~ \\\\\n",
    "         1 & -2 &  1 &  ~ &  ~ &  ~ &  ~ \\\\\n",
    "         ~ &  1 & -2 &  1 &  ~ &  ~ &  ~ \\\\\n",
    "         ~ &  ~ & \\ddots & \\ddots & \\ddots & ~ & ~\\\\\n",
    "         ~ &  ~ & ~ & 1 & -2 & 1 & ~ \\\\\n",
    "         ~ &  ~ & ~ & ~ & 1 & -2 & 1 \\\\\n",
    "         ~ &  ~ & ~ & ~ &  ~ & 1 & -2 \\\\\n",
    "    \\end{bmatrix}\n",
    "$$\n",
    "This matrix can be characterized as having $A_{ii} = -2$, $A_{ii-1} = A_{ii+1} = 1$ so that the \"main\" diagonal has the value -2 and the secondary-diagonals are 1 (these are the diagonals that are just above and below the main diagonal).  This matrix is from a discretization of the second derivative using a second order finite difference formula (hence the values of 1, -2, and 1 and the $\\Delta x^2$ factor) with boundary conditions set to 0.  "
   ]
  },
  {
   "cell_type": "markdown",
   "metadata": {
    "nbgrader": {
     "grade": false,
     "grade_id": "Q4-a",
     "locked": true,
     "solution": false
    }
   },
   "source": [
    "**(a)** (10 points) - Write a function that computes the eigenvalues of the matrix above using whatever functions you would like.  The function should take in the size of the matrix $m$ (the matrix should be square) and the value of $\\Delta x$ and return the eigenvalues."
   ]
  },
  {
   "cell_type": "code",
   "execution_count": 6,
   "metadata": {
    "collapsed": false
   },
   "outputs": [],
   "source": [
    "def compute_eigenvalues(m, dx):\n",
    "    #Create A Matrix\n",
    "    A = numpy.zeros([m,m])\n",
    "    for i in xrange(m):\n",
    "        for j in xrange(m):\n",
    "            if i==j:\n",
    "                A[i,j] = -2\n",
    "            if i==j-1:\n",
    "                A[i,j] = 1\n",
    "            if j==i-1:\n",
    "                A[i,j] = 1\n",
    "    A = A/(dx**2)\n",
    "    #Using QR decomposition method to get A\n",
    "    MAX_STEPS = 10\n",
    "    for i in xrange(MAX_STEPS):\n",
    "        Q, R = numpy.linalg.qr(A)\n",
    "        A = numpy.dot(R, Q)\n",
    "    #Get eignvalues\n",
    "    eig_values = numpy.linalg.eigvals(A)\n",
    "    #Inverse eignvalues\n",
    "    eig_values[::-1]\n",
    "    return eig_values"
   ]
  },
  {
   "cell_type": "code",
   "execution_count": 7,
   "metadata": {
    "collapsed": false,
    "nbgrader": {
     "grade": true,
     "grade_id": "T4-a",
     "locked": true,
     "points": 10,
     "solution": false
    },
    "scrolled": false
   },
   "outputs": [
    {
     "name": "stdout",
     "output_type": "stream",
     "text": [
      "Success!\n"
     ]
    }
   ],
   "source": [
    "# Compare against analytical values\n",
    "m = 10\n",
    "dx = 1.0 / (m + 1)\n",
    "eig_values = numpy.flipud(numpy.sort(compute_eigenvalues(m, dx)))\n",
    "p = numpy.arange(1, m + 1)\n",
    "numpy.testing.assert_allclose(eig_values,\n",
    "    2.0 / dx**2 * (numpy.cos(p * numpy.pi * dx) - 1.0))\n",
    "print \"Success!\""
   ]
  },
  {
   "cell_type": "markdown",
   "metadata": {
    "nbgrader": {
     "grade": false,
     "grade_id": "Q4-b",
     "locked": true,
     "solution": false
    }
   },
   "source": [
    "**(b)** (5 points) - Plot the eigenvalues in the complex plane for $m=30$ and $\\Delta x = 1/31$.  Make sure to plot the axes and label everything appropriately."
   ]
  },
  {
   "cell_type": "code",
   "execution_count": 8,
   "metadata": {
    "collapsed": false,
    "nbgrader": {
     "grade": true,
     "grade_id": "A4-b",
     "locked": false,
     "points": 5,
     "solution": true
    }
   },
   "outputs": [
    {
     "data": {
      "text/plain": [
       "<function matplotlib.pyplot.gray>"
      ]
     },
     "execution_count": 8,
     "metadata": {},
     "output_type": "execute_result"
    },
    {
     "data": {
      "image/png": "[encoded data removed]",
      "text/plain": [
       "<matplotlib.figure.Figure at 0x7faa82701290>"
      ]
     },
     "metadata": {},
     "output_type": "display_data"
    }
   ],
   "source": [
    "m = 30\n",
    "dx = 1./31.\n",
    "#Get gienvalues through above function\n",
    "eig_values = compute_eigenvalues(m,dx)\n",
    "#Plot eignvalues in the complex plane\n",
    "plt.scatter(numpy.real(eig_values), numpy.imag(eig_values))\n",
    "plt.title('mapped points')\n",
    "plt.xlabel('Re(z)')\n",
    "plt.ylabel('Im(z)')\n",
    "plt.grid(True)\n",
    "plt.gray"
   ]
  },
  {
   "cell_type": "markdown",
   "metadata": {
    "nbgrader": {
     "grade": false,
     "grade_id": "Q4-c",
     "locked": true,
     "solution": false
    }
   },
   "source": [
    "**(c)** (10 points) - Think of the above matrix as specifying a system of ODEs.  The exact eigenvalues of the matrix are\n",
    "$$\n",
    "    \\lambda_p = \\frac{2}{\\Delta x^2} (\\cos(p \\pi \\Delta x) - 1)\n",
    "$$\n",
    "for $p = 1, \\ldots, m$.  Find an expression for $\\max_{p = 1, \\ldots, m} |\\lambda_p|$.  Based on our understanding of absolute stability what be the maximum time-step we could use for this system of ODEs if we used the forward Euler method?  What about for the backward Euler method?  How does this relate to the absolute stability regions of each method?  Feel free to use a plot of the stability regions to illustrate the point."
   ]
  },
  {
   "cell_type": "markdown",
   "metadata": {
    "nbgrader": {
     "grade": true,
     "grade_id": "A4-c",
     "locked": false,
     "points": 10,
     "solution": true
    }
   },
   "source": [
    "### Solution\n",
    "\n",
    "Given that the $-1<=cos(p \\pi \\Delta x)<=1$\n",
    "\n",
    "Therefore, $\\max_{p = 1, \\ldots, m} |\\lambda_p| = |\\frac{2}{\\Delta x^2}(-2)|= \\frac{4}{\\Delta x^2}$\n",
    "\n",
    "For this ODE system, the $\\Delta x = 1/31$, through the formula $\\frac{4}{\\Delta x^2}$, we get $\\max_{p = 1, \\ldots, m} |\\lambda_p| = 4 \\cdot 31^2 = 3844$\n",
    "\n",
    "Using the forward Euler method, $|1+ \\Delta t \\lambda_p| \\leq 1$, we can get $\\Delta t \\leq \\frac{2}{3844}$, therefore, the maximum x is $\\frac{2}{3844} = 5.2 * 10^{-4}$\n",
    "\n",
    "Since $cos(p \\pi \\Delta x)-1 \\leq 0$, we know that $\\lambda_p \\leq 0$\n",
    "\n",
    "For forward Euler method,\n",
    "\n",
    "$|1+ \\Delta t \\lambda_p| \\leq 1$\n",
    "\n",
    "The absolute stability regions for forward Euler method is showed on the figure 1.\n",
    "\n",
    "For backward Euler method,\n",
    "\n",
    "$|1- \\Delta t \\lambda_p| \\geq 1$\n",
    "\n",
    "The absolute stability regions for backward Euler method is showed on the figure 2."
   ]
  },
  {
   "cell_type": "code",
   "execution_count": 9,
   "metadata": {
    "collapsed": false
   },
   "outputs": [
    {
     "data": {
      "image/png": "[encoded data removed]",
      "text/plain": [
       "<matplotlib.figure.Figure at 0x7faa804b8750>"
      ]
     },
     "metadata": {},
     "output_type": "display_data"
    },
    {
     "data": {
      "image/png": "[encoded data removed]",
      "text/plain": [
       "<matplotlib.figure.Figure at 0x7faa80504890>"
      ]
     },
     "metadata": {},
     "output_type": "display_data"
    }
   ],
   "source": [
    "#Set the range of t from 0.0 to 2*pi\n",
    "t = numpy.linspace(0.0, 2.0 * numpy.pi, 100)\n",
    "# Plot the region of absolute stability for Forward Euler\n",
    "fig = plt.figure()\n",
    "axes = fig.add_subplot(1, 1, 1)\n",
    "axes.fill(numpy.cos(t) - 1.0, numpy.sin(t), 'b')\n",
    "axes.plot([-3, 3],[0.0, 0.0],'k--')\n",
    "axes.plot([0.0, 0.0],[-3, 3],'k--')\n",
    "axes.set_xlim((-3, 3))\n",
    "axes.set_ylim((-2,2))\n",
    "axes.set_title(\"Absolute Stability Region for Forward Euler\")\n",
    "plt.show()\n",
    "# Plot the region of absolute stability for Backward Euler\n",
    "fig = plt.figure()\n",
    "axes = fig.add_subplot(1, 1, 1)\n",
    "axes.set_axis_bgcolor((255.0/255.0,145.0/255.0,0/255.0,1.0))\n",
    "axes.fill(numpy.cos(t) - 1.0, numpy.sin(t), 'w')\n",
    "axes.plot([-3, 3],[0.0, 0.0],'k--')\n",
    "axes.plot([0.0, 0.0],[-3, 3],'k--')\n",
    "axes.set_xlim((-3, 3))\n",
    "axes.set_ylim((-2,2))\n",
    "axes.set_title(\"Absolute Stability Region for Backward Euler\")\n",
    "plt.show()"
   ]
  },
  {
   "cell_type": "code",
   "execution_count": null,
   "metadata": {
    "collapsed": true
   },
   "outputs": [],
   "source": []
  }
 ],
 "metadata": {
  "anaconda-cloud": {},
  "celltoolbar": "Create Assignment",
  "kernelspec": {
   "display_name": "Python [Root]",
   "language": "python",
   "name": "Python [Root]"
  },
  "language_info": {
   "codemirror_mode": {
    "name": "ipython",
    "version": 2
   },
   "file_extension": ".py",
   "mimetype": "text/x-python",
   "name": "python",
   "nbconvert_exporter": "python",
   "pygments_lexer": "ipython2",
   "version": "2.7.12"
  },
  "latex_envs": {
   "bibliofile": "biblio.bib",
   "cite_by": "apalike",
   "current_citInitial": 1,
   "eqLabelWithNumbers": true,
   "eqNumInitial": 0
  }
 },
 "nbformat": 4,
 "nbformat_minor": 0
}
