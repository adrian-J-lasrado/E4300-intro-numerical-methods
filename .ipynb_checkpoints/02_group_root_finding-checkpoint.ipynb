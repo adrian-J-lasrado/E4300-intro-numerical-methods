{
 "cells": [
  {
   "cell_type": "code",
   "execution_count": 1,
   "metadata": {
    "collapsed": true
   },
   "outputs": [],
   "source": [
    "%matplotlib inline\n",
    "import numpy\n",
    "import matplotlib.pyplot as plt"
   ]
  },
  {
   "cell_type": "markdown",
   "metadata": {},
   "source": [
    "# Group Work 2 - Rooting for the Optimum\n",
    "\n",
    "After you are done please submit this on Vocareum as with the homework."
   ]
  },
  {
   "cell_type": "markdown",
   "metadata": {},
   "source": [
    "## Newton's Method:\n",
    "\n",
    "For the following consider the function\n",
    "$$\n",
    "    f(x) = \\cos(x) - 2x.\n",
    "$$"
   ]
  },
  {
   "cell_type": "markdown",
   "metadata": {},
   "source": [
    "**(a)** Write down the Newton iteration for $f(x)$."
   ]
  },
  {
   "cell_type": "markdown",
   "metadata": {},
   "source": [
    "$$x_{k+1} = x_k-\\frac{f(x_k)}{f'(x_k)}$$\n",
    "\n",
    "$$x_{k+1} = x_k-\\frac{cos(x_k)-2x_k}{-sin(x_k)-2}$$"
   ]
  },
  {
   "cell_type": "markdown",
   "metadata": {},
   "source": [
    "**(b)**  The first step in setting up Newton's method is to pick a good initial guess.  One way to do this is to find two points that $x_0$ and $x_1$ where $\\text{sign}(f(x_0)) \\neq \\text{sign}(f(x_1))$.  Find two such points for $f(x)$."
   ]
  },
  {
   "cell_type": "markdown",
   "metadata": {},
   "source": [
    "$$f(0)=1>0; \\quad  f(1)=cos(1)-2<0$$\n",
    "\n",
    "$$ x_0=0; \\qquad   x_1=1 $$"
   ]
  },
  {
   "cell_type": "markdown",
   "metadata": {},
   "source": [
    "**(c)** Using your update formula, your initial guess, and Newton's method find the root of $f(x)$.  Feel free to use the code demonstrated in class.  Make sure to use plots to get a visual understanding for what is going on.\n",
    "\n",
    "Additional things to play with:\n",
    "1. Choose a small max step and display the results to see how the newton method converges to the root.\n",
    "1. Choose different tolerances and see how many iterations it takes to converge to the root.\n",
    "1. Choose a \"bad\" initial guess and see what happens."
   ]
  },
  {
   "cell_type": "code",
   "execution_count": 2,
   "metadata": {
    "collapsed": false,
    "scrolled": true
   },
   "outputs": [
    {
     "name": "stdout",
     "output_type": "stream",
     "text": [
      "Root is: 0.450183615256\n",
      "Iterations is: 3\n"
     ]
    },
    {
     "data": {
      "image/png": "[encoded data removed]",
      "text/plain": [
       "<matplotlib.figure.Figure at 0x10a2a8e10>"
      ]
     },
     "metadata": {},
     "output_type": "display_data"
    }
   ],
   "source": [
    "#Function\n",
    "f = lambda x:numpy.cos(x) - 2*x\n",
    "f_prime = lambda x: numpy.sin(-x) - 2\n",
    "\n",
    "#Parameters\n",
    "MAX_STEPS = 10\n",
    "TOLERANCE = 1e-4\n",
    "#TOLERANCE = 1e-10  #The tolerance becomes smaller the iterations maybe increase\n",
    "\n",
    "x = numpy.linspace(0, 1, 100)\n",
    "\n",
    "# Setup figure to plot convergence\n",
    "fig = plt.figure()\n",
    "axes = fig.add_subplot(1, 1, 1)\n",
    "axes.plot(x, f(x), 'b')\n",
    "axes.plot(x, numpy.zeros(x.shape),'r--')\n",
    "\n",
    "#initial\n",
    "x_k = 0.1\n",
    "#x_k = 4  #Bad Initial Guess will \n",
    "\n",
    "for n in xrange(1, MAX_STEPS + 1):\n",
    "    axes.text(x_k,f(x_k),str(n))\n",
    "    x_k = x_k - f(x_k)/f_prime(x_k)\n",
    "    count = n\n",
    "    if numpy.abs(f(x_k)) < TOLERANCE:\n",
    "        break\n",
    "\n",
    "print \"Root is:\", x_k\n",
    "print \"Iterations is:\", count"
   ]
  },
  {
   "cell_type": "markdown",
   "metadata": {},
   "source": [
    "## The Secant Method\n",
    "\n",
    "For the following consider the function\n",
    "$$\n",
    "    f(x) = x^3 - x + 1.\n",
    "$$"
   ]
  },
  {
   "cell_type": "markdown",
   "metadata": {},
   "source": [
    "**(a)** Write down the iteration for the secant method."
   ]
  },
  {
   "cell_type": "markdown",
   "metadata": {},
   "source": [
    "$$x_{k+1} = x_k - \\frac{f(x_k)  (x_k - x_{k-1})}{f(x_k) - f(x_{k-1})}$$"
   ]
  },
  {
   "cell_type": "markdown",
   "metadata": {},
   "source": [
    "**(b)** The advantage of the secant method over Newton's method is that we don't need to calculate the derivative of the function.  The disadvantage is that now we need two initial guesses to start the secant method. \n",
    "\n",
    "As we did with Newton's method find two points $x_0$ and $x_1$ with the same properties as before (choose a bracket)."
   ]
  },
  {
   "cell_type": "markdown",
   "metadata": {},
   "source": [
    "$$f(-2)=-5<0;  \\quad f(3) = 25>0$$\n",
    "\n",
    "$$x_1 = -2; \\quad x_0 = 3$$"
   ]
  },
  {
   "cell_type": "markdown",
   "metadata": {
    "collapsed": true
   },
   "source": [
    "**(c)** Using your update formula, your initial guess, and the secant method find the root of $f(x)$.  Again feel free to use the code demonstrated in class and use plots to visualize your results.\n",
    "\n",
    "Additional things to play with:\n",
    "1. Choose a small max step and display the results to see how the newton method converges to the root.\n",
    "1. Choose different tolerances and see how many iterations it takes to converge to the root.\n",
    "1. Choose a \"bad\" initial guess and see what happens."
   ]
  },
  {
   "cell_type": "code",
   "execution_count": 3,
   "metadata": {
    "collapsed": false
   },
   "outputs": [
    {
     "name": "stdout",
     "output_type": "stream",
     "text": [
      "Root is: -1.32470793653\n",
      "Iterations is: 5\n"
     ]
    },
    {
     "data": {
      "image/png": "[encoded data removed]",
      "text/plain": [
       "<matplotlib.figure.Figure at 0x10a29af90>"
      ]
     },
     "metadata": {},
     "output_type": "display_data"
    }
   ],
   "source": [
    "x = numpy.linspace(-3, 3, 100)\n",
    "f = lambda x: x**3 - x + 1\n",
    "\n",
    "#Algorithm parameters\n",
    "MAX_STEPS = 10\n",
    "TOLERANCE = 1e-4\n",
    "#TOLERANCE = 1e-10  #The tolerance becomes smaller the iterations maybe increase\n",
    "\n",
    "#Initial guess\n",
    "x_k = -2.\n",
    "x_km = 3.\n",
    "#Bad Initial guess\n",
    "#x_k = -20.\n",
    "#x_km = 30.\n",
    "#This method will converge good to root even though the initial guess are bad\n",
    "\n",
    "fig = plt.figure()\n",
    "axes = fig.add_subplot(1, 1, 1)\n",
    "axes.plot(x, f(x), 'b')\n",
    "axes.plot(x, numpy.zeros(x.shape),'r--')\n",
    "\n",
    "axes.plot(x_km,f(x_km),'o')\n",
    "\n",
    "for count in xrange(1,MAX_STEPS):\n",
    "    axes.plot(x_k,f(x_k),'o')\n",
    "    x_kp = x_k - (f(x_k) * (x_k - x_km) / (f(x_k) - f(x_km)))\n",
    "    x_km = x_k\n",
    "    x_k = x_kp\n",
    "    if numpy.abs(f(x_k)) < TOLERANCE:\n",
    "        break\n",
    "        \n",
    "print \"Root is:\", x_k\n",
    "print \"Iterations is:\", count"
   ]
  },
  {
   "cell_type": "markdown",
   "metadata": {},
   "source": [
    "## Comparing convergence\n",
    "\n",
    "Now that we have seen both the methods, lets compare them for the function\n",
    "$$\n",
    "    f(x) = x - \\cos(x)\n",
    "$$"
   ]
  },
  {
   "cell_type": "markdown",
   "metadata": {},
   "source": [
    "**(a)** For the new function $f(x)$ derive the iteration for both Newton's method and the secant method."
   ]
  },
  {
   "cell_type": "markdown",
   "metadata": {},
   "source": [
    "For Newton's method:\n",
    "\n",
    "$$x_{k+1} = x_k-\\frac{f(x_k)}{f'(x_k)}$$\n",
    "\n",
    "$$x_{k+1} = x_k-\\frac{x-cos(x_k)}{1+sin(x_k)}$$\n",
    "\n",
    "For Secant method:\n",
    "\n",
    "$$x_{k+1} = x_k - \\frac{f(x_k)  (x_k - x_{k-1})}{f(x_k) - f(x_{k-1})}$$"
   ]
  },
  {
   "cell_type": "markdown",
   "metadata": {},
   "source": [
    "**(b)** Choose a bracket to start both methods."
   ]
  },
  {
   "cell_type": "markdown",
   "metadata": {},
   "source": [
    "For Scant Method:$f(0) = -1 < 0; \\quad f(2) = 2 - cos(2) >0 $\n",
    "\n",
    "Lets the bracket $[a,b]; \\quad a= -1, b =2$\n",
    "\n",
    "For Newton's Method: Lets initial number equals $-0.4$"
   ]
  },
  {
   "cell_type": "markdown",
   "metadata": {},
   "source": [
    "**(c)** Using your code from before (you could do this easily if you write the above as a function) see how the two methods compare in terms of the number of the number of iterations it takes to converge.  Play around with your choice of bracket and see how this might impact both methods."
   ]
  },
  {
   "cell_type": "code",
   "execution_count": 4,
   "metadata": {
    "collapsed": false
   },
   "outputs": [
    {
     "name": "stdout",
     "output_type": "stream",
     "text": [
      "Iterations for Newton's Method(Initial Number:-0.4) is: 4\n",
      "Iterations for Scant Method(Initial Number:-1 and 2) is: 6\n"
     ]
    },
    {
     "data": {
      "image/png": "[encoded data removed]",
      "text/plain": [
       "<matplotlib.figure.Figure at 0x10cc51090>"
      ]
     },
     "metadata": {},
     "output_type": "display_data"
    }
   ],
   "source": [
    "x = numpy.linspace(-1, 2, 100)\n",
    "f = lambda x: x - numpy.cos(x)\n",
    "f_prime = lambda x: 1 + numpy.sin(x)\n",
    "    \n",
    "#Algorithm parameters\n",
    "MAX_STEPS = 10\n",
    "TOLERANCE = 1e-4\n",
    "\n",
    "#Initial guess\n",
    "x_n = -0.4  #Initial number for Newton's Method\n",
    "x_k = -1.   #Initial number for Scant Method\n",
    "x_km = 2.   #Initial number for Scant Method\n",
    "\n",
    "fig = plt.figure()\n",
    "axes = fig.add_subplot(1, 1, 1)\n",
    "axes.plot(x, f(x), 'b')\n",
    "axes.plot(x, numpy.zeros(x.shape),'r--')\n",
    "\n",
    "#Method for Newton's Method\n",
    "for n in xrange(1, MAX_STEPS + 1):\n",
    "    axes.text(x_n,f(x_n),str(n))\n",
    "    x_n = x_n - f(x_n)/f_prime(x_n)\n",
    "    count = n\n",
    "    if numpy.abs(f(x_n)) < TOLERANCE:\n",
    "        break\n",
    "\n",
    "print \"Iterations for Newton's Method(Initial Number:-0.4) is:\",n\n",
    "\n",
    "#Method for Scant Method\n",
    "for count in xrange(1,MAX_STEPS):\n",
    "    axes.plot(x_k,f(x_k),'o')\n",
    "    x_kp = x_k - (f(x_k) * (x_k - x_km) / (f(x_k) - f(x_km)))\n",
    "    x_km = x_k\n",
    "    x_k = x_kp\n",
    "    if numpy.abs(f(x_k)) < TOLERANCE:\n",
    "        break\n",
    "\n",
    "print \"Iterations for Scant Method(Initial Number:-1 and 2) is:\",count"
   ]
  }
 ],
 "metadata": {
  "kernelspec": {
   "display_name": "Python [Root]",
   "language": "python",
   "name": "Python [Root]"
  },
  "language_info": {
   "codemirror_mode": {
    "name": "ipython",
    "version": 2
   },
   "file_extension": ".py",
   "mimetype": "text/x-python",
   "name": "python",
   "nbconvert_exporter": "python",
   "pygments_lexer": "ipython2",
   "version": "2.7.12"
  }
 },
 "nbformat": 4,
 "nbformat_minor": 0
}
