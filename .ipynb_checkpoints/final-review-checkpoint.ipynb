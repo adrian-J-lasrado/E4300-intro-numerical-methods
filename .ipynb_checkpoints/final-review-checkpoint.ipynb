{
 "cells": [
  {
   "cell_type": "code",
   "execution_count": null,
   "metadata": {
    "collapsed": true
   },
   "outputs": [],
   "source": [
    "%matplotlib inline\n",
    "%precision 16\n",
    "import numpy\n",
    "import matplotlib.pyplot as plt"
   ]
  },
  {
   "cell_type": "markdown",
   "metadata": {},
   "source": [
    "# Final Review - Fall Semester 2016\n",
    "\n",
    "Guidelines:\n",
    "1. Use resources available to you from class and online.\n",
    "1. That being said this is an individual effort, do not work with others and cite what you do use.\n",
    "1. Copying is prohibited, write your own code and solutions (you can copy from the notes).\n",
    "1. Do not use piazza for the duration of the exam, it will be frozen!  \n",
    "1. If you have a question please email the instructor and the TAs for maximal response possibilities.  We will answer questions that pertain only to clarification.  In particular this means we will not debug your code.\n",
    "1. Late turn in of the final will result in a 10% reduction every HOUR that it is late.  If you feel that there is a special circumstance that warrants consideration tells us BEFORE Tuesday (and more so before the exam starts).\n",
    "\n",
    "Good luck!"
   ]
  },
  {
   "cell_type": "markdown",
   "metadata": {},
   "source": [
    "## Question 1\n",
    "\n",
    "**(a)** Find the general solution of the linear difference equation\n",
    "$$\n",
    "U^{n+2} - U^{n+1} + 0.25U^n =0.\n",
    "$$"
   ]
  },
  {
   "cell_type": "markdown",
   "metadata": {},
   "source": []
  },
  {
   "cell_type": "markdown",
   "metadata": {},
   "source": [
    "**(b)** Determine the particular solution with initial data $U^0 = 2,\n",
    "~U^1=3$.  What is $U^{10}$?"
   ]
  },
  {
   "cell_type": "markdown",
   "metadata": {},
   "source": []
  },
  {
   "cell_type": "markdown",
   "metadata": {},
   "source": [
    "**(c)** Consider the iteration\n",
    "$$\n",
    "\\begin{bmatrix} U^{n+1} \\\\ U^{n+2}  \\end{bmatrix} =\n",
    "\\begin{bmatrix} 0&1 \\\\ -0.25&1 \\end{bmatrix} \\begin{bmatrix} U^n \\\\ U^{n+1} \\end{bmatrix}.\n",
    "$$\n",
    "The matrix appearing here is the \"companion matrix\" for the above\n",
    "difference equation.   If this matrix is called $A$, then we can\n",
    "determine $U^n$ from the starting values using the $n$th power of this\n",
    "matrix.  Compute $A^n$ and show that this gives\n",
    "the same solution found in part (b)."
   ]
  },
  {
   "cell_type": "code",
   "execution_count": null,
   "metadata": {
    "collapsed": false
   },
   "outputs": [],
   "source": []
  },
  {
   "cell_type": "markdown",
   "metadata": {},
   "source": [
    "## Question 2\n",
    "\n",
    "Consider the third order initial value problem\n",
    "\\begin{equation*}\n",
    "\\begin{split}\n",
    "&v'''(t) + v''(t) + 4v'(t) + 4v(t) = 4t^2 + 8t - 10,\\\\\n",
    "&v(0) = -3,\\quad v'(0) = -2,\\quad v''(0) = 2.\n",
    "\\end{split}\n",
    "\\end{equation*}"
   ]
  },
  {
   "cell_type": "markdown",
   "metadata": {},
   "source": [
    "**(a)** Verify that the function\n",
    "\\[\n",
    "v(t) = -\\sin(2t) + t^2 - 3\n",
    "\\]\n",
    "is a solution to this problem."
   ]
  },
  {
   "cell_type": "markdown",
   "metadata": {},
   "source": []
  },
  {
   "cell_type": "markdown",
   "metadata": {},
   "source": [
    "**(b)** Rewrite this problem as a first order system of the form $u'(t) =\n",
    "f(u(t), t)$ where $u(t) \\in \\mathbb R^3$.  Make sure you also specify the\n",
    "initial condition $u(0) = \\eta$ as a 3-vector."
   ]
  },
  {
   "cell_type": "markdown",
   "metadata": {},
   "source": []
  },
  {
   "cell_type": "markdown",
   "metadata": {},
   "source": [
    "**(c)** Use the `lsoda` integrator to solve this problem over the\n",
    "time interval $0\\leq t \\leq 2$.  Plot the true and computed solutions to\n",
    "make sure you've done this correctly.  Comment on the integrator `lsoda` (for instance via the doc-string)."
   ]
  },
  {
   "cell_type": "code",
   "execution_count": null,
   "metadata": {
    "collapsed": false
   },
   "outputs": [],
   "source": []
  },
  {
   "cell_type": "markdown",
   "metadata": {},
   "source": [
    "**(d)** Repeat part (c) using the `dopri4`."
   ]
  },
  {
   "cell_type": "code",
   "execution_count": null,
   "metadata": {
    "collapsed": false
   },
   "outputs": [],
   "source": []
  },
  {
   "cell_type": "markdown",
   "metadata": {},
   "source": [
    "## Question 3\n",
    "\n",
    "A backward stable eigenvalue algorithm would exactly solve for the eigenvalues of a slightly perturbed matrix, say $A + \\delta A$, with $||\\delta A|| / ||A|| = \\mathcal{O}(\\epsilon_{\\text{machine}})$ but can we say that they are close to the original matrix $A$'s eigenvalues?  One can approach such problems geometrically by looking at what happens if we slightly perturb the eigenvalues?  Consider the spectrum of $A$ to be $\\Lambda(A)$ and take $\\epsilon > 0$, define the 2-norm $\\epsilon$-pseudospectra of $A$ as the set of numbers $z \\in \\mathbb C$ such that $z$ is an eigenvalue of $A + \\delta A$ for some $\\delta A$ with $||\\delta A||_2 \\leq \\epsilon$.  This is equivalent to the statement\n",
    "$$\n",
    "    \\sigma_{\\min}(z I - A) \\leq \\epsilon\n",
    "$$\n",
    "where $\\sigma_{\\min}(A)$ is the smallest singular value of the matrix $A$.  The singular values of a matrix can be computed via the `svd` function in `numpy.linalg` (one of the fundamental factorization available for all matrices).\n",
    "\n",
    "For the following two questions consider the matrix $A \\in \\mathbb R^{32 \\times 32}$ with $-1$ on the main diagonal, $1$ on the first and second super-diagonals, and 0 otherwise."
   ]
  },
  {
   "cell_type": "markdown",
   "metadata": {},
   "source": [
    "**(a)** Using the appropriate `numpy` command and the `matplotlib` contour command plot the 2-norm $\\epsilon$-pseudospectra of $A$ for $\\epsilon = 10^{-1}, 10^{-2}, \\ldots, 10^{-8}$.  Make sure that your plots are produced in less than a minute!"
   ]
  },
  {
   "cell_type": "code",
   "execution_count": null,
   "metadata": {
    "collapsed": false
   },
   "outputs": [],
   "source": []
  },
  {
   "cell_type": "markdown",
   "metadata": {},
   "source": [
    "**(b)** Produce a `semilogy` plot of $||e^{tA}||_2$ against $t$ for $0 \\leq t \\leq 50$.  What is the initial growth rate of the curve before the eventual decay sets in?  Can you relate this to your plot of the pseudospectra?"
   ]
  },
  {
   "cell_type": "code",
   "execution_count": null,
   "metadata": {
    "collapsed": false,
    "scrolled": true
   },
   "outputs": [],
   "source": []
  },
  {
   "cell_type": "markdown",
   "metadata": {},
   "source": [
    "## Question 4\n",
    "\n",
    "Consider the nonlinear ODE that arises from a system comprised of a pendulum with mass $m$ at the end of a rigid (but massless) bar of length $L$.  Let $\\theta(t)$ be the angle of the pendulum with respect to the vertical at time $t$.  Ignoring various other effects (such as friction) the ODE can be written as\n",
    "$$\n",
    "    \\theta_{tt} = -\\frac{g}{L} \\sin(\\theta(t))\n",
    "$$\n",
    "where $g$ is gravitational acceleration.  Assuming that $g / L = 1$, we then arrive at the model problem we will consider\n",
    "$$\n",
    "    \\theta_{tt} + \\sin \\theta = 0.\n",
    "$$\n",
    "This can be solved as an initial value problem but here we will consider the case where we know the initial position of the pendulum at time $t = 0$ and some time later $t = T$.  Let these values be $\\theta(0) = \\alpha$ and $\\theta(T) = \\beta$."
   ]
  },
  {
   "cell_type": "markdown",
   "metadata": {
    "collapsed": true
   },
   "source": [
    "**(a)** [5 points] If $|\\theta| \\ll 1$ then we can approximate the nonlinear term in the ODE as $\\sin \\theta \\approx \\theta$.  Solve the ODE analytically making note of which combination of the parameters $T$, $\\alpha$ and $\\beta$ might cause problems."
   ]
  },
  {
   "cell_type": "markdown",
   "metadata": {},
   "source": []
  },
  {
   "cell_type": "markdown",
   "metadata": {},
   "source": [
    "**(b)** Write a numerical solver using a finite difference approximation for the linear ODE above.  Test it with $T=10.0$, $\\alpha = 0.05$ and $\\beta = 0.05$."
   ]
  },
  {
   "cell_type": "code",
   "execution_count": null,
   "metadata": {
    "collapsed": false
   },
   "outputs": [],
   "source": []
  },
  {
   "cell_type": "markdown",
   "metadata": {},
   "source": [
    "**(b)** [10 points] Now solve the nonlinear ODE using a shooting method plotting the results when $T=2 \\pi$, $\\alpha = \\beta = 0.7$.  Use an initial guess for the left derivative of $\\theta'(0) = -1$."
   ]
  },
  {
   "cell_type": "code",
   "execution_count": null,
   "metadata": {
    "collapsed": false
   },
   "outputs": [],
   "source": []
  },
  {
   "cell_type": "markdown",
   "metadata": {},
   "source": [
    "**(c)** [5 points] Derive the nonlinear the system of equations using a second-order, centered-difference approximation for the second derivative.  Leave the nonlinear term for $\\sin \\theta$ as an evaluation such as $\\sin \\theta_i$."
   ]
  },
  {
   "cell_type": "markdown",
   "metadata": {},
   "source": []
  },
  {
   "cell_type": "markdown",
   "metadata": {},
   "source": [
    "**(d)** [10 points] In part (c) we derived a non-linear system of equations for the pendulum problem.  If we rearrange this system and write it as\n",
    "$$\n",
    "    G(\\theta) = 0\n",
    "$$\n",
    "we can view this as a problem of finding the roots of the system $G$.  Using Newton's method we can write an iteration for the solution $\\theta$ where\n",
    "$$\n",
    "    \\theta^{(k+1)} = \\theta^{(k)} + \\delta^{(k)}\n",
    "$$\n",
    "where the vector $\\delta^{(k)}$ solves\n",
    "$$\n",
    "    J(\\theta^{(k)}) \\delta^{(k)} = -G(\\theta^{(k)}).\n",
    "$$\n",
    "The Jacobian matrix has the form\n",
    "$$\n",
    "    J_{i,j}(\\theta) = \\frac{\\partial G_i(\\theta)}{\\partial \\theta_j}\n",
    "$$\n",
    "such that\n",
    "$$\n",
    "    J_{i,j}(\\theta) = \\left \\{ \\begin{aligned}\n",
    "        &1 / \\Delta x^2 & & \\text{if} ~ j=i-1~\\text{or}~j=i+1, \\\\\n",
    "        &-2 / \\Delta x^2 + \\cos \\theta_i & & \\text{if} ~ j=i ~\\text{and} \\\\\n",
    "        &0 & & \\text{otherwise}.\n",
    "    \\end{aligned} \\right .\n",
    "$$\n",
    "Solve the non-linear ODE system using the Newton iteration approach outlined here with the boundary conditions and interval defined in part (c).  Use a stopping criteria based $||\\delta||_\\infty$ and a tolerance that you deem appropriate.  You can also use the builtin `numpy.linalg.solve` command.  Use an initial guess of $\\theta^{(k)} = 0.7 \\cos t$."
   ]
  },
  {
   "cell_type": "code",
   "execution_count": null,
   "metadata": {
    "collapsed": false
   },
   "outputs": [],
   "source": []
  },
  {
   "cell_type": "markdown",
   "metadata": {},
   "source": [
    "**(e)** [5 points] Compare the solution to the linearized problem and the non-linear solutions using the shooting method and Newton's method by plotting the solution to the problem for $T = 2 \\pi$, $\\alpha = \\beta = 0.7$.  Discuss what you observe, for instance:\n",
    " - What happens when you let the end time become larger?  \n",
    " - What happens when you try changing the initial guess for the shooting and Newton method?\n",
    " - Why do the methods agree/disagree?"
   ]
  },
  {
   "cell_type": "code",
   "execution_count": null,
   "metadata": {
    "collapsed": false,
    "scrolled": false
   },
   "outputs": [],
   "source": []
  },
  {
   "cell_type": "markdown",
   "metadata": {},
   "source": [
    "## Question 3\n",
    "\n",
    "The partial differential equation of motion of the axially vibrating bar in the figure is\n",
    "$$\n",
    "    \\frac{\\partial^2 u}{\\partial x^2} = \\frac{\\rho}{E} \\frac{\\partial^2 u}{\\partial t^2}\n",
    "$$\n",
    "where $u(x,t)$ is the axial displacement, $\\rho$ the mass density, and $E$ the modulus of elasticity.  The boundary conditions for the beam depicted are $u(0, t) = u_x(L, t) = 0$.\n",
    "\n",
    "![stuff](http://www.columbia.edu/~ktm2132/APMA_4300/beam_diagram.png)"
   ]
  },
  {
   "cell_type": "markdown",
   "metadata": {},
   "source": [
    "**(a)** [5 points] If we want to find the linear vibrational modes in the lateral direction we can plug in a plane wave of the form $u(x, t) = y(x) \\sin (\\omega t)$.  Do this and find the equivalent ODE boundary value problem including the new boundary conditions."
   ]
  },
  {
   "cell_type": "markdown",
   "metadata": {},
   "source": []
  },
  {
   "cell_type": "markdown",
   "metadata": {},
   "source": [
    "**(b)** [10 points] Using second order finite difference discretizations of the cantilever beam starting at the wall and ending at the free end (see the figure) write a system of equations that would express the ODE from part (a) as an eigenvalue problem identifying the $\\lambda$.  For the right boundary condition use the expression from the discretized, second order accurate difference to find an expression for $Y_{N+1}$ and plug it in to the expression for equation centered at $x_N$."
   ]
  },
  {
   "cell_type": "markdown",
   "metadata": {},
   "source": []
  },
  {
   "cell_type": "markdown",
   "metadata": {},
   "source": [
    "**(c)** [5 points] Write a function that returns the eigenpairs $(\\omega, Y)$ for this problem using the built-in eigenvalue and eigenvector functions.  The function should take as arguments the density $\\rho$, elastic modulus $E$, the length of the beam $L$, and the number of points to use $N$."
   ]
  },
  {
   "cell_type": "code",
   "execution_count": null,
   "metadata": {
    "collapsed": true
   },
   "outputs": [],
   "source": []
  },
  {
   "cell_type": "markdown",
   "metadata": {},
   "source": [
    "**(d)** [5 points] Make a plot of the convergence vs. the number of points used to the first eigenmode (the mode corresponding to the smallest eigenvalue).  The analytical solution is\n",
    "$$\n",
    "    \\omega_1 = \\frac{\\pi}{2 L} \\sqrt{\\frac{E}{\\rho}}.\n",
    "$$\n",
    "You can choose values for $\\rho$, $E$ and $L$ to be anything you want (for instance something other than a mathematicians simplification that everything is 1)."
   ]
  },
  {
   "cell_type": "code",
   "execution_count": null,
   "metadata": {
    "collapsed": false
   },
   "outputs": [],
   "source": []
  }
 ],
 "metadata": {
  "kernelspec": {
   "display_name": "Python [Root]",
   "language": "python",
   "name": "Python [Root]"
  },
  "language_info": {
   "codemirror_mode": {
    "name": "ipython",
    "version": 2
   },
   "file_extension": ".py",
   "mimetype": "text/x-python",
   "name": "python",
   "nbconvert_exporter": "python",
   "pygments_lexer": "ipython2",
   "version": "2.7.12"
  },
  "latex_envs": {
   "bibliofile": "biblio.bib",
   "cite_by": "apalike",
   "current_citInitial": 1,
   "eqLabelWithNumbers": true,
   "eqNumInitial": 0
  }
 },
 "nbformat": 4,
 "nbformat_minor": 0
}
