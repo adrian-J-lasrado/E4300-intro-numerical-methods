{
 "cells": [
  {
   "cell_type": "code",
   "execution_count": 1,
   "metadata": {
    "collapsed": true
   },
   "outputs": [],
   "source": [
    "%matplotlib inline\n",
    "import numpy\n",
    "import matplotlib.pyplot as plt"
   ]
  },
  {
   "cell_type": "markdown",
   "metadata": {},
   "source": [
    "# Group Work 3 - Interpolation\n",
    "\n",
    "\n",
    "Additional resource: http://www.math.niu.edu/~dattab/MATH435.2013/INTERPOLATION"
   ]
  },
  {
   "cell_type": "markdown",
   "metadata": {},
   "source": [
    "**(a)** Based on the principals of an interpolating polynomial, write the general system of equations for an interpolating polynomial $P_N(x)$ of degree $N$ that goes through $N+1$ points represent. Express this in matrix notation."
   ]
  },
  {
   "cell_type": "markdown",
   "metadata": {},
   "source": [
    "$$P_N(x) = \\begin{bmatrix} \n",
    "    1      & x_0    & x_0^2  & \\cdots & x_0^N  \\\\\n",
    "    1      & x_1    & x_1^2  & \\cdots & x_1^N  \\\\\n",
    "    \\vdots & \\vdots & \\vdots & \\ddots & \\vdots \\\\\n",
    "    1      & x_n    & x_n^2  & \\cdots & x_n^N\n",
    "\\end{bmatrix} \\begin{bmatrix} p_0  \\\\ p_1  \\\\ \\vdots \\\\ p_n \\end{bmatrix} = \\begin{bmatrix} y_0  \\\\ y_1  \\\\ \\vdots \\\\ y_n \\end{bmatrix}$$"
   ]
  },
  {
   "cell_type": "markdown",
   "metadata": {},
   "source": [
    "**(b)** What does the system of equations look like if you use the Lagrangian basis?  Can you represent this in matrix form?  Think about the basis and its role in the previous question. (Hint: start from the definition of an interpolating polynomial and what it must satisfy. )"
   ]
  },
  {
   "cell_type": "markdown",
   "metadata": {},
   "source": [
    "$$\\begin{bmatrix} l_0  & l_1  & \\cdots & l_n \\end{bmatrix} \\begin{bmatrix} y_0  \\\\ y_1  \\\\ \\vdots \\\\ y_n \\end{bmatrix} =  \\begin{bmatrix} p_0  \\\\ p_1  \\\\ \\vdots \\\\ p_n \\end{bmatrix}$$\n",
    "\n",
    "Given that $L_k(x_k) = 1$ and $L_k(x_i) = 0$, $i \\neq k $\n",
    "$$\\begin{bmatrix} \n",
    "    1      & 0      &  0     & \\cdots & 0  \\\\\n",
    "    0      & 1      & 0      & \\cdots & 0  \\\\\n",
    "    \\vdots & \\vdots & \\vdots & \\ddots & \\vdots \\\\\n",
    "    0      & 0    & 0  & \\cdots & 1\n",
    "\\end{bmatrix} \\begin{bmatrix} y_0  \\\\ y_1  \\\\ \\vdots \\\\ y_n \\end{bmatrix} =  \\begin{bmatrix} p_0  \\\\ p_1  \\\\ \\vdots \\\\ p_n \\end{bmatrix}$$"
   ]
  },
  {
   "cell_type": "markdown",
   "metadata": {},
   "source": [
    "**(c)** Are the systems you just derived related?  What conclusion can you draw based on these two examples about the form of the linear system to find the coefficients?"
   ]
  },
  {
   "cell_type": "markdown",
   "metadata": {},
   "source": [
    "these two system are related becaue they are equavalent, based on these two examples, the second example uses lagrangian base as the coefficient matrix, this reprentation makes the system looks less complex and less computing process."
   ]
  },
  {
   "cell_type": "markdown",
   "metadata": {},
   "source": [
    "**(c)** Generate $N+1$ random points (take $N+1$ as user input), and construct the interpolating polynomial using a monomial basis.  For this exercise assume $x \\in [-\\pi, \\pi]$."
   ]
  },
  {
   "cell_type": "code",
   "execution_count": 3,
   "metadata": {
    "collapsed": false
   },
   "outputs": [
    {
     "name": "stdout",
     "output_type": "stream",
     "text": [
      "p [ 5.8733015  -0.01658219 -2.92878112 -0.04110363  0.30896318]\n"
     ]
    },
    {
     "data": {
      "image/png": "[encoded data removed]",
      "text/plain": [
       "<matplotlib.figure.Figure at 0x10a337ed0>"
      ]
     },
     "metadata": {},
     "output_type": "display_data"
    }
   ],
   "source": [
    "# Polynomial order = N, Number of random points = N + 1\n",
    "import numpy\n",
    "\n",
    "N = 4\n",
    "a = numpy.zeros([N + 1, N + 1])\n",
    "x = numpy.linspace(-numpy.pi,numpy.pi,100)\n",
    "y = numpy.zeros(100)\n",
    "\n",
    "x_rand = numpy.random.rand(N + 1) * (2.0*numpy.pi) - numpy.pi\n",
    "x_rand.sort()\n",
    "y_rand = numpy.random.rand(N + 1) * 4\n",
    "b = y_rand\n",
    "#Get the parameters of Polynomial\n",
    "for i in xrange(N + 1):\n",
    "    for j in xrange(N + 1):\n",
    "        if(j == 0):\n",
    "            a[i, j] = 1\n",
    "        a[i, j] = x_rand[i]**(j)   \n",
    "p = numpy.linalg.solve(a, b)   #The function return the smallest first\n",
    "#p1 = numpy.polyfit(x_rand,y_rand,N)\n",
    "print \"p\",p\n",
    "#print \"p1\",p1\n",
    "#plot the Polynomial\n",
    "for m in xrange(100):\n",
    "    for n in xrange(N+1):\n",
    "        y[m] += p[n]*x[m]**n\n",
    "        \n",
    "\n",
    "plt.plot(x_rand,y_rand,'ro')\n",
    "plt.plot(x,y,'b')\n",
    "plt.show()"
   ]
  },
  {
   "cell_type": "markdown",
   "metadata": {},
   "source": [
    "**(d)** Do the same as before except use a Lagrangian basis."
   ]
  },
  {
   "cell_type": "code",
   "execution_count": 4,
   "metadata": {
    "collapsed": false
   },
   "outputs": [
    {
     "data": {
      "text/plain": [
       "[<matplotlib.lines.Line2D at 0x10a355550>]"
      ]
     },
     "execution_count": 4,
     "metadata": {},
     "output_type": "execute_result"
    },
    {
     "data": {
      "image/png": "[encoded data removed]",
      "text/plain": [
       "<matplotlib.figure.Figure at 0x10a337bd0>"
      ]
     },
     "metadata": {},
     "output_type": "display_data"
    }
   ],
   "source": [
    "x = numpy.linspace(-numpy.pi,numpy.pi,100)\n",
    "lagrange_basis = numpy.ones((N + 1, x.shape[0]))\n",
    "i = 0\n",
    "j = 0\n",
    "for i in xrange(N + 1):\n",
    "    for j in xrange(N + 1):\n",
    "        if i != j:\n",
    "            lagrange_basis[i, :] *= (x - x_rand[j]) / (x_rand[i] - x_rand[j])\n",
    "P = numpy.zeros(x.shape[0])\n",
    "for n in xrange(N + 1):\n",
    "    P += lagrange_basis[n,:] * y_rand[n]\n",
    "    \n",
    "plt.plot(x_rand,y_rand,'o')\n",
    "plt.plot(x,P,'b')"
   ]
  },
  {
   "cell_type": "markdown",
   "metadata": {},
   "source": [
    "**(e)** What do you observe about the basis when we leave the interval $[-\\pi, pi]$?"
   ]
  },
  {
   "cell_type": "markdown",
   "metadata": {},
   "source": [
    "the error gets larger outside of the interval range, becasue the lagrangian base depends on the input of the x, if the x is out of the range, the error gets larger and unpredictable."
   ]
  },
  {
   "cell_type": "code",
   "execution_count": null,
   "metadata": {
    "collapsed": true
   },
   "outputs": [],
   "source": []
  }
 ],
 "metadata": {
  "anaconda-cloud": {},
  "kernelspec": {
   "display_name": "Python [Root]",
   "language": "python",
   "name": "Python [Root]"
  },
  "language_info": {
   "codemirror_mode": {
    "name": "ipython",
    "version": 2
   },
   "file_extension": ".py",
   "mimetype": "text/x-python",
   "name": "python",
   "nbconvert_exporter": "python",
   "pygments_lexer": "ipython2",
   "version": "2.7.12"
  },
  "latex_envs": {
   "bibliofile": "biblio.bib",
   "cite_by": "apalike",
   "current_citInitial": 1,
   "eqLabelWithNumbers": true,
   "eqNumInitial": 0
  }
 },
 "nbformat": 4,
 "nbformat_minor": 0
}
