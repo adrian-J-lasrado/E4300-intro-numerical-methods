{
 "cells": [
  {
   "cell_type": "code",
   "execution_count": 1,
   "metadata": {
    "collapsed": false,
    "nbgrader": {
     "grade": false,
     "grade_id": "header1",
     "locked": false,
     "solution": false
    }
   },
   "outputs": [],
   "source": [
    "%matplotlib inline\n",
    "%precision 16\n",
    "import numpy\n",
    "import matplotlib.pyplot as plt"
   ]
  },
  {
   "cell_type": "markdown",
   "metadata": {
    "nbgrader": {
     "grade": false,
     "grade_id": "header2",
     "locked": true,
     "solution": false
    }
   },
   "source": [
    "Before you turn this problem in, make sure everything runs as expected. First, restart the kernel (in the menubar, select Kernel $\\rightarrow$ Restart) and then run all cells (in the menubar, select Cell $\\rightarrow$ Run All).\n",
    "\n",
    "Make sure you fill in any place that says YOUR CODE HERE or \"YOUR ANSWER HERE\", as well as your name and collaborators below:"
   ]
  },
  {
   "cell_type": "markdown",
   "metadata": {
    "nbgrader": {
     "grade": false,
     "grade_id": "header3",
     "locked": true,
     "solution": false
    }
   },
   "source": [
    "# HW 4:  Numerical Differentiation and Quadrature"
   ]
  },
  {
   "cell_type": "markdown",
   "metadata": {
    "nbgrader": {
     "grade": false,
     "grade_id": "Q-1",
     "locked": true,
     "solution": false
    }
   },
   "source": [
    "## Question 1 - Fundamental Theorem of Calculus"
   ]
  },
  {
   "cell_type": "markdown",
   "metadata": {
    "nbgrader": {
     "grade": false,
     "grade_id": "Q-1a",
     "locked": true,
     "solution": false
    }
   },
   "source": [
    "**(a)** (15) Write a function that computes the integral of the derivative \n",
    "\n",
    "$$I[f] = \\int^x_0 f'(\\hat{x}) d\\hat{x}$$\n",
    "\n",
    "and returns the error from the expected calculation.  Use a second order accurate centered difference scheme and then a left-hand rule to compute the absolute error.  In this case the left-hand quadrature is\n",
    "\n",
    "$$Q[f] = f(x_i) \\Delta x$$\n",
    "\n",
    "The function should take in $x$ values and the function $f(x)$ and return a vector of the **errors** for each value $x$ given."
   ]
  },
  {
   "cell_type": "code",
   "execution_count": 2,
   "metadata": {
    "collapsed": false,
    "nbgrader": {
     "grade": false,
     "grade_id": "A-1a",
     "locked": false,
     "solution": true
    }
   },
   "outputs": [],
   "source": [
    "def int_diff_error(x, f):\n",
    "    ### INSERT CODE HERE\n",
    "    delta_x = x[1] - x[0]\n",
    "    \n",
    "    # Compute Derivative\n",
    "    f_prime = numpy.empty(x.shape)\n",
    "    f_prime[1:-1] = (f(x[2:]) - f(x[:-2])) / (2 * delta_x)\n",
    "    f_prime[0] = (f(x[1]) - f(x[0])) / delta_x     # Forward Difference at x_0\n",
    "    f_prime[-1] = (f(x[-1]) - f(x[-2])) / delta_x  # Backward Difference at x_N\n",
    "    \n",
    "    # Compute Quadrature \n",
    "    Qf = numpy.zeros(x.shape)\n",
    "    Qf[0] = f_prime[0] * delta_x\n",
    "    for i in xrange(1, numpy.size(x)):\n",
    "        Qf[i] = Qf[i - 1] + f_prime[i] * delta_x\n",
    "        \n",
    "    error = abs(Qf - (f(x) - 1.0))\n",
    "    return error"
   ]
  },
  {
   "cell_type": "code",
   "execution_count": 3,
   "metadata": {
    "collapsed": false,
    "nbgrader": {
     "grade": true,
     "grade_id": "T-1a",
     "locked": true,
     "points": 15,
     "solution": false
    }
   },
   "outputs": [
    {
     "name": "stdout",
     "output_type": "stream",
     "text": [
      "0.00670785973681\n",
      "Successful FTC evaluation.\n"
     ]
    }
   ],
   "source": [
    "f = lambda x: 1.0 / (1.0 + 100.0 * x**2)\n",
    "x = numpy.linspace(0.0, 1.0, 500)\n",
    "print numpy.max(int_diff_error(x, f))\n",
    "numpy.testing.assert_allclose(int_diff_error(x, f), numpy.zeros(500), atol=1e-2)\n",
    "print \"Successful FTC evaluation.\""
   ]
  },
  {
   "cell_type": "markdown",
   "metadata": {
    "nbgrader": {
     "grade": false,
     "grade_id": "Q-1b",
     "locked": true,
     "solution": false
    }
   },
   "source": [
    "**(b)** (15) Compute the same as above except reverse the order of the operations, i.e.\n",
    "\n",
    "$$D[f] = \\frac{\\text{d}}{\\text{d}x} \\int^x_0 f(\\hat{x}) d\\hat{x}$$\n"
   ]
  },
  {
   "cell_type": "code",
   "execution_count": 4,
   "metadata": {
    "collapsed": false,
    "nbgrader": {
     "grade": false,
     "grade_id": "A-1b",
     "locked": false,
     "solution": true
    }
   },
   "outputs": [],
   "source": [
    "def diff_int_error(x, f):\n",
    "    ### INSERT CODE HERE\n",
    "    delta_x = x[1] - x[0]\n",
    "    \n",
    "    # Compute Quadrature \n",
    "    Qf = numpy.zeros(x.shape)\n",
    "    Qf[0] = f(x[0]) * delta_x\n",
    "    for i in xrange(1, numpy.size(x)):\n",
    "        Qf[i] = Qf[i - 1] + f(x[i]) * delta_x\n",
    "    \n",
    "    # Compute Derivative\n",
    "    f_prime = numpy.empty(x.shape)\n",
    "    f_prime[1:-1] = (Qf[2:] - Qf[:-2]) / (2 * delta_x)\n",
    "    f_prime[0] = (Qf[1] - Qf[0]) / delta_x     # Forward Difference at x_0\n",
    "    f_prime[-1] = (Qf[-1] - Qf[-2]) / delta_x  # Backward Difference at x_N\n",
    "    \n",
    "    error = abs(f_prime - f(x))\n",
    "    return error"
   ]
  },
  {
   "cell_type": "code",
   "execution_count": 5,
   "metadata": {
    "collapsed": false,
    "nbgrader": {
     "grade": true,
     "grade_id": "T-1b",
     "locked": true,
     "points": 15,
     "solution": false
    }
   },
   "outputs": [
    {
     "name": "stdout",
     "output_type": "stream",
     "text": [
      "0.00650713794123\n",
      "Successful FTC evaluation.\n"
     ]
    }
   ],
   "source": [
    "f = lambda x: 1.0 / (1.0 + 100.0 * x**2)\n",
    "x = numpy.linspace(0.0, 1.0, 500)\n",
    "print numpy.max(diff_int_error(x, f))\n",
    "numpy.testing.assert_allclose(diff_int_error(x, f), numpy.zeros(500), atol=1e-2)\n",
    "print \"Successful FTC evaluation.\""
   ]
  },
  {
   "cell_type": "markdown",
   "metadata": {
    "nbgrader": {
     "grade": false,
     "grade_id": "Q-1c",
     "locked": true,
     "solution": false
    }
   },
   "source": [
    "**(c)** (10) Plot the convergence rate for the number of partitions `N = [10,100,200,300,400,500]` on a `loglog` plot by computing the norm over the error given for each $N$ by using the `numpy.linalg.norm` command with `ord=2` vs. the $\\Delta x$ used.  Theorize about what you observe regarding the order of convergence."
   ]
  },
  {
   "cell_type": "markdown",
   "metadata": {
    "nbgrader": {
     "grade": true,
     "grade_id": "A-1c1",
     "locked": false,
     "points": 5,
     "solution": true
    }
   },
   "source": []
  },
  {
   "cell_type": "code",
   "execution_count": 6,
   "metadata": {
    "collapsed": false,
    "nbgrader": {
     "grade": true,
     "grade_id": "A-1c2",
     "locked": false,
     "points": 5,
     "solution": true
    }
   },
   "outputs": [
    {
     "data": {
      "text/plain": [
       "<matplotlib.legend.Legend at 0x10c757890>"
      ]
     },
     "execution_count": 6,
     "metadata": {},
     "output_type": "execute_result"
    },
    {
     "data": {
      "image/png": "[encoded data removed]",
      "text/plain": [
       "<matplotlib.figure.Figure at 0x103cc8890>"
      ]
     },
     "metadata": {},
     "output_type": "display_data"
    }
   ],
   "source": [
    "### INSERT CODE HERE\n",
    "f = lambda x: 1.0 / (1.0 + 100.0 * x**2)\n",
    "error_diff = []\n",
    "error_int = []\n",
    "delta_x = []\n",
    "N = [10,100,200,300,400,500]\n",
    "for i in xrange(numpy.size(N)):\n",
    "    x = numpy.linspace(0.0, 1.0, N[i])\n",
    "    delta_x.append(x[1] - x[0])\n",
    "    #computes the derivative of the integral\n",
    "    error_diff.append(numpy.linalg.norm(numpy.abs(diff_int_error(x, f)), ord=2))\n",
    "    #computes the integral of the derivative\n",
    "    error_int.append(numpy.linalg.norm(numpy.abs(int_diff_error(x, f)), ord=2))\n",
    "\n",
    "error_diff = numpy.array(error_diff)\n",
    "error_int = numpy.array(error_int)\n",
    "#Plot Related\n",
    "plt.loglog(delta_x,error_int,\"bo\",label=\"error_int\")\n",
    "plt.loglog(delta_x,error_diff,\"ro\",label=\"error_diff\")\n",
    "order_C = lambda delta_x, error_diff, order: numpy.exp(numpy.log(error_diff) - order * numpy.log(delta_x))\n",
    "plt.loglog(delta_x, order_C(delta_x[0], error_int[0], 0.8) * numpy.power(delta_x,0.8), 'b--', label=\"0.8nd Order\")\n",
    "plt.loglog(delta_x, order_C(delta_x[0], error_diff[0], 0.65) * numpy.power(delta_x,0.65), 'r--', label=\"0.65st Order\")\n",
    "plt.xlabel(\"$\\Delta x$\")\n",
    "plt.title(\"Errors for $I_c$\")\n",
    "plt.legend(loc=4)"
   ]
  },
  {
   "cell_type": "markdown",
   "metadata": {
    "nbgrader": {
     "grade": false,
     "grade_id": "Q-2",
     "locked": true,
     "solution": false
    }
   },
   "source": [
    "## Question 2 - Quadrature\n",
    "\n",
    "Consider the scaled Fresnel integrals\n",
    "\n",
    "$$I_c = \\int^1_0 \\frac{\\cos x}{\\sqrt{x}} dx~~~~\\text{and}~~~~I_s = \\int^1_0 \\frac{\\sin x}{\\sqrt{x}} dx$$\n",
    "\n",
    "which have values\n",
    "\n",
    "$$I_c = \\sqrt{2 \\pi} \\cdot C\\left(\\sqrt{\\frac{2}{\\pi}}\\right) \\approx 1.8090484758005438$$\n",
    "\n",
    "$$I_s = \\sqrt{2 \\pi} \\cdot S\\left(\\sqrt{\\frac{2}{\\pi}}\\right) \\approx 0.62053660344676231$$\n",
    "\n",
    "where the functions $C(x)$ and $S(x)$ can be evaluated by `scipy.special.fresnel`."
   ]
  },
  {
   "cell_type": "markdown",
   "metadata": {
    "nbgrader": {
     "grade": false,
     "grade_id": "Q-2a",
     "locked": true,
     "solution": false
    }
   },
   "source": [
    "**(a)** (10) Write a function that computes both integrals using the  trapezoidal rule with N partitions of equal length \"ignoring\" the singularity at $x=0$ by setting integrands to 0."
   ]
  },
  {
   "cell_type": "code",
   "execution_count": 7,
   "metadata": {
    "collapsed": true,
    "nbgrader": {
     "grade": false,
     "grade_id": "A-2a",
     "locked": false,
     "solution": true
    }
   },
   "outputs": [],
   "source": [
    "def trap_1(N):\n",
    "    ### INSERT CODE HERE\n",
    "    fc = lambda x: numpy.cos(x) / numpy.sqrt(x)\n",
    "    fs = lambda x: numpy.sin(x) / numpy.sqrt(x)\n",
    "    x = numpy.linspace(0.0, 1.0, N+1)\n",
    "    delta_x = x[1] - x[0]\n",
    "    #Calculate Ic\n",
    "    Qc = numpy.zeros(N)\n",
    "    Qc[0] = (fc(x[1]) + 0.0) * delta_x / 2.0\n",
    "    for i in xrange(1, N):\n",
    "        Qc[i] = Qc[i - 1] + (fc(x[i + 1]) + fc(x[i])) * delta_x / 2.0\n",
    "    #Calculate Is\n",
    "    Qs = numpy.zeros(N)\n",
    "    Qs[0] = (fs(x[1]) + 0.0) * delta_x / 2.0\n",
    "    for i in xrange(1, N):\n",
    "        Qs[i] = Qs[i - 1] + (fs(x[i + 1]) + fs(x[i])) * delta_x / 2.0\n",
    "    Is = Qs[N-1]\n",
    "    Ic = Qc[N-1]\n",
    "    return Is, Ic"
   ]
  },
  {
   "cell_type": "code",
   "execution_count": 8,
   "metadata": {
    "collapsed": false,
    "nbgrader": {
     "grade": true,
     "grade_id": "T-2a",
     "locked": true,
     "points": 10,
     "solution": false
    }
   },
   "outputs": [
    {
     "name": "stdout",
     "output_type": "stream",
     "text": [
      "Error: 7.32497950293e-05\n",
      "Computed the integrals correctly using the trapezoidal rule only.\n"
     ]
    }
   ],
   "source": [
    "import scipy.special\n",
    "Is, Ic = scipy.special.fresnel(numpy.sqrt(2.0 / numpy.pi))\n",
    "Is *= numpy.sqrt(2.0 * numpy.pi)\n",
    "Ic *= numpy.sqrt(2.0 * numpy.pi)\n",
    "Is_hat, Ic_hat = trap_1(200)\n",
    "error = numpy.abs(Is_hat - Is)\n",
    "print \"Error: %s\" % error\n",
    "numpy.testing.assert_allclose(error, 0.0, atol=1e-4)\n",
    "print \"Computed the integrals correctly using the trapezoidal rule only.\"    "
   ]
  },
  {
   "cell_type": "markdown",
   "metadata": {
    "nbgrader": {
     "grade": false,
     "grade_id": "Q-2b",
     "locked": true,
     "solution": false
    }
   },
   "source": [
    "**(b)** (10) A weighted Newton-Cotes quadrature rule is a modification of our version of Newton-Cotes quadrature except that we also multiply by a weighting function such that\n",
    "\n",
    "$$\\int^1_0 w(x) f(x) dx = \\sum^{N}_{i=1} w_i f(x_i)$$\n",
    "\n",
    "For the weight $x^{-1/2}$ we can show that \n",
    "\n",
    "$$\\int^1_0 \\frac{f(x)}{\\sqrt{x}} dx \\approx \\frac{2}{3} (2 f(0) + f(1))$$\n",
    "\n",
    "Combining this formula with the trapezoidal rule approach above, evaluate the integrals again by using the trapezoid rule except for the partition $[0,\\Delta x]$ that involves the singularity use the above weighted Newton-Cotes rule.  Note that you will have to map the rule to the partition."
   ]
  },
  {
   "cell_type": "code",
   "execution_count": 9,
   "metadata": {
    "collapsed": true,
    "nbgrader": {
     "grade": false,
     "grade_id": "A-2b",
     "locked": false,
     "solution": true
    }
   },
   "outputs": [],
   "source": [
    "def trap_wnc(N):\n",
    "    ### INSERT CODE HERE\n",
    "    fc = lambda x: numpy.cos(x) / numpy.sqrt(x)\n",
    "    fs = lambda x: numpy.sin(x) / numpy.sqrt(x)\n",
    "    x = numpy.linspace(0.0, 1.0, N+1)\n",
    "    delta_x = x[1] - x[0]\n",
    "    #Calculate Ic\n",
    "    Qc = numpy.zeros(N)\n",
    "    Qc[0] = (fc(x[1]) + 0.0) * delta_x * 2/3 \n",
    "    for i in xrange(1, N):\n",
    "        Qc[i] = Qc[i - 1] + (fc(x[i + 1]) + fc(x[i])) * delta_x / 2.0\n",
    "    #Calculate Is\n",
    "    Qs = numpy.zeros(N)\n",
    "    Qs[0] = (fs(x[1]) + 0.0) * delta_x * 2/3\n",
    "    for i in xrange(1, N):\n",
    "        Qs[i] = Qs[i - 1] + (fs(x[i + 1]) + fs(x[i])) * delta_x / 2.0\n",
    "    Is = Qs[N-1]\n",
    "    Ic = Qc[N-1]\n",
    "    return Is, Ic"
   ]
  },
  {
   "cell_type": "code",
   "execution_count": 10,
   "metadata": {
    "collapsed": false,
    "nbgrader": {
     "grade": true,
     "grade_id": "T-2b",
     "locked": true,
     "points": 10,
     "solution": false
    },
    "scrolled": true
   },
   "outputs": [
    {
     "name": "stdout",
     "output_type": "stream",
     "text": [
      "Error: 1.43244754534e-05\n",
      "Computed the integrals correctly using the trapezoidal and Newton-Cotes rules.\n"
     ]
    }
   ],
   "source": [
    "import scipy.special\n",
    "Is, Ic = scipy.special.fresnel(numpy.sqrt(2.0 / numpy.pi))\n",
    "Is *= numpy.sqrt(2.0 * numpy.pi)\n",
    "Ic *= numpy.sqrt(2.0 * numpy.pi)\n",
    "Is_hat, Ic_hat = trap_wnc(200)\n",
    "error = numpy.abs(Is_hat - Is)\n",
    "print \"Error: %s\" % error\n",
    "numpy.testing.assert_allclose(error, 0.0, atol=1e-4)\n",
    "print \"Computed the integrals correctly using the trapezoidal and Newton-Cotes rules.\"    "
   ]
  },
  {
   "cell_type": "markdown",
   "metadata": {
    "nbgrader": {
     "grade": false,
     "grade_id": "Q-2c",
     "locked": true,
     "solution": false
    }
   },
   "source": [
    "**(c)** (10) Do a change of variables $x = t^2$ and evaluate each integral using the trapezoidal rule for the entire domain."
   ]
  },
  {
   "cell_type": "code",
   "execution_count": 11,
   "metadata": {
    "collapsed": true,
    "nbgrader": {
     "grade": false,
     "grade_id": "A-2c",
     "locked": false,
     "solution": true
    }
   },
   "outputs": [],
   "source": [
    "def trap_transformed(N):\n",
    "    ### INSERT CODE HERE\n",
    "    fc = lambda x: 2 * numpy.cos(x**2)\n",
    "    fs = lambda x: 2 * numpy.sin(x**2)\n",
    "    t = numpy.linspace(0.0, 1.0, N+1)\n",
    "    delta_x = t[1] - t[0]\n",
    "    #Calculate Ic\n",
    "    Qc = numpy.zeros(N)\n",
    "    Qc[0] = (fc(t[1]) + fc(t[0])) * delta_x / 2.0\n",
    "    for i in xrange(1, N):\n",
    "        Qc[i] = Qc[i - 1] + (fc(t[i + 1]) + fc(t[i])) * delta_x / 2.0\n",
    "    #Calculate Is\n",
    "    Qs = numpy.zeros(N)\n",
    "    Qs[0] = (fs(t[1]) + fs(t[0])) * delta_x / 2.0\n",
    "    for i in xrange(1, N):\n",
    "        Qs[i] = Qs[i - 1] + (fs(t[i + 1]) + fs(t[i])) * delta_x / 2.0\n",
    "    Is = Qs[N-1]\n",
    "    Ic = Qc[N-1]\n",
    "    return Is, Ic"
   ]
  },
  {
   "cell_type": "code",
   "execution_count": 12,
   "metadata": {
    "collapsed": false,
    "nbgrader": {
     "grade": true,
     "grade_id": "T-2c",
     "locked": true,
     "points": 10,
     "solution": false
    }
   },
   "outputs": [
    {
     "name": "stdout",
     "output_type": "stream",
     "text": [
      "Error: 4.50254425055e-06\n",
      "Computed the integrals correctly using the trapezoidal rule.\n"
     ]
    }
   ],
   "source": [
    "import scipy.special\n",
    "Is, Ic = scipy.special.fresnel(numpy.sqrt(2.0 / numpy.pi))\n",
    "Is *= numpy.sqrt(2.0 * numpy.pi)\n",
    "Ic *= numpy.sqrt(2.0 * numpy.pi)\n",
    "Is_hat, Ic_hat = trap_transformed(200)\n",
    "error = numpy.abs(Is_hat - Is)\n",
    "print \"Error: %s\" % error\n",
    "numpy.testing.assert_allclose(error, 0.0, atol=1e-5)\n",
    "print \"Computed the integrals correctly using the trapezoidal rule.\"    "
   ]
  },
  {
   "cell_type": "markdown",
   "metadata": {
    "nbgrader": {
     "grade": false,
     "grade_id": "Q-2d",
     "locked": true,
     "solution": false
    }
   },
   "source": [
    "**(d)** (10) Do the same as in part (c) but use 3-point Gauss-Legendre quadrature."
   ]
  },
  {
   "cell_type": "code",
   "execution_count": 13,
   "metadata": {
    "collapsed": true,
    "nbgrader": {
     "grade": false,
     "grade_id": "A-2d",
     "locked": false,
     "solution": true
    }
   },
   "outputs": [],
   "source": [
    "def gauss_legendre_3(N):\n",
    "    ### INSERT CODE HERE\n",
    "    fc = lambda x: 2 * numpy.cos(x**2)\n",
    "    fs = lambda x: 2 * numpy.sin(x**2)\n",
    "    x = numpy.linspace(0.0, 1.0, N+1)\n",
    "    delta_x = x[1] - x[0]\n",
    "    # Compute Gauss-Legendre 3-point\n",
    "    xi_map = lambda a,b,xi : (b - a) / 2.0 * xi + (a + b) / 2.0\n",
    "    xi = [-numpy.sqrt(3.0 / 5.0), 0.0, numpy.sqrt(3.0 / 5.0)]\n",
    "    w = [5.0 / 9.0, 8.0 / 9.0, 5.0 / 9.0]\n",
    "    #Calculate Ic\n",
    "    Qc = 0.0\n",
    "    for i in xrange(0, N):\n",
    "        for k in xrange(len(xi)):\n",
    "            Qc += fc(xi_map(x[i], x[i+1], xi[k])) * w[k]\n",
    "    Qc *= delta_x / 2.0 \n",
    "    #Calculate Is\n",
    "    Qs = 0.0\n",
    "    for i in xrange(0, N):\n",
    "        for k in xrange(len(xi)):\n",
    "            Qs += fs(xi_map(x[i], x[i+1], xi[k])) * w[k]\n",
    "    Qs *= delta_x / 2.0 \n",
    "    Ic = Qc\n",
    "    Is = Qs\n",
    "    return Is, Ic"
   ]
  },
  {
   "cell_type": "code",
   "execution_count": 14,
   "metadata": {
    "collapsed": false,
    "nbgrader": {
     "grade": true,
     "grade_id": "T-2d",
     "locked": true,
     "points": 10,
     "solution": false
    }
   },
   "outputs": [
    {
     "name": "stdout",
     "output_type": "stream",
     "text": [
      "Error: 8.57061088766e-11\n",
      "Computed the integrals correctly using the trapezoidal and Newton-Cotes rules.\n"
     ]
    }
   ],
   "source": [
    "import scipy.special\n",
    "Is, Ic = scipy.special.fresnel(numpy.sqrt(2.0 / numpy.pi))\n",
    "Is *= numpy.sqrt(2.0 * numpy.pi)\n",
    "Ic *= numpy.sqrt(2.0 * numpy.pi)\n",
    "Is_hat, Ic_hat = gauss_legendre_3(10)\n",
    "error = numpy.abs(Is_hat - Is)\n",
    "print \"Error: %s\" % error\n",
    "numpy.testing.assert_allclose(error, 0.0, atol=1e-10)\n",
    "print \"Computed the integrals correctly using the trapezoidal and Newton-Cotes rules.\"    "
   ]
  },
  {
   "cell_type": "markdown",
   "metadata": {
    "nbgrader": {
     "grade": false,
     "grade_id": "Q-2e",
     "locked": true,
     "solution": false
    }
   },
   "source": [
    "**(e)** (10) Check the order of accuracy for each of the methods above and plot these on a `loglog` plot with appropriate reference lines to indicate the order of each."
   ]
  },
  {
   "cell_type": "code",
   "execution_count": 15,
   "metadata": {
    "collapsed": false,
    "nbgrader": {
     "grade": true,
     "grade_id": "A-2e",
     "locked": false,
     "points": 10,
     "solution": true
    }
   },
   "outputs": [
    {
     "data": {
      "image/png": "[encoded data removed]",
      "text/plain": [
       "<matplotlib.figure.Figure at 0x10d1a3550>"
      ]
     },
     "metadata": {},
     "output_type": "display_data"
    },
    {
     "data": {
      "image/png": "[encoded data removed]",
      "text/plain": [
       "<matplotlib.figure.Figure at 0x10dd04410>"
      ]
     },
     "metadata": {},
     "output_type": "display_data"
    }
   ],
   "source": [
    "### INSERT CODE HERE\n",
    "import scipy.special\n",
    "#Create array\n",
    "num_partitions = range(50, 1000, 50)\n",
    "delta_x = numpy.empty(len(num_partitions))\n",
    "error_a_s = numpy.empty(len(num_partitions))\n",
    "error_a_c = numpy.empty(len(num_partitions))\n",
    "error_b_s = numpy.empty(len(num_partitions))\n",
    "error_b_c = numpy.empty(len(num_partitions))\n",
    "error_c_s = numpy.empty(len(num_partitions))\n",
    "error_c_c = numpy.empty(len(num_partitions))\n",
    "error_d_s = numpy.empty(len(num_partitions))\n",
    "error_d_c = numpy.empty(len(num_partitions))\n",
    "#Get answer\n",
    "Is, Ic = scipy.special.fresnel(numpy.sqrt(2.0 / numpy.pi))\n",
    "Is *= numpy.sqrt(2.0 * numpy.pi)\n",
    "Ic *= numpy.sqrt(2.0 * numpy.pi)\n",
    "#Get x value\n",
    "for (j, N) in enumerate(num_partitions):\n",
    "    x_hat = numpy.linspace(0.0, 1.0, N + 1)\n",
    "    delta_x[j] = x_hat[1] - x_hat[0]\n",
    "#Get data by using kinds of methods\n",
    "for i in xrange(numpy.size(num_partitions)):\n",
    "    #Trapezoidal Method\n",
    "    error_a_s[i],error_a_c[i] = trap_1(num_partitions[i])\n",
    "    error_a_s[i] = abs(error_a_s[i] - Is)\n",
    "    error_a_c[i] = abs(error_a_c[i] - Ic)\n",
    "    #Trapezoidal and Newton-Cotes rules\n",
    "    error_b_s[i],error_b_c[i] = trap_wnc(num_partitions[i])\n",
    "    error_b_s[i] = abs(error_b_s[i] - Is)\n",
    "    error_b_c[i] = abs(error_b_c[i] - Ic)\n",
    "    #Trapezoidal Method for Transformed\n",
    "    error_c_s[i],error_c_c[i] = trap_transformed(num_partitions[i])\n",
    "    error_c_s[i] = abs(error_c_s[i] - Is)\n",
    "    error_c_c[i] = abs(error_c_c[i] - Ic)\n",
    "    #3-point Gauss-Legendre Quadrature\n",
    "    error_d_s[i],error_d_c[i] = gauss_legendre_3(num_partitions[i])\n",
    "    error_d_s[i] = abs(error_d_s[i] - Is)\n",
    "    error_d_c[i] = abs(error_d_c[i] - Ic)\n",
    "\n",
    "#Plots for Is\n",
    "fig = plt.figure()\n",
    "axes = fig.add_subplot(1, 1, 1)\n",
    "plt.loglog(delta_x, error_a_s, 'bo', label=\"trap_1\")\n",
    "plt.loglog(delta_x, error_b_s, 'go', label=\"trap_wnc\")\n",
    "plt.loglog(delta_x, error_c_s, 'ro', label=\"trap_transformed\")\n",
    "plt.loglog(delta_x, error_d_s, 'co', label=\"gauss_legendre_3\")\n",
    "order_C = lambda delta_x, error_diff, order: numpy.exp(numpy.log(error_diff) - order * numpy.log(delta_x))\n",
    "plt.xlabel(\"$\\Delta x$\")\n",
    "plt.title(\"Errors for $I_s$\")\n",
    "plt.loglog(delta_x, order_C(delta_x[0], error_a_s[0], 1.5) * numpy.power(delta_x,1.5), 'b--', label=\"1.5st Order\")\n",
    "plt.loglog(delta_x, order_C(delta_x[0], error_b_s[0], 1.5) * numpy.power(delta_x,1.5), 'g--', label=\"1.5st Order\")\n",
    "plt.loglog(delta_x, order_C(delta_x[0], error_c_s[0], 2.0) * numpy.power(delta_x,2.0), 'r--', label=\"2.0st Order\")\n",
    "plt.legend(loc=4)\n",
    "#Plot for Ic\n",
    "fig = plt.figure()\n",
    "axes = fig.add_subplot(1, 1, 1)\n",
    "plt.loglog(delta_x, error_a_c, 'o', label=\"trap_1\")\n",
    "plt.loglog(delta_x, error_b_c, 'o', label=\"trap_wnc\")\n",
    "plt.loglog(delta_x, error_c_c, 'o', label=\"trap_transformed\")\n",
    "plt.loglog(delta_x, error_d_c, 'o', label=\"gauss_legendre_3\")\n",
    "plt.loglog(delta_x, order_C(delta_x[0], error_a_c[0], 0.5) * numpy.power(delta_x,0.5), 'b--', label=\"0.5st Order\")\n",
    "plt.loglog(delta_x, order_C(delta_x[0], error_b_c[0], 0.5) * numpy.power(delta_x,0.5), 'g--', label=\"0.5st Order\")\n",
    "plt.loglog(delta_x, order_C(delta_x[0], error_c_c[0], 2.0) * numpy.power(delta_x,2.0), 'r--', label=\"2.0st Order\")\n",
    "plt.xlabel(\"$\\Delta x$\")\n",
    "plt.title(\"Errors for $I_c$\")\n",
    "plt.legend(loc=4)\n",
    "\n",
    "plt.show()"
   ]
  },
  {
   "cell_type": "markdown",
   "metadata": {
    "nbgrader": {
     "grade": false,
     "grade_id": "Q-2f",
     "locked": true,
     "solution": false
    }
   },
   "source": [
    "**(f)** (10) Comment on the results of this question and the vast differences in convergence rates even between the two integrations (why is $I_c$ less accurate than $I_s$)."
   ]
  },
  {
   "cell_type": "markdown",
   "metadata": {
    "nbgrader": {
     "grade": true,
     "grade_id": "A-2f",
     "locked": false,
     "points": 10,
     "solution": true
    }
   },
   "source": [
    "### Solution\n",
    "1. From the results, we can derive that the accuracy of kinds of methods are: 3-point Gauss-Legendre quadrature > Transformed > Weighted Newton-Cotes quadrature > Trapezoidal rule\n",
    "\n",
    "2. The Trapezoidal rule and Weighted Newton-Cotes quadrature is about 1st order on convergence. The Transformed  is about 2st order on convergence.\n",
    "\n",
    "3. 3-point Gauss-Legendre quadrature has very small error at the beginning, and cannot find convergence line.\n",
    "\n",
    "4. $I_c$ is less accurate than $I_s$, because the $I_c = \\int^1_0 \\frac{\\cos x}{\\sqrt{x}} dx$, will have a big sigularity at the beginning. The intial points will have a big effect on the result. When x approach 0, the value for $I_c$ is much bigger than $I_s$. Therefore, $I_c$ is less accurate than $I_s$."
   ]
  },
  {
   "cell_type": "code",
   "execution_count": null,
   "metadata": {
    "collapsed": true
   },
   "outputs": [],
   "source": []
  }
 ],
 "metadata": {
  "celltoolbar": "Create Assignment",
  "kernelspec": {
   "display_name": "Python [Root]",
   "language": "python",
   "name": "Python [Root]"
  },
  "language_info": {
   "codemirror_mode": {
    "name": "ipython",
    "version": 2
   },
   "file_extension": ".py",
   "mimetype": "text/x-python",
   "name": "python",
   "nbconvert_exporter": "python",
   "pygments_lexer": "ipython2",
   "version": "2.7.12"
  }
 },
 "nbformat": 4,
 "nbformat_minor": 0
}
